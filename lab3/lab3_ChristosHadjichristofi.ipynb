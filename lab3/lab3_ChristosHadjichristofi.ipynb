{
 "cells": [
  {
   "cell_type": "markdown",
   "id": "1f35580e",
   "metadata": {},
   "source": [
    "<html><font size=6><B>3η εργαστηριακή άσκηση</B><BR>\n",
    "    <BR><B>Link prediction - Πρόβλεψη συνδέσμων</B></BR>\n",
    "    </font></html>"
   ]
  },
  {
   "cell_type": "code",
   "execution_count": 1,
   "id": "754fd9fb",
   "metadata": {},
   "outputs": [],
   "source": [
    "import matplotlib\n",
    "import networkx as nx\n",
    "import matplotlib.pyplot as plt\n",
    "import numpy as np\n",
    "import scipy as sp\n",
    "import pandas as pd\n",
    "from sklearn.metrics import accuracy_score\n",
    "from sklearn.metrics import recall_score\n",
    "from sklearn.metrics import precision_score"
   ]
  },
  {
   "cell_type": "markdown",
   "id": "b30af479",
   "metadata": {},
   "source": [
    "<html><font size=4><B>1. Κατασκευή γράφου και προεργασία για την πρόβλεψη συνδέσμων</B></font>\n",
    "    <li><B>1(i).</B> Χρησιμοποιήστε το dataset <a href=\"http://konect.cc/networks/dbpedia-similar/\"> Similarities (DBpedia)</a>, για να κατασκευάσετε τον μη κατευθυνόμενο (undirected) γράφο $G$ <a href=\"https://dl.acm.org/doi/10.1145/2487788.2488173\">[1]</a>,<a href=\"https://link.springer.com/chapter/10.1007/978-3-540-76298-0_52\">[2]</a>. Οι κόμβοι του γράφου αναπαριστούν σελίδες της Wikipedia και οι ακμές σχέση ομοιότητας μεταξύ τους. Στην σελίδα <a href=\"http://konect.cc/networks/dbpedia-similar/\"> KONECT (DBpedia)</a> μπορείτε να βρείτε πληροφορίες για τις ιδιότητες του γράφου.</a><BR>\n",
    "        <B><U>Υπόδειξη:</U></B> Μπορείτε να ελέγξετε προγραμματιστικά αν το dataset περιέχει διπλότυπα των ακμών με την ίδια ή αντίστροφη σειρά (π.χ. ακμές (a,b) και (b,a)), και να λάβετε υπ' όψιν σας αυτήν σας την παρατήρηση, όπου τυχόν χρειαστεί, στην ερώτηση 2.<BR></html>"
   ]
  },
  {
   "cell_type": "code",
   "execution_count": 2,
   "id": "f08dfdb4",
   "metadata": {},
   "outputs": [],
   "source": [
    "duplicate_edges = 0\n",
    "duplicate_edges_rev = 0\n",
    "\n",
    "graph = nx.Graph()\n",
    "\n",
    "with open(\"dbpedia.txt\") as file:\n",
    "    for l in file:\n",
    "        u_str, v_str = l.split(' ')\n",
    "        u, v = int(u_str) - 1, int(v_str) - 1\n",
    "        duplicate_edges += graph.has_edge(u, v)\n",
    "        duplicate_edges_rev += graph.has_edge(v, u)\n",
    "        graph.add_edge(u, v)"
   ]
  },
  {
   "cell_type": "code",
   "execution_count": 3,
   "id": "49863620",
   "metadata": {},
   "outputs": [
    {
     "name": "stdout",
     "output_type": "stream",
     "text": [
      "Graph with 430 nodes and 565 edges\n",
      "Duplicate Edges: 0\n",
      "Duplicate Edges (reversed): 0\n"
     ]
    }
   ],
   "source": [
    "print(graph)\n",
    "print('Duplicate Edges:', duplicate_edges)\n",
    "print('Duplicate Edges (reversed):', duplicate_edges_rev)"
   ]
  },
  {
   "cell_type": "markdown",
   "id": "4bd79bac",
   "metadata": {},
   "source": [
    " <li><B>1(ii).</B> Εμφανίστε τον αριθμό των κόμβων, τον αριθμό των ακμών, τον μέσο βαθμό των κόμβων και τον αριθμό των συνεκτικών συνιστωσών (connected components) για τον γράφο $G$.</li><BR>"
   ]
  },
  {
   "cell_type": "code",
   "execution_count": 4,
   "id": "b012d7c6",
   "metadata": {},
   "outputs": [],
   "source": [
    "def graph_details(name, graph):\n",
    "    initial_node_count = graph.number_of_nodes()\n",
    "    initial_edge_count = graph.number_of_edges()\n",
    "    initial_degree_avg = sum(nx.degree_centrality(graph).values()) / initial_node_count\n",
    "    initial_connected_components = nx.number_connected_components(graph)\n",
    "    print(name + \" number of Nodes:\", initial_node_count)\n",
    "    print(name + \" number of Edges:\", initial_edge_count)\n",
    "    print(name + \" Average Degree of Nodes:\", initial_degree_avg)\n",
    "    print(name + \" number of Connected Components:\", initial_connected_components)\n",
    "    return (initial_node_count, initial_edge_count, initial_degree_avg, initial_connected_components)"
   ]
  },
  {
   "cell_type": "code",
   "execution_count": 5,
   "id": "9277a4e2",
   "metadata": {},
   "outputs": [
    {
     "name": "stdout",
     "output_type": "stream",
     "text": [
      "Initial number of Nodes: 430\n",
      "Initial number of Edges: 565\n",
      "Initial Average Degree of Nodes: 0.0061256572884480125\n",
      "Initial number of Connected Components: 95\n"
     ]
    }
   ],
   "source": [
    "(initial_node_count, initial_edge_count, initial_degree_avg, initial_connected_components) = graph_details(\"Initial\", graph)"
   ]
  },
  {
   "cell_type": "markdown",
   "id": "bf03f6b9",
   "metadata": {},
   "source": [
    "<li><B>1(iii). </B>Υπολογίστε το σύνολο των ασύνδετων ζευγών κόμβων (unconnected pairs) στον γράφο χρησιμοποιώντας τον πίνακα γειτνίασης (adjacency matrix). Δώστε επίσης τον αριθμό τους. Λάβετε υπ' όψιν σας ότι ο γράφος είναι μη κατευθυνόμενος και δεν χρειάζεται να διατρέξετε ολόκληρο τον πίνακα γειτνίασης.</li><BR>"
   ]
  },
  {
   "cell_type": "code",
   "execution_count": 6,
   "id": "f68f852e",
   "metadata": {},
   "outputs": [
    {
     "name": "stdout",
     "output_type": "stream",
     "text": [
      "Number of Unconnected Pairs: 91671\n"
     ]
    }
   ],
   "source": [
    "unconnected_pairs = [\n",
    "    (i, j) for i in range(initial_node_count) \n",
    "    for j in range(i + 1, initial_node_count) \n",
    "    if (i, j) not in graph.edges()\n",
    "]\n",
    "\n",
    "print(\"Number of Unconnected Pairs:\", len(unconnected_pairs))"
   ]
  },
  {
   "cell_type": "markdown",
   "id": "154c2a8d",
   "metadata": {},
   "source": [
    "<li><B>1(iv).</B> Υπολογίστε το σύνολο των ακμών (removable edges) που μπορούν να αφαιρεθούν από τον γράφο χωρίς να υπάρχει κατάτμηση (splitting) του γράφου (δηλ. ο αριθμός των συνεκτικών συνιστωσών θα πρέπει να παραμένει αμετάβλητος). Υπόδειξη: Ελέγχετε επίσης ότι με αφαίρεση ακμής δεν μειώνεται ο αριθμός των κόμβων (εφόσον δεν υπάρχει ξεχωριστό αρχείο μόνο με κόμβους στο dataset). Δώστε επίσης τον αριθμό των ακμών (removable edges) που μπορούν να αφαιρεθούν υπό αυτές τις προϋποθέσεις.</li><BR>"
   ]
  },
  {
   "cell_type": "code",
   "execution_count": 7,
   "id": "b39c2241",
   "metadata": {},
   "outputs": [
    {
     "name": "stdout",
     "output_type": "stream",
     "text": [
      "Removable Edges: 229\n"
     ]
    }
   ],
   "source": [
    "removable_edges = []\n",
    "copy_graph = graph.copy()\n",
    "for edge in graph.edges():\n",
    "    copy_graph.remove_edge(*edge)\n",
    "    copy_node_cnt = copy_graph.number_of_nodes()\n",
    "    copy_conn_comps = nx.number_connected_components(copy_graph)\n",
    "    # remove edges that are not self edges && when deleted connected comps and node cnt stay the same\n",
    "    if (copy_conn_comps == initial_connected_components and copy_node_cnt == initial_node_count and edge[0] != edge[1]):\n",
    "        removable_edges.append(edge)\n",
    "    else:\n",
    "        copy_graph.add_edge(*edge)\n",
    "\n",
    "print(\"Removable Edges:\", len(removable_edges))"
   ]
  },
  {
   "cell_type": "markdown",
   "id": "2e575bfa",
   "metadata": {},
   "source": [
    "##### Παρατηρήσεις\n",
    "\n",
    "* Χρησιμοποιήθηκε ένα shallow copy του γράφου ώστε να μπορούμε να κάνουμε τις απαραίτητες αλλαγές κάθε φορά και να ελέγχουμε αν η αποκοπή της ακμής αυτής σπάει κάποια από τις προϋποθέσεις\n",
    "* Το self edge δεν προστέθηκε στο σύνολο των removable edges"
   ]
  },
  {
   "cell_type": "markdown",
   "id": "eb03d745",
   "metadata": {},
   "source": [
    "<li><B>1(vα).</B> Κατασκευάστε dataframe που συνενώνει τις απαντήσεις των ερωτημάτων 1(iii) και 1(iv) (unconnected+removables). Χρησιμοποιήστε την μεταβλητή $link$ που θα παίρνει τιμή 1 ή 0 ανάλογα με την ύπαρξη συνδέσμου ή μη. To dataframe αυτό συγκεντρώνει τα θετικά και αρνητικά δείγματα για την πρόβλεψη των μελλοντικών συνδέσεων (link: target variable). <BR>\n",
    "    <li><B>1(vβ).</B> Κατασκευάστε τον γράφο $G'$ που προκύπτει από την αφαίρεση από τον γράφο $G$ των ακμών του ερωτήματος 1(iv). <BR>\n",
    "    <li><B>1(vγ).</B> Εμφανίστε τον αριθμό των κόμβων, τον αριθμό των ακμών, τον μέσο βαθμό των κόμβων και τον αριθμό των συνεκτικών συνιστωσών (connected components) για τον γράφο $G'$.</li><BR>"
   ]
  },
  {
   "cell_type": "code",
   "execution_count": 8,
   "id": "cb033fc0",
   "metadata": {},
   "outputs": [],
   "source": [
    "df_edges = unconnected_pairs + removable_edges\n",
    "df_edges.sort()\n",
    "df_links = []\n",
    "\n",
    "for edge in df_edges:\n",
    "    if edge in unconnected_pairs:   df_links.append(0)\n",
    "    else:                           df_links.append(1)\n",
    "\n",
    "df = pd.DataFrame({'edge': df_edges, 'link': df_links})\n",
    "\n",
    "#build graph G' = G_reduced\n",
    "G_reduced = graph.copy()\n",
    "G_reduced.remove_edges_from(removable_edges)"
   ]
  },
  {
   "cell_type": "code",
   "execution_count": 9,
   "id": "cbb4732f",
   "metadata": {},
   "outputs": [
    {
     "data": {
      "text/html": [
       "<div>\n",
       "<style scoped>\n",
       "    .dataframe tbody tr th:only-of-type {\n",
       "        vertical-align: middle;\n",
       "    }\n",
       "\n",
       "    .dataframe tbody tr th {\n",
       "        vertical-align: top;\n",
       "    }\n",
       "\n",
       "    .dataframe thead th {\n",
       "        text-align: right;\n",
       "    }\n",
       "</style>\n",
       "<table border=\"1\" class=\"dataframe\">\n",
       "  <thead>\n",
       "    <tr style=\"text-align: right;\">\n",
       "      <th></th>\n",
       "      <th>edge</th>\n",
       "      <th>link</th>\n",
       "    </tr>\n",
       "  </thead>\n",
       "  <tbody>\n",
       "    <tr>\n",
       "      <th>0</th>\n",
       "      <td>(0, 1)</td>\n",
       "      <td>1</td>\n",
       "    </tr>\n",
       "    <tr>\n",
       "      <th>1</th>\n",
       "      <td>(0, 2)</td>\n",
       "      <td>1</td>\n",
       "    </tr>\n",
       "    <tr>\n",
       "      <th>2</th>\n",
       "      <td>(0, 3)</td>\n",
       "      <td>1</td>\n",
       "    </tr>\n",
       "    <tr>\n",
       "      <th>3</th>\n",
       "      <td>(0, 5)</td>\n",
       "      <td>0</td>\n",
       "    </tr>\n",
       "    <tr>\n",
       "      <th>4</th>\n",
       "      <td>(0, 6)</td>\n",
       "      <td>0</td>\n",
       "    </tr>\n",
       "    <tr>\n",
       "      <th>...</th>\n",
       "      <td>...</td>\n",
       "      <td>...</td>\n",
       "    </tr>\n",
       "    <tr>\n",
       "      <th>91895</th>\n",
       "      <td>(425, 429)</td>\n",
       "      <td>0</td>\n",
       "    </tr>\n",
       "    <tr>\n",
       "      <th>91896</th>\n",
       "      <td>(426, 427)</td>\n",
       "      <td>0</td>\n",
       "    </tr>\n",
       "    <tr>\n",
       "      <th>91897</th>\n",
       "      <td>(426, 428)</td>\n",
       "      <td>0</td>\n",
       "    </tr>\n",
       "    <tr>\n",
       "      <th>91898</th>\n",
       "      <td>(426, 429)</td>\n",
       "      <td>0</td>\n",
       "    </tr>\n",
       "    <tr>\n",
       "      <th>91899</th>\n",
       "      <td>(428, 429)</td>\n",
       "      <td>0</td>\n",
       "    </tr>\n",
       "  </tbody>\n",
       "</table>\n",
       "<p>91900 rows × 2 columns</p>\n",
       "</div>"
      ],
      "text/plain": [
       "             edge  link\n",
       "0          (0, 1)     1\n",
       "1          (0, 2)     1\n",
       "2          (0, 3)     1\n",
       "3          (0, 5)     0\n",
       "4          (0, 6)     0\n",
       "...           ...   ...\n",
       "91895  (425, 429)     0\n",
       "91896  (426, 427)     0\n",
       "91897  (426, 428)     0\n",
       "91898  (426, 429)     0\n",
       "91899  (428, 429)     0\n",
       "\n",
       "[91900 rows x 2 columns]"
      ]
     },
     "execution_count": 9,
     "metadata": {},
     "output_type": "execute_result"
    }
   ],
   "source": [
    "df"
   ]
  },
  {
   "cell_type": "code",
   "execution_count": 10,
   "id": "9e25d302",
   "metadata": {},
   "outputs": [
    {
     "name": "stdout",
     "output_type": "stream",
     "text": [
      "Reduced number of Nodes: 430\n",
      "Reduced number of Edges: 336\n",
      "Reduced Average Degree of Nodes: 0.0036428687591478492\n",
      "Reduced number of Connected Components: 95\n"
     ]
    }
   ],
   "source": [
    "_, _, _, _ = graph_details(\"Reduced\", G_reduced)"
   ]
  },
  {
   "cell_type": "markdown",
   "id": "184eae57",
   "metadata": {},
   "source": [
    "<html><font size=4><B>2. Εισαγωγή σε similarity-based μετρικές για Link prediction</B></font><BR><BR>\n",
    "     <li> Η μετρική <B>Jaccard Coefficient (JC)</B> των κόμβων ${u}$ και ${v}$ ορίζεται ως $\\frac{|\\Gamma(u) \\cap \\Gamma(v)|}{|\\Gamma(u) \\cup \\Gamma(v)|}$, όπου ${\\Gamma(u)}$ είναι το σύνολο των γειτονικών κόμβων του κόμβου ${u}$.  <B></B>\n",
    "        <li> Η μετρική <B>Preferential Αttachment (PA)</B> των κόμβων $u$ και $v$ ορίζεται ως $|\\Gamma(u)| |\\Gamma(v)|$, όπου $\\Gamma(u)$ είναι το σύνολο των γειτονικών κόμβων του $u$.</li>\n",
    "        <li> Η μετρική <B>Resource Allocation (RA)</B> των κόμβων $u$ και $v$ ορίζεται ως $\\sum_{w \\in \\Gamma(u) \\cap \\Gamma(v)} \\frac{1}{|\\Gamma(w)|}$, όπου $\\Gamma(u)$ είναι το σύνολο των γειτονικών κόμβων του $u$.</li><BR><BR>\n",
    "    <li><B>2(i).</B> Για τον γράφο $G'$, που κατασκευάσατε στο ερώτημα 1(vβ), υπολογίστε την μετρική <B>Jaccard Coefficient (JC)</B>.  <u><a href=\"https://networkx.org/documentation/stable/reference/algorithms/link_prediction.html?highlight=link%20prediction\">Χρησιμοποιήστε την υλοποιημένη συνάρτηση του λογισμικού NetworkX.<a></u> <BR><BR>\n",
    "    <li><B>2(ii). </B>Δώστε τις $k$ ακμές με την υψηλότερη τιμή μετρικής $JC$, όπου $k$ ο $Α.Μ.$ σας $mod$ $10$. Για $Α.Μ.$ λήγοντα σε $0$ δώστε τις $10$ ακμές με την υψηλότερη τιμή μετρικής.\n",
    "        (Για την σύγκριση μεταξύ διαφορετικών μετρικών προτιμάται η εύρεση των $k$ επικρατέστερων συνδέσμων, αφού οι μετρικές επιστρέφουν διαφορετικό εύρος τιμών.)</li><BR>\n",
    "    <li><B>2(iii). </B>Προσδιορίστε για την μέτρηση της απόδοσης της μετρικής $JC$ τα μεγέθη $Precision$, $Recall$ και $Accuracy$ και αναπαραστήστε τα γραφικά για τιμές κατωφλίου: $0.1$, $0.15$, $0.25$, $0.5$, $1.0$.  <BR><BR>\n",
    "    $Precision=\\frac{TP}{TP+FP}$, όπου $TP$: αληθώς θετικά αποτελέσματα, $FP$: ψευδώς θετικά αποτελέσματα <BR>\n",
    "    $Recall=\\frac{TP}{TP+FN}$, όπου $TP$: αληθώς θετικά αποτελέσματα, $FN$: ψευδώς αρνητικά αποτελέσματα</li> \n",
    "    $Accuracy=\\frac{TP+TN}{TP+FN+TN+FP}$, όπου $TP$: αληθώς θετικά αποτελέσματα, $TN$: αληθώς αρνητικά αποτελέσματα, $FN$: ψευδώς αρνητικά αποτελέσματα, $FP$: ψευδώς θετικά αποτελέσματα</li><BR><BR>\n",
    "        <B><U>Υπόδειξη:</U></B>\n",
    "        Θετικό θεωρήστε ένα αποτέλεσμα, αν η μετρική $JC$ υπερβαίνει μια τιμή κατωφλίου (>=). Αρνητικό θεωρήστε το στην αντίθετη περίπτωση.\n",
    "        <li>Αληθώς θετικά είναι τα αποτελέσματα που βγήκαν θετικά (η τιμή της $JC$ υπερβαίνει την τιμή κατωφλίου) και πράγματι θα υπάρξουν οι συνδέσεις που περιγράφουν (ερ. 1(iv)).</li>\n",
    "        <li>Αληθώς αρνητικά είναι τα αποτελέσματα που βγήκαν αρνητικά και πράγματι δεν θα υπάρξουν οι συνδέσεις που περιγράφουν (ερ. 1(iii)).</li>\n",
    "        <li>Ψευδώς θετικά είναι τα αποτελέσματα που βγήκαν θετικά, ενώ δεν θα υπάρξουν οι συνδέσεις που περιγράφουν.</li>\n",
    "        <li>Ψευδώς αρνητικά είναι τα αποτελέσματα που βγήκαν αρνητικά, ενώ θα υπάρξουν οι συνδέσεις που περιγράφουν.</li>\n",
    "        <li>Το άθροισμα $TN+FP$ πρέπει κάθε φορά να σας δίνει όλες τις ασύνδετες ακμές του γράφου $G$.</li>   \n",
    "<li>Από το ερώτημα 1(iii) οι ακμές που υπολογίσατε είναι αυτές για τις οποίες δεν θα υπάρξουν συνδέσεις.</li> <li>Από το ερώτημα 1(iv) οι ακμές που υπολογίσατε είναι αυτές για τις οποίες θα υπάρξουν συνδέσεις.</li><BR></html>"
   ]
  },
  {
   "cell_type": "code",
   "execution_count": 11,
   "id": "d8b0d5fd",
   "metadata": {},
   "outputs": [
    {
     "name": "stdout",
     "output_type": "stream",
     "text": [
      "Edge with the highest value [1.0] of JC Metrics: (3, 45)\n",
      "For threshold equal to 0.1:\n",
      "\tPrecision: 0.31287128712871287\n",
      "\tRecall: 0.6899563318777293\n",
      "\tAccuracy: 0.9954515778019587\n",
      "For threshold equal to 0.15:\n",
      "\tPrecision: 0.3162217659137577\n",
      "\tRecall: 0.6724890829694323\n",
      "\tAccuracy: 0.9955603917301414\n",
      "For threshold equal to 0.25:\n",
      "\tPrecision: 0.33482142857142855\n",
      "\tRecall: 0.6550218340611353\n",
      "\tAccuracy: 0.9958977149075081\n",
      "For threshold equal to 0.5:\n",
      "\tPrecision: 0.41389728096676737\n",
      "\tRecall: 0.5982532751091703\n",
      "\tAccuracy: 0.9968879216539717\n",
      "For threshold equal to 1.0:\n",
      "\tPrecision: 0.5101214574898786\n",
      "\tRecall: 0.5502183406113537\n",
      "\tAccuracy: 0.9975625680087051\n"
     ]
    },
    {
     "data": {
      "image/png": "[encoded data removed]",
      "text/plain": [
       "<Figure size 432x288 with 1 Axes>"
      ]
     },
     "metadata": {
      "needs_background": "light"
     },
     "output_type": "display_data"
    },
    {
     "data": {
      "image/png": "[encoded data removed]",
      "text/plain": [
       "<Figure size 432x288 with 1 Axes>"
      ]
     },
     "metadata": {
      "needs_background": "light"
     },
     "output_type": "display_data"
    },
    {
     "data": {
      "image/png": "[encoded data removed]",
      "text/plain": [
       "<Figure size 432x288 with 1 Axes>"
      ]
     },
     "metadata": {
      "needs_background": "light"
     },
     "output_type": "display_data"
    }
   ],
   "source": [
    "# 2(i)\n",
    "JC_preds = list(nx.algorithms.link_prediction.jaccard_coefficient(G_reduced))\n",
    "\n",
    "# 2(ii)\n",
    "# k = 1 -> 03117711\n",
    "edge = None\n",
    "max_p = 0\n",
    "\n",
    "# find the highest pred value\n",
    "for u, v, p in JC_preds:\n",
    "    if p > max_p:\n",
    "        max_p = p\n",
    "        edge = (u, v)\n",
    "\n",
    "print(\"Edge with the highest value [\" + str(max_p) + \"] of JC Metrics:\", edge)\n",
    "\n",
    "# 2(iii)\n",
    "JC_p_vals = []\n",
    "thresholds = [0.1, 0.15, 0.25, 0.5, 1.0]\n",
    "precision_vals = []\n",
    "recall_vals = []\n",
    "accuracy_vals = []\n",
    "\n",
    "# retrieve all preds in a list\n",
    "for _, _, p in JC_preds:\n",
    "    JC_p_vals.append(p)\n",
    "\n",
    "# convert to array to be able to use np.where\n",
    "JC_p_vals = np.array(JC_p_vals)\n",
    "\n",
    "# function that calculates recall, precision, accuracy and returns a dictionary\n",
    "def JCfunction(threshold):\n",
    "    link_pred = np.where(JC_p_vals >= threshold, 1, 0)\n",
    "    return { \n",
    "        \"precision\": precision_score(df_links, link_pred), \n",
    "        \"recall\": recall_score(df_links, link_pred), \n",
    "        \"accuracy\": accuracy_score(df_links, link_pred) \n",
    "    }\n",
    "\n",
    "def visualize(name, values):\n",
    "    plt.figure()\n",
    "    plt.plot(thresholds, values)\n",
    "    plt.title(name)\n",
    "    plt.xlabel(\"threshold\")\n",
    "    plt.ylabel(\"value\")\n",
    "\n",
    "for threshold in thresholds:\n",
    "    metrics_results = JCfunction(threshold)\n",
    "    # save values to lists in order to visualize them in graphs\n",
    "    precision_vals.append(metrics_results[\"precision\"])\n",
    "    recall_vals.append(metrics_results[\"recall\"])\n",
    "    accuracy_vals.append(metrics_results[\"accuracy\"])\n",
    "    # print the result\n",
    "    print(\"For threshold equal to \" + str(threshold) + \":\")\n",
    "    print(\"\\tPrecision:\", metrics_results[\"precision\"])\n",
    "    print(\"\\tRecall:\", metrics_results[\"recall\"])\n",
    "    print(\"\\tAccuracy:\", metrics_results[\"accuracy\"])\n",
    "\n",
    "visualize(\"Precision\", precision_vals)\n",
    "visualize(\"Recall\", recall_vals)\n",
    "visualize(\"Accuracy\", accuracy_vals)"
   ]
  },
  {
   "cell_type": "markdown",
   "id": "d18c6089",
   "metadata": {},
   "source": [
    "##### Παρατηρήσεις\n",
    "\n",
    "* Πιο πάνω φαίνεται μόνο μια ακμή (η πρώτη που βρίσκει) με την μεγαλύτερη τιμή της μετρικής καθώς η άσκηση ζητάει να εμφανιστούν οι `AM % 10` ακμές με τις μεγαλύτερες τιμές της μετρικής. Ο Αριθμός Μητρώου μου είναι **03117711**\n",
    "* Για τον υπολογισμό των **precision**, **recall**, **accuracy** χρησιμοποιήθηκαν οι έτοιμες συναρτήσεις της βιβλιοθήκης **sklrearn**"
   ]
  },
  {
   "cell_type": "markdown",
   "id": "d432396f",
   "metadata": {},
   "source": [
    "<html><font size=4><B>3. Πρόβλεψη συνδέσμων βάσει similarity-based μετρικών</B></font>    \n",
    "        <li><B>3(i).</B> Προτείνετε μια τουλάχιστον μέθοδο, για να εξερευνήσουμε και να εκφράσουμε μέσα από τα πακέτα NumPy ή SciPy ή Pandas την συσχέτιση (correlation) μεταξύ των τιμών των μετρικών <B>Jaccard Coefficient</B>, <B>Preferential Attachment</B>, <B>Resource Allocation</B> για τον μειωμένο γράφο $G'$. Σημ.: Δεν χρειάζεται κάποια υλοποίηση, μόνο αναφορά της μεθόδου συσχέτισης και επεξήγηση της επιλογής σας.\n",
    "     <li><B>3(ii).</B> Εργαστείτε πάνω σε <B><U>αντίγραφο</U></B> του dataframe που κατασκευάσατε στο ερώτημα 1(vα) (unconnected+removables). Δημιουργήστε στήλη (column) με τις ακμές του γράφου και θέστε την ως index του dataframe. Στο dataframe θα προσθέσετε ως στήλες τις τιμές των μετρικών (<B>Jaccard Coefficient</B>, <B>Preferential Attachment</B>, <B>Resource Allocation</B>) για τον μειωμένο γράφο $G'$. Οι τιμές των μετρικών μπορούν να υπολογιστούν με τις συναρτήσεις του πακέτου NetworkX.</li>   </font></html>\n",
    "    \n",
    "    |       | link  |Jacc.Coeff.|Pr.Attachment| Resource Allocation|\n",
    "    |-------|-------|-----------|-------------|--------------------|\n",
    "    |(1, 6) |  0    |  0.333333 |     32      |    0.700000        |\n",
    "    |(1, 46)|  0    |  0.200000 |      8      |    0.166667        |"
   ]
  },
  {
   "cell_type": "markdown",
   "id": "3fbc1cb9",
   "metadata": {},
   "source": [
    "##### 3i Απάντηση\n",
    "\n",
    "Μια μέθοδος που μπορεί να χρησιμοποιηθεί για τον υπολογισμό της συσχέτισης των μετρικών JC, PA, RA είναι η `Pearson Correlation Coefficient`. Πιο συγκερκιμένα μπορεί να γίνει χρήση της από:\n",
    "\n",
    "1. `SCiPy` και ειδικότερα απο το `scipy.stats` ως `scipy.stats.pearsonr(x, y).correlation`\n",
    "2. `Pandas` ως `pandas.corr(x, y). Στη συγκεκριμένη συνάρτηση υπάρχει σαν παράμετρος η **method** η οποία εαν δεν οριστεί σε κάτι άλλο είναι default σε Pearson.\n",
    "\n",
    "Ο Συντελεστής Συσχέτισης `Pearson` προσμετρά την γραμμική σχέση μεταξύ δύο χαρακτηριστικών. Είναι ο λόγος της συνδιακύμανσης των `x` και `y` προς το γινόμενο των τυπικών αποκλίσεων τους. Συχνά συμβολίζεται με το γράμμα `r` και ονομάζεται `r του Pearson`.\n",
    "\n",
    "**Εξίσωση**:\n",
    "`r = Σᵢ((xᵢ − mean(x))(yᵢ − mean(y))) (√Σᵢ(xᵢ − mean(x))² √Σᵢ(yᵢ − mean(y))²)⁻¹`\n",
    "\n",
    "**Σημαντικές Πληροφορίες για τον `Σ.Σ Pearson`**:\n",
    "\n",
    "1. Εύρος τιμών `−1 ≤ r ≤ 1`\n",
    "2. Η μέγιστη τιμή `r = 1` αντιστοιχεί στην περίπτωση στην οποία υπάρχει μια τέλεια θετική γραμμική σχέση μεταξύ `x` και `y`\n",
    "3. Η τιμή `r > 0` υποδηλώνει θετική συσχέτιση μεταξύ `x` και `y`\n",
    "4. Η τιμή `r = 0` αντιστοιχεί στην περίπτωση στην οποία δεν υπάρχει γραμμική σχέση μεταξύ `x` και `y`\n",
    "5. Η τιμή `r < 0` υποδηλώνει αρνητική συσχέτιση μεταξύ `x` και `y`\n",
    "6. Η ελάχιστη τιμή `r = −1` αντιστοιχεί στην περίπτωση που υπάρχει μια τέλεια αρνητική γραμμική σχέση μεταξύ `x` και `y`\n",
    "\n",
    "**Αναπαράσταση των πιο πάνω δεδομένων σε Πίνακα:**\n",
    "\n",
    "Pearson’s r Value |\tCorrelation Between x and y\n",
    "------------------|-----------------------------\n",
    "r = 1     \t      | perfect positive linear relationship\n",
    "r > 0         \t  | positive correlation\n",
    "r = 0     \t      | no linear relationship\n",
    "r < 0     \t      | negative correlation\n",
    "r = -1    \t      | perfect negative linear relationship\n",
    "\n",
    "**Λόγος επιλογής της `Pearson Correlation Coefficient`:** Διότι ο συγκεκριμένος συντελεστής συσχέτισης σε αντίθεση με τους άλλους δύο συγκρίνει γραμμική σχέση και όχι τα ranks των δεδομένων. "
   ]
  },
  {
   "cell_type": "code",
   "execution_count": 12,
   "id": "7c40c8d6",
   "metadata": {},
   "outputs": [],
   "source": [
    "#replicate of the dataframe \"unconnected + removables\"---dataframe will be used again in (4)\n",
    "df_replica = df.copy()"
   ]
  },
  {
   "cell_type": "code",
   "execution_count": 13,
   "id": "8c65a3e6",
   "metadata": {},
   "outputs": [],
   "source": [
    "# set edge as index\n",
    "df_replica = df_replica.set_index('edge')\n",
    "\n",
    "#Preferential Attachment\n",
    "pref_att_preds = list(nx.algorithms.link_prediction.preferential_attachment(G_reduced))\n",
    "pref_att_pred_vals = []\n",
    "for u, v, p in pref_att_preds:\n",
    "    pref_att_pred_vals.append(p)\n",
    "\n",
    "#Resource Allocation\n",
    "resource_alloc_preds = list(nx.algorithms.link_prediction.resource_allocation_index(G_reduced))\n",
    "resource_alloc_pred_vals = []\n",
    "for u, v, p in resource_alloc_preds:\n",
    "    resource_alloc_pred_vals.append(p)\n",
    "\n",
    "# add the new colums\n",
    "df_replica = df_replica.assign(Jaccard_Coefficient = JC_p_vals, Preferential_Attatchment = pref_att_pred_vals, Resource_Allocation = resource_alloc_pred_vals)"
   ]
  },
  {
   "cell_type": "code",
   "execution_count": 14,
   "id": "5c8441d1",
   "metadata": {},
   "outputs": [
    {
     "data": {
      "text/html": [
       "<div>\n",
       "<style scoped>\n",
       "    .dataframe tbody tr th:only-of-type {\n",
       "        vertical-align: middle;\n",
       "    }\n",
       "\n",
       "    .dataframe tbody tr th {\n",
       "        vertical-align: top;\n",
       "    }\n",
       "\n",
       "    .dataframe thead th {\n",
       "        text-align: right;\n",
       "    }\n",
       "</style>\n",
       "<table border=\"1\" class=\"dataframe\">\n",
       "  <thead>\n",
       "    <tr style=\"text-align: right;\">\n",
       "      <th></th>\n",
       "      <th>link</th>\n",
       "      <th>Jaccard_Coefficient</th>\n",
       "      <th>Preferential_Attatchment</th>\n",
       "      <th>Resource_Allocation</th>\n",
       "    </tr>\n",
       "    <tr>\n",
       "      <th>edge</th>\n",
       "      <th></th>\n",
       "      <th></th>\n",
       "      <th></th>\n",
       "      <th></th>\n",
       "    </tr>\n",
       "  </thead>\n",
       "  <tbody>\n",
       "    <tr>\n",
       "      <th>(0, 1)</th>\n",
       "      <td>1</td>\n",
       "      <td>0.0</td>\n",
       "      <td>1</td>\n",
       "      <td>0.0</td>\n",
       "    </tr>\n",
       "    <tr>\n",
       "      <th>(0, 2)</th>\n",
       "      <td>1</td>\n",
       "      <td>0.0</td>\n",
       "      <td>2</td>\n",
       "      <td>0.0</td>\n",
       "    </tr>\n",
       "    <tr>\n",
       "      <th>(0, 3)</th>\n",
       "      <td>1</td>\n",
       "      <td>0.0</td>\n",
       "      <td>1</td>\n",
       "      <td>0.0</td>\n",
       "    </tr>\n",
       "    <tr>\n",
       "      <th>(0, 5)</th>\n",
       "      <td>0</td>\n",
       "      <td>0.0</td>\n",
       "      <td>7</td>\n",
       "      <td>0.0</td>\n",
       "    </tr>\n",
       "    <tr>\n",
       "      <th>(0, 6)</th>\n",
       "      <td>0</td>\n",
       "      <td>0.0</td>\n",
       "      <td>1</td>\n",
       "      <td>0.0</td>\n",
       "    </tr>\n",
       "    <tr>\n",
       "      <th>...</th>\n",
       "      <td>...</td>\n",
       "      <td>...</td>\n",
       "      <td>...</td>\n",
       "      <td>...</td>\n",
       "    </tr>\n",
       "    <tr>\n",
       "      <th>(425, 429)</th>\n",
       "      <td>0</td>\n",
       "      <td>0.0</td>\n",
       "      <td>1</td>\n",
       "      <td>0.0</td>\n",
       "    </tr>\n",
       "    <tr>\n",
       "      <th>(426, 427)</th>\n",
       "      <td>0</td>\n",
       "      <td>0.0</td>\n",
       "      <td>2</td>\n",
       "      <td>0.0</td>\n",
       "    </tr>\n",
       "    <tr>\n",
       "      <th>(426, 428)</th>\n",
       "      <td>0</td>\n",
       "      <td>0.0</td>\n",
       "      <td>1</td>\n",
       "      <td>0.0</td>\n",
       "    </tr>\n",
       "    <tr>\n",
       "      <th>(426, 429)</th>\n",
       "      <td>0</td>\n",
       "      <td>0.0</td>\n",
       "      <td>1</td>\n",
       "      <td>0.0</td>\n",
       "    </tr>\n",
       "    <tr>\n",
       "      <th>(428, 429)</th>\n",
       "      <td>0</td>\n",
       "      <td>1.0</td>\n",
       "      <td>1</td>\n",
       "      <td>0.5</td>\n",
       "    </tr>\n",
       "  </tbody>\n",
       "</table>\n",
       "<p>91900 rows × 4 columns</p>\n",
       "</div>"
      ],
      "text/plain": [
       "            link  Jaccard_Coefficient  Preferential_Attatchment  \\\n",
       "edge                                                              \n",
       "(0, 1)         1                  0.0                         1   \n",
       "(0, 2)         1                  0.0                         2   \n",
       "(0, 3)         1                  0.0                         1   \n",
       "(0, 5)         0                  0.0                         7   \n",
       "(0, 6)         0                  0.0                         1   \n",
       "...          ...                  ...                       ...   \n",
       "(425, 429)     0                  0.0                         1   \n",
       "(426, 427)     0                  0.0                         2   \n",
       "(426, 428)     0                  0.0                         1   \n",
       "(426, 429)     0                  0.0                         1   \n",
       "(428, 429)     0                  1.0                         1   \n",
       "\n",
       "            Resource_Allocation  \n",
       "edge                             \n",
       "(0, 1)                      0.0  \n",
       "(0, 2)                      0.0  \n",
       "(0, 3)                      0.0  \n",
       "(0, 5)                      0.0  \n",
       "(0, 6)                      0.0  \n",
       "...                         ...  \n",
       "(425, 429)                  0.0  \n",
       "(426, 427)                  0.0  \n",
       "(426, 428)                  0.0  \n",
       "(426, 429)                  0.0  \n",
       "(428, 429)                  0.5  \n",
       "\n",
       "[91900 rows x 4 columns]"
      ]
     },
     "execution_count": 14,
     "metadata": {},
     "output_type": "execute_result"
    }
   ],
   "source": [
    "df_replica"
   ]
  },
  {
   "cell_type": "markdown",
   "id": "76f9318d",
   "metadata": {},
   "source": [
    "<li><B>3(iiiα).</B> Χρησιμοποιήστε τον Random Forest Classifier και το αντίγραφο dataframe που κατασκευάσατε στο ερώτημα 3(ii), για να προβλέψετε συνδέσεις. Συμπληρώστε στον κώδικα: τα features ($X$), την target variable ($y$) και τα ορίσματα της συνάρτησης $fit$ για το training του μοντέλου.</li>\n",
    "<li><B>3(iiiβ).</B> Δώστε τις ($A.M$ $mod$ $10$) πρώτες προβλέψεις και την ακρίβεια ($accuracy$) του μοντέλου. </li>\n",
    "<li><B>3(iiiγ).</B>Υπολογίστε την πιθανότητα να συνδεθούν οι κόμβοι ($1$,$47$) βάσει του μοντέλου σας. </li>  "
   ]
  },
  {
   "cell_type": "code",
   "execution_count": 15,
   "id": "df4a65f5",
   "metadata": {},
   "outputs": [],
   "source": [
    "from sklearn.model_selection import train_test_split\n",
    "from sklearn.ensemble import RandomForestClassifier\n",
    "from sklearn.metrics import accuracy_score\n",
    "from sklearn.model_selection import GridSearchCV\n",
    " \n",
    "X = df_replica[[\"Jaccard_Coefficient\", \"Preferential_Attatchment\", \"Resource_Allocation\"]]\n",
    "y = df_replica['link']\n",
    "\n",
    "X_train, X_test, y_train, y_test = train_test_split(X, y, random_state = 0)"
   ]
  },
  {
   "cell_type": "code",
   "execution_count": 16,
   "id": "26affc3a",
   "metadata": {},
   "outputs": [],
   "source": [
    "# 3(iiia)\n",
    "classifier = RandomForestClassifier()   \n",
    "\n",
    "from sklearn.preprocessing import MinMaxScaler \n",
    "mm_scaler = MinMaxScaler() \n",
    "X_train_scaled = mm_scaler.fit_transform(X_train)\n",
    "X_test_scaled = mm_scaler.transform(X_test)\n",
    "\n",
    "parameters = { 'n_estimators': [10, 50, 100], 'max_depth': [5, 10, 15] } \n",
    "model = GridSearchCV(classifier, param_grid = parameters) "
   ]
  },
  {
   "cell_type": "code",
   "execution_count": 17,
   "id": "431e2d35",
   "metadata": {},
   "outputs": [
    {
     "data": {
      "text/plain": [
       "GridSearchCV(estimator=RandomForestClassifier(),\n",
       "             param_grid={'max_depth': [5, 10, 15],\n",
       "                         'n_estimators': [10, 50, 100]})"
      ]
     },
     "execution_count": 17,
     "metadata": {},
     "output_type": "execute_result"
    }
   ],
   "source": [
    "model.fit(X_train_scaled, y_train)"
   ]
  },
  {
   "cell_type": "code",
   "execution_count": 18,
   "id": "1b075584",
   "metadata": {},
   "outputs": [
    {
     "name": "stdout",
     "output_type": "stream",
     "text": [
      "First Prediction: 0\n",
      "Accuracy: 0.9987377584330794\n"
     ]
    }
   ],
   "source": [
    "# 3(iiib) AM = 1 % 10 = 1 -> show the first prediction only\n",
    "predictions = model.predict(X_test_scaled)\n",
    "print(\"First Prediction:\", predictions[0])\n",
    "print(\"Accuracy:\", accuracy_score(y_test, predictions))"
   ]
  },
  {
   "cell_type": "code",
   "execution_count": 19,
   "id": "708322c0",
   "metadata": {},
   "outputs": [
    {
     "name": "stdout",
     "output_type": "stream",
     "text": [
      "Probability of Nodes 1 - 47 connecting: 0.00025663331492533774\n"
     ]
    }
   ],
   "source": [
    "#3(iiic)\n",
    "edge1_47 = df_replica.loc[[(0, 46)]]\n",
    "edge1_47_f = edge1_47[[\"Jaccard_Coefficient\", \"Preferential_Attatchment\", \"Resource_Allocation\"]]\n",
    "edge1_47_scaled = mm_scaler.transform(edge1_47_f)\n",
    "edge1_47_proba = model.predict_proba(edge1_47_scaled)\n",
    "\n",
    "print(\"Probability of Nodes 1 - 47 connecting:\", edge1_47_proba[0][1])"
   ]
  },
  {
   "cell_type": "markdown",
   "id": "f4c43988",
   "metadata": {},
   "source": [
    "<html><font size=4><B>4. Πρόβλεψη συνδέσμων με embedding βασισμένο σε τυχαίους περιπάτους (Random Walks) </B></font><BR><BR>\n",
    "    <li><B>4(i).</B> Εξάγετε τα χαρακτηριστικά (features) του γράφου $G'$, που προέκυψε από την αφαίρεση των ακμών. Για τον σκοπό αυτό χρησιμοποιήστε τον αλγόριθμο <B>Node2vec</B> <a href=\"https://cs.stanford.edu/~jure/pubs/node2vec-kdd16.pdf\">[3]</a>. Ο αλγόριθμος αντιστοιχίζει τους κόμβους του γράφου μέσω τυχαίων περιπάτων (biased 2nd order random walks) σε ένα χώρο μικρού αριθμού διαστάσεων (low dimensional space) διατηρώντας την μεταξύ τους γειτνίαση.\n",
    "        <BR>Για την επιλογή των παραμέτρων: \n",
    "            <li>p - παράμετρος τυχαίων περιπάτων p που καθορίζει την πιθανότητα “1/p” επιστροφής στον κόμβο προέλευσης (source node), </li>\n",
    "                <li>q - παράμετρος τυχαίων περιπάτων q που καθορίζει την πιθανότητα  “1/q” μετακίνησης σε κόμβο μακριά από τον κόμβο προέλευσης (source node), </li>\n",
    "                 <li>dimensions - πλήθος διαστάσεων των Node2Vec embeddings, </li>\n",
    "                     <li>num_walks - αριθμός περιπάτων από κάθε κόμβο, </li>\n",
    "                         <li>walk_length - μήκος τυχαίου περιπάτου, </li>\n",
    "                             <li>window_size - μέγεθος παραθύρου context για τον αλγόριθμο Word2Vec, </li><li>num_iter - αριθμός SGD επαναλήψεων (epochs), </li>\n",
    "            <li>workers - αριθμός workers για τον Word2Vec,</li>\n",
    "            χρησιμοποιήστε τις τιμές:   </html>\n",
    "   \n",
    "                   "
   ]
  },
  {
   "cell_type": "markdown",
   "id": "fdbc5274",
   "metadata": {},
   "source": [
    " |   p   |   q   | dimensions|  num_walks  |walk_length |window_size|        workers            |\n",
    " |-------|-------|-----------|-------------|------------|-----------|---------------------------|\n",
    " |  1.0  |  1.0  |  128      |     10      |    80      |     10    |multiprocessing.cpu_count()|"
   ]
  },
  {
   "cell_type": "code",
   "execution_count": 20,
   "id": "aa8e668d",
   "metadata": {},
   "outputs": [
    {
     "name": "stderr",
     "output_type": "stream",
     "text": [
      "Computing transition probabilities: 100%|██████████| 430/430 [00:00<00:00, 20522.41it/s]\n"
     ]
    }
   ],
   "source": [
    "from node2vec import Node2Vec\n",
    "import multiprocessing\n",
    "\n",
    "#generate walks\n",
    "node2vec_walker = Node2Vec(\n",
    "    G_reduced, \n",
    "    p = 1.0, \n",
    "    q = 1.0, \n",
    "    dimensions = 128, \n",
    "    num_walks = 10, \n",
    "    walk_length = 80, \n",
    "    workers = multiprocessing.cpu_count()\n",
    ")\n",
    "\n",
    "#train node2vec model\n",
    "n2v_model = node2vec_walker.fit(window = 10, min_count = 1)"
   ]
  },
  {
   "cell_type": "markdown",
   "id": "294f0aab",
   "metadata": {},
   "source": [
    "<html><font>\n",
    "    <li><B>4(ii).</B> Εφαρμόστε τον αλγόριθμο Random Forest Classifier, για να προβλέψετε τις συνδέσεις.</li><BR>\n",
    "    <li><B>4(iii).</B> Υπολογίστε την ακρίβεια ($accuracy$) του μοντέλου. </li><BR></font></html>"
   ]
  },
  {
   "cell_type": "code",
   "execution_count": 21,
   "id": "6269b89a",
   "metadata": {},
   "outputs": [],
   "source": [
    "X = [(n2v_model.wv[str(i)] + n2v_model.wv[str(j)]) for i, j in df[\"edge\"]]"
   ]
  },
  {
   "cell_type": "code",
   "execution_count": 22,
   "id": "b74e7aa7",
   "metadata": {},
   "outputs": [],
   "source": [
    "X_train, X_test, y_train, y_test = train_test_split(X, y, random_state = 0) "
   ]
  },
  {
   "cell_type": "code",
   "execution_count": 23,
   "id": "e75cfde7",
   "metadata": {},
   "outputs": [
    {
     "name": "stdout",
     "output_type": "stream",
     "text": [
      "Accuracy: 0.9985636561479869\n"
     ]
    }
   ],
   "source": [
    "from sklearn.ensemble import RandomForestClassifier\n",
    "from sklearn.metrics import accuracy_score\n",
    "\n",
    "classifier = RandomForestClassifier(max_depth = 2, random_state = 0) \n",
    "classifier.fit(X_train, y_train)\n",
    "\n",
    "y_pred = classifier.predict(X_test)\n",
    "print(\"Accuracy:\", accuracy_score(y_test, y_pred))"
   ]
  },
  {
   "cell_type": "markdown",
   "id": "a0c0b3bb",
   "metadata": {},
   "source": [
    "<html><font size=4> <B><U>Ερώτηση bonus (+10/100)</U><B>: </font>Για τους binary operators για learning των edge features με τον αλγόριθμο Node2Vec που αναφέρονται στο <a href=\"https://cs.stanford.edu/~jure/pubs/node2vec-kdd16.pdf\">[3]</a> ((α) Average, (β) Hadamard, (γ) Weighted-L1 και (δ) Weighted-L2) τροποποιήστε τoν κώδικά σας και σημειώστε τις παρατηρήσεις σας ως προς την απόδοση του αλγορίθμου.</font></html>"
   ]
  },
  {
   "cell_type": "markdown",
   "id": "8da3a402",
   "metadata": {},
   "source": [
    "<html><font size=4><B><U>Βιβλιογραφία:</U></B><BR></font>\n",
    "<a href=\"https://dl.acm.org/doi/10.1145/2487788.2488173\">[1]\tJérôme Kunegis. KONECT – The Koblenz Network Collection. In Proc. Int. Conf. on World Wide Web Companion, pages 1343–1350, 2013.</a><BR>\n",
    "<a href=\"https://link.springer.com/chapter/10.1007/978-3-540-76298-0_52\">[2]\tSören Auer, Christian Bizer, Georgi Kobilarov, Jens Lehmann, Richard Cyganiak, and Zachary Ives. DBpedia: A nucleus for a web of open data. In Proc. Int. Semant. Web Conf., pages 722–735, 2008.<BR>\n",
    "<a href=\"https://cs.stanford.edu/~jure/pubs/node2vec-kdd16.pdf\">[3] A. Grover, J. Leskovec, Node2vec: Scalable Feature Learning for Networks. ACM KDD, 2016.</a><BR>\n",
    " <a href=\"https://proceedings.neurips.cc/paper/2013/file/9aa42b31882ec039965f3c4923ce901b-Paper.pdf\">[4] T.Mikolov, I.Sutskever, K.Chen, G.S.Corrado and J.Dean, Distributed representations of words and phrases and their compositionality. In NIPS, 2013.</a><BR></font></html>"
   ]
  }
 ],
 "metadata": {
  "kernelspec": {
   "display_name": "sna",
   "language": "python",
   "name": "python3"
  },
  "language_info": {
   "codemirror_mode": {
    "name": "ipython",
    "version": 3
   },
   "file_extension": ".py",
   "mimetype": "text/x-python",
   "name": "python",
   "nbconvert_exporter": "python",
   "pygments_lexer": "ipython3",
   "version": "3.10.8 (main, Nov 24 2022, 14:13:03) [GCC 11.2.0]"
  },
  "vscode": {
   "interpreter": {
    "hash": "76d610cf4d1c56b3d10e69dcbee4333598110defc333120a9d5d56475d4378ea"
   }
  }
 },
 "nbformat": 4,
 "nbformat_minor": 5
}
