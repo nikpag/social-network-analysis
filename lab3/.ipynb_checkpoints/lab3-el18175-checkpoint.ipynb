{
 "cells": [
  {
   "cell_type": "markdown",
   "id": "1f35580e",
   "metadata": {},
   "source": [
    "<html><font size=6><B>3η εργαστηριακή άσκηση</B><BR>\n",
    "    <BR><B>Link prediction - Πρόβλεψη συνδέσμων</B></BR>\n",
    "    </font></html>"
   ]
  },
  {
   "cell_type": "markdown",
   "id": "26bcd515",
   "metadata": {},
   "source": [
    "Νικόλαος Παγώνας, el18175"
   ]
  },
  {
   "cell_type": "code",
   "execution_count": 25,
   "id": "9b66114c",
   "metadata": {},
   "outputs": [],
   "source": [
    "AM = 3118175"
   ]
  },
  {
   "cell_type": "markdown",
   "id": "ef69d28e",
   "metadata": {},
   "source": [
    "Όλα τα imports"
   ]
  },
  {
   "cell_type": "code",
   "execution_count": 26,
   "id": "9432bbeb",
   "metadata": {},
   "outputs": [],
   "source": [
    "from node2vec import Node2Vec\n",
    "from sklearn.ensemble import RandomForestClassifier\n",
    "from sklearn.metrics import accuracy_score\n",
    "from sklearn.model_selection import GridSearchCV\n",
    "from sklearn.model_selection import train_test_split\n",
    "from sklearn.preprocessing import MinMaxScaler \n",
    "from tabulate import tabulate\n",
    "from node2vec.edges import AverageEmbedder, HadamardEmbedder, WeightedL1Embedder, WeightedL2Embedder\n",
    "\n",
    "import matplotlib.pyplot as plt\n",
    "import multiprocessing\n",
    "import networkx as nx\n",
    "import numpy as np\n",
    "import pandas as pd\n",
    "import seaborn as sns\n",
    "import time"
   ]
  },
  {
   "cell_type": "markdown",
   "id": "727a2d14",
   "metadata": {},
   "source": [
    "Κάποιες global ρυθμίσεις"
   ]
  },
  {
   "cell_type": "code",
   "execution_count": 27,
   "id": "6d7d5b02",
   "metadata": {},
   "outputs": [],
   "source": [
    "plt.rcdefaults()\n",
    "figw, figh = plt.rcParams[\"figure.figsize\"]"
   ]
  },
  {
   "cell_type": "markdown",
   "id": "c90f49a6",
   "metadata": {},
   "source": [
    "Συνάρτηση που τυπώνει τα δεδομένα σε μορφή πίνακα"
   ]
  },
  {
   "cell_type": "code",
   "execution_count": 28,
   "id": "75d65cc4",
   "metadata": {},
   "outputs": [],
   "source": [
    "def table(headers, data):\n",
    "\tprint(tabulate(data, headers, tablefmt=\"fancy_grid\"))"
   ]
  },
  {
   "cell_type": "markdown",
   "id": "b30af479",
   "metadata": {},
   "source": [
    "<font size=4><b>1. Κατασκευή γράφου και προεργασία για την πρόβλεψη συνδέσμων</b></font>\n",
    "    <li><b>1(i).</b> Χρησιμοποιήστε το dataset <a href=\"http://konect.cc/networks/dbpedia-similar/\"> Similarities (DBpedia)</a>, για να κατασκευάσετε τον μη κατευθυνόμενο (undirected) γράφο $G$ <a href=\"https://dl.acm.org/doi/10.1145/2487788.2488173\">[1]</a>,<a href=\"https://link.springer.com/chapter/10.1007/978-3-540-76298-0_52\">[2]</a>. Οι κόμβοι του γράφου αναπαριστούν σελίδες της Wikipedia και οι ακμές σχέση ομοιότητας μεταξύ τους. Στην σελίδα <a href=\"http://konect.cc/networks/dbpedia-similar/\"> KONECT (DBpedia)</a> μπορείτε να βρείτε πληροφορίες για τις ιδιότητες του γράφου.</a>"
   ]
  },
  {
   "cell_type": "code",
   "execution_count": 29,
   "id": "f59f4a16",
   "metadata": {},
   "outputs": [],
   "source": [
    "G = nx.read_edgelist(path=\"dbpedia-similar/out.dbpedia-similar\", comments=\"%\", nodetype=int)"
   ]
  },
  {
   "cell_type": "markdown",
   "id": "08ee694c",
   "metadata": {},
   "source": [
    "<b><u>Υπόδειξη:</u></b> Μπορείτε να ελέγξετε προγραμματιστικά αν το dataset περιέχει διπλότυπα των ακμών με την ίδια ή αντίστροφη σειρά (π.χ. ακμές (a,b) και (b,a)), και να λάβετε υπ' όψιν σας αυτήν σας την παρατήρηση, όπου τυχόν χρειαστεί, στην ερώτηση 2."
   ]
  },
  {
   "cell_type": "code",
   "execution_count": 30,
   "id": "09fbe51f",
   "metadata": {},
   "outputs": [
    {
     "name": "stdout",
     "output_type": "stream",
     "text": [
      "The graph doesn't contain duplicate edges\n"
     ]
    }
   ],
   "source": [
    "candidates, duplicates = set(), set()\n",
    "\n",
    "for edge in G.edges():\n",
    "\tedge = min(edge), max(edge)\n",
    "\t\n",
    "\t(duplicates if edge in candidates else candidates).add(edge)\n",
    "\n",
    "print(f\"\"\"The graph {\"contains\" if duplicates else \"doesn't contain\"} duplicate edges\"\"\")"
   ]
  },
  {
   "cell_type": "markdown",
   "id": "5a98ba86",
   "metadata": {},
   "source": [
    "Όπως αναφέρθηκε επίσης στην παρουσίαση του εργαστηρίου, αφαιρούμε τα self-loops, αν υπάρχουν:"
   ]
  },
  {
   "cell_type": "code",
   "execution_count": 31,
   "id": "b9b5dc3c",
   "metadata": {},
   "outputs": [
    {
     "name": "stdout",
     "output_type": "stream",
     "text": [
      "Self-loops: [(420, 420)]\n"
     ]
    }
   ],
   "source": [
    "self_loops = list(nx.selfloop_edges(G))\n",
    "print(f\"Self-loops: {self_loops}\")\n",
    "G.remove_edges_from(self_loops)"
   ]
  },
  {
   "cell_type": "markdown",
   "id": "4bd79bac",
   "metadata": {},
   "source": [
    " <li><b>1(ii).</b> Εμφανίστε τον αριθμό των κόμβων, τον αριθμό των ακμών, τον μέσο βαθμό των κόμβων και τον αριθμό των συνεκτικών συνιστωσών (connected components) για τον γράφο $G$.</li>"
   ]
  },
  {
   "cell_type": "code",
   "execution_count": 32,
   "id": "9277a4e2",
   "metadata": {},
   "outputs": [
    {
     "name": "stdout",
     "output_type": "stream",
     "text": [
      "Initial Graph\n",
      "╒════════════════════════════════╤═══════════╕\n",
      "│ Number of nodes                │ 430       │\n",
      "├────────────────────────────────┼───────────┤\n",
      "│ Number of edges                │ 564       │\n",
      "├────────────────────────────────┼───────────┤\n",
      "│ Average degree                 │   2.62326 │\n",
      "├────────────────────────────────┼───────────┤\n",
      "│ Number of connected components │  95       │\n",
      "╘════════════════════════════════╧═══════════╛\n"
     ]
    }
   ],
   "source": [
    "initial_node_count = G.number_of_nodes()\n",
    "initial_edge_count = G.number_of_edges()\n",
    "initial_average_degree = np.mean([degree for node, degree in G.degree()])\n",
    "initial_connected_components = nx.number_connected_components(G)\n",
    "\n",
    "headers = []\n",
    "data = [\n",
    "\t[\"Number of nodes\", initial_node_count],\n",
    "\t[\"Number of edges\", initial_edge_count],\n",
    "\t[\"Average degree\", initial_average_degree],\n",
    "\t[\"Number of connected components\", initial_connected_components]\n",
    "]\n",
    "\n",
    "print(\"Initial Graph\")\n",
    "table(headers, data)"
   ]
  },
  {
   "cell_type": "markdown",
   "id": "bf03f6b9",
   "metadata": {},
   "source": [
    "<li><b>1(iii). </b>Υπολογίστε το σύνολο των ασύνδετων ζευγών κόμβων (unconnected pairs) στον γράφο χρησιμοποιώντας τον πίνακα γειτνίασης (adjacency matrix). Δώστε επίσης τον αριθμό τους. Λάβετε υπ' όψιν σας ότι ο γράφος είναι μη κατευθυνόμενος και δεν χρειάζεται να διατρέξετε ολόκληρο τον πίνακα γειτνίασης.</li>"
   ]
  },
  {
   "cell_type": "code",
   "execution_count": 33,
   "id": "7f918c74",
   "metadata": {},
   "outputs": [
    {
     "name": "stdout",
     "output_type": "stream",
     "text": [
      "Unconnected pairs: (132, 268) (192, 319) (35, 335) (54, 385) (95, 386) (53, 160) (144, 278) (185, 279) (245, 330) (47, 345) (107, 396) (148, 397) (146, 324) (247, 376) (44, 47) (49, 391) (197, 289) (7, 165) (48, 166) (139, 284) (199, 335) (259, 386) (9, 211) (102, 402) (201, 381) (60, 176) (13, 330) (151, 294) (99, 104) (252, 346) ...\n",
      "\n",
      "Number of unconnected pairs: 91671\n"
     ]
    }
   ],
   "source": [
    "A = nx.to_numpy_array(G, nodelist=range(1, initial_node_count + 1))\n",
    "\n",
    "unconnected_pairs = set()\n",
    "\n",
    "for i in range(initial_node_count - 1):\n",
    "\tfor j in range(i + 1, initial_node_count):\n",
    "\t\tif A[i][j] == 0:\n",
    "\t\t\tunconnected_pairs.add((min(i, j) + 1, max(i, j) + 1))\n",
    "\n",
    "print(\"Unconnected pairs:\", *list(unconnected_pairs)[:30], \"...\")\n",
    "print()\n",
    "print(f\"Number of unconnected pairs: {len(unconnected_pairs)}\")"
   ]
  },
  {
   "cell_type": "markdown",
   "id": "154c2a8d",
   "metadata": {},
   "source": [
    "<li><b>1(iv).</b> Υπολογίστε το σύνολο των ακμών (removable edges) που μπορούν να αφαιρεθούν από τον γράφο χωρίς να υπάρχει κατάτμηση (splitting) του γράφου (δηλ. ο αριθμός των συνεκτικών συνιστωσών θα πρέπει να παραμένει αμετάβλητος). Υπόδειξη: Ελέγχετε επίσης ότι με αφαίρεση ακμής δεν μειώνεται ο αριθμός των κόμβων (εφόσον δεν υπάρχει ξεχωριστό αρχείο μόνο με κόμβους στο dataset). Δώστε επίσης τον αριθμό των ακμών (removable edges) που μπορούν να αφαιρεθούν υπό αυτές τις προϋποθέσεις.</li>"
   ]
  },
  {
   "cell_type": "code",
   "execution_count": 34,
   "id": "b39c2241",
   "metadata": {},
   "outputs": [
    {
     "name": "stdout",
     "output_type": "stream",
     "text": [
      "Removable edges: (105, 107) (341, 344) (332, 341) (333, 340) (401, 404) (338, 345) (186, 189) (75, 81) (132, 133) (339, 346) (342, 345) (343, 344) (334, 341) (29, 68) (336, 338) (105, 109) (332, 334) (188, 189) (341, 346) (332, 343) (333, 342) (20, 31) (225, 226) (106, 107) (186, 191) (149, 151) (343, 346) (334, 343) (336, 340) (402, 404) ...\n",
      "\n",
      "Number of removable edges: 229\n"
     ]
    }
   ],
   "source": [
    "# removable edges: check splitting and number of nodes\n",
    "\n",
    "removable_edges = set()\n",
    "\n",
    "copyG = G.copy()\n",
    "\n",
    "edges = sorted([(min(u, v), max(u, v)) for u, v in copyG.edges()])\n",
    "for u, v in edges:\n",
    "\tu, v = min(u, v), max(u, v)\n",
    "\n",
    "\tcopyG.remove_edge(u, v)\n",
    "\n",
    "\tif nx.number_connected_components(copyG) == initial_connected_components and len(copyG.nodes()) == initial_node_count:\n",
    "\t\tremovable_edges.add((u, v))\n",
    "\telse:\n",
    "\t\tcopyG.add_edge(u, v)\n",
    "\n",
    "print(\"Removable edges:\", *list(removable_edges)[:30], \"...\")\n",
    "print()\n",
    "print(f\"Number of removable edges: {len(removable_edges)}\")"
   ]
  },
  {
   "cell_type": "markdown",
   "id": "eb03d745",
   "metadata": {},
   "source": [
    "<li><b>1(va).</b> Κατασκευάστε dataframe που συνενώνει τις απαντήσεις των ερωτημάτων 1(iii) και 1(iv) (unconnected+removables). Χρησιμοποιήστε την μεταβλητή $link$ που θα παίρνει τιμή 1 ή 0 ανάλογα με την ύπαρξη συνδέσμου ή μη. To dataframe αυτό συγκεντρώνει τα θετικά και αρνητικά δείγματα για την πρόβλεψη των μελλοντικών συνδέσεων (link: target variable)."
   ]
  },
  {
   "cell_type": "code",
   "execution_count": 35,
   "id": "ac3de14a",
   "metadata": {},
   "outputs": [
    {
     "data": {
      "text/html": [
       "<div>\n",
       "<style scoped>\n",
       "    .dataframe tbody tr th:only-of-type {\n",
       "        vertical-align: middle;\n",
       "    }\n",
       "\n",
       "    .dataframe tbody tr th {\n",
       "        vertical-align: top;\n",
       "    }\n",
       "\n",
       "    .dataframe thead th {\n",
       "        text-align: right;\n",
       "    }\n",
       "</style>\n",
       "<table border=\"1\" class=\"dataframe\">\n",
       "  <thead>\n",
       "    <tr style=\"text-align: right;\">\n",
       "      <th></th>\n",
       "      <th>pair</th>\n",
       "      <th>link</th>\n",
       "    </tr>\n",
       "  </thead>\n",
       "  <tbody>\n",
       "    <tr>\n",
       "      <th>0</th>\n",
       "      <td>(1, 6)</td>\n",
       "      <td>0</td>\n",
       "    </tr>\n",
       "    <tr>\n",
       "      <th>1</th>\n",
       "      <td>(1, 7)</td>\n",
       "      <td>0</td>\n",
       "    </tr>\n",
       "    <tr>\n",
       "      <th>2</th>\n",
       "      <td>(1, 8)</td>\n",
       "      <td>0</td>\n",
       "    </tr>\n",
       "    <tr>\n",
       "      <th>3</th>\n",
       "      <td>(1, 9)</td>\n",
       "      <td>0</td>\n",
       "    </tr>\n",
       "    <tr>\n",
       "      <th>4</th>\n",
       "      <td>(1, 10)</td>\n",
       "      <td>0</td>\n",
       "    </tr>\n",
       "    <tr>\n",
       "      <th>...</th>\n",
       "      <td>...</td>\n",
       "      <td>...</td>\n",
       "    </tr>\n",
       "    <tr>\n",
       "      <th>91895</th>\n",
       "      <td>(401, 403)</td>\n",
       "      <td>1</td>\n",
       "    </tr>\n",
       "    <tr>\n",
       "      <th>91896</th>\n",
       "      <td>(401, 404)</td>\n",
       "      <td>1</td>\n",
       "    </tr>\n",
       "    <tr>\n",
       "      <th>91897</th>\n",
       "      <td>(402, 403)</td>\n",
       "      <td>1</td>\n",
       "    </tr>\n",
       "    <tr>\n",
       "      <th>91898</th>\n",
       "      <td>(402, 404)</td>\n",
       "      <td>1</td>\n",
       "    </tr>\n",
       "    <tr>\n",
       "      <th>91899</th>\n",
       "      <td>(403, 404)</td>\n",
       "      <td>1</td>\n",
       "    </tr>\n",
       "  </tbody>\n",
       "</table>\n",
       "<p>91900 rows × 2 columns</p>\n",
       "</div>"
      ],
      "text/plain": [
       "             pair  link\n",
       "0          (1, 6)     0\n",
       "1          (1, 7)     0\n",
       "2          (1, 8)     0\n",
       "3          (1, 9)     0\n",
       "4         (1, 10)     0\n",
       "...           ...   ...\n",
       "91895  (401, 403)     1\n",
       "91896  (401, 404)     1\n",
       "91897  (402, 403)     1\n",
       "91898  (402, 404)     1\n",
       "91899  (403, 404)     1\n",
       "\n",
       "[91900 rows x 2 columns]"
      ]
     },
     "execution_count": 35,
     "metadata": {},
     "output_type": "execute_result"
    }
   ],
   "source": [
    "# dataframe of unconnected node pairs (they will function as negative samples)\n",
    "unconnected_pairs_df = pd.DataFrame(data={\"pair\": sorted(unconnected_pairs)})\n",
    "unconnected_pairs_df[\"link\"] = 0 \n",
    "\n",
    "# dataframe of removable edges (they will function as positive samples)\n",
    "removable_edges_df = pd.DataFrame(data={\"pair\": sorted(removable_edges)})\n",
    "removable_edges_df[\"link\"] = 1  \n",
    "\n",
    "# merge in one dataframe\n",
    "merged_df = pd.concat(objs=[unconnected_pairs_df, removable_edges_df], ignore_index=True)\n",
    "\n",
    "merged_df"
   ]
  },
  {
   "cell_type": "markdown",
   "id": "a5f57091",
   "metadata": {},
   "source": [
    "<li><b>1(vb).</b> Κατασκευάστε τον γράφο $G'$ που προκύπτει από την αφαίρεση από τον γράφο $G$ των ακμών του ερωτήματος 1(iv)."
   ]
  },
  {
   "cell_type": "code",
   "execution_count": 36,
   "id": "1ce5671d",
   "metadata": {},
   "outputs": [],
   "source": [
    "# build graph G'=G_reduced\n",
    "\n",
    "G_reduced = G.copy()\n",
    "\n",
    "G_reduced.remove_edges_from(removable_edges)"
   ]
  },
  {
   "cell_type": "markdown",
   "id": "74650dac",
   "metadata": {},
   "source": [
    "<li><b>1(vc).</b> Εμφανίστε τον αριθμό των κόμβων, τον αριθμό των ακμών, τον μέσο βαθμό των κόμβων και τον αριθμό των συνεκτικών συνιστωσών (connected components) για τον γράφο $G'$.</li>"
   ]
  },
  {
   "cell_type": "code",
   "execution_count": 37,
   "id": "baea8e56",
   "metadata": {},
   "outputs": [
    {
     "name": "stdout",
     "output_type": "stream",
     "text": [
      "Graph after deleting removable edges\n",
      "╒════════════════════════════════╤═══════════╕\n",
      "│ Number of nodes                │ 430       │\n",
      "├────────────────────────────────┼───────────┤\n",
      "│ Number of edges                │ 335       │\n",
      "├────────────────────────────────┼───────────┤\n",
      "│ Average degree                 │   1.55814 │\n",
      "├────────────────────────────────┼───────────┤\n",
      "│ Number of connected components │  95       │\n",
      "╘════════════════════════════════╧═══════════╛\n"
     ]
    }
   ],
   "source": [
    "G_reduced_node_count = G_reduced.number_of_nodes()\n",
    "G_reduced_edge_count = G_reduced.number_of_edges()\n",
    "G_reduced_average_degree = np.mean([degree for node, degree in G_reduced.degree()])\n",
    "G_reduced_connected_components = nx.number_connected_components(G_reduced)\n",
    "\n",
    "headers = []\n",
    "data = [\n",
    "\t[\"Number of nodes\", G_reduced_node_count],\n",
    "\t[\"Number of edges\", G_reduced_edge_count],\n",
    "\t[\"Average degree\", G_reduced_average_degree],\n",
    "\t[\"Number of connected components\", G_reduced_connected_components]\n",
    "]\n",
    "\n",
    "print(\"Graph after deleting removable edges\")\n",
    "table(headers, data)"
   ]
  },
  {
   "cell_type": "markdown",
   "id": "184eae57",
   "metadata": {},
   "source": [
    "<font size=4><b>2. Εισαγωγή σε similarity-based μετρικές για Link prediction</b></font>\n",
    "<ul>\n",
    "\t<li> Η μετρική <b>Jaccard Coefficient (JC)</b> των κόμβων ${u}$ και ${v}$ ορίζεται ως $\\frac{|\\Gamma(u) \\cap \\Gamma(v)|}{|\\Gamma(u) \\cup \\Gamma(v)|}$, όπου ${\\Gamma(u)}$ είναι το σύνολο των γειτονικών κόμβων του κόμβου ${u}$.</li>\n",
    "\t<li> Η μετρική <b>Preferential Αttachment (PA)</b> των κόμβων $u$ και $v$ ορίζεται ως $|\\Gamma(u)| |\\Gamma(v)|$, όπου $\\Gamma(u)$ είναι το σύνολο των γειτονικών κόμβων του $u$.</li>\n",
    "\t<li> Η μετρική <b>Resource Allocation (RA)</b> των κόμβων $u$ και $v$ ορίζεται ως $\\sum_{w \\in \\Gamma(u) \\cap \\Gamma(v)} \\frac{1}{|\\Gamma(w)|}$, όπου $\\Gamma(u)$ είναι το σύνολο των γειτονικών κόμβων του $u$.</li>\n",
    "</ul>\n"
   ]
  },
  {
   "cell_type": "markdown",
   "id": "0d5bfae0",
   "metadata": {},
   "source": [
    "<li><B>2(i).</B> Για τον γράφο $G'$, που κατασκευάσατε στο ερώτημα 1(vβ), υπολογίστε την μετρική <B>Jaccard Coefficient (JC)</B>.  <u><a href=\"https://networkx.org/documentation/stable/reference/algorithms/link_prediction.html?highlight=link%20prediction\">Χρησιμοποιήστε την υλοποιημένη συνάρτηση του λογισμικού NetworkX.</a></u></li>\n"
   ]
  },
  {
   "cell_type": "code",
   "execution_count": 38,
   "id": "d9eacf72",
   "metadata": {},
   "outputs": [
    {
     "name": "stdout",
     "output_type": "stream",
     "text": [
      "430\n",
      "91900\n"
     ]
    }
   ],
   "source": [
    "jaccard_coefficients = list(nx.jaccard_coefficient(G_reduced))\n",
    "\n",
    "print(len(G_reduced))\n",
    "print(len(jaccard_coefficients))"
   ]
  },
  {
   "cell_type": "markdown",
   "id": "83edf282",
   "metadata": {},
   "source": [
    "<li><b>2(ii). </b>Δώστε τις $k$ ακμές με την υψηλότερη τιμή μετρικής $JC$, όπου $k$ ο $Α.Μ.$ σας $mod$ $10$. Για $Α.Μ.$ λήγοντα σε $0$ δώστε τις $10$ ακμές με την υψηλότερη τιμή μετρικής. (Για την σύγκριση μεταξύ διαφορετικών μετρικών προτιμάται η εύρεση των $k$ επικρατέστερων συνδέσμων, αφού οι μετρικές επιστρέφουν διαφορετικό εύρος τιμών.)</li>\n"
   ]
  },
  {
   "cell_type": "code",
   "execution_count": 39,
   "id": "d58ae3d9",
   "metadata": {},
   "outputs": [
    {
     "name": "stdout",
     "output_type": "stream",
     "text": [
      "╒═════════╤══════════╤═══════════════════════╕\n",
      "│   Place │ Edge     │   Jaccard coefficient │\n",
      "╞═════════╪══════════╪═══════════════════════╡\n",
      "│       1 │ (4, 46)  │                     1 │\n",
      "├─────────┼──────────┼───────────────────────┤\n",
      "│       2 │ (4, 47)  │                     1 │\n",
      "├─────────┼──────────┼───────────────────────┤\n",
      "│       3 │ (4, 49)  │                     1 │\n",
      "├─────────┼──────────┼───────────────────────┤\n",
      "│       4 │ (23, 34) │                     1 │\n",
      "├─────────┼──────────┼───────────────────────┤\n",
      "│       5 │ (27, 33) │                     1 │\n",
      "╘═════════╧══════════╧═══════════════════════╛\n"
     ]
    }
   ],
   "source": [
    "# k = Α.Μ. mod 10 \n",
    "k = AM % 10 if AM % 10 != 0 else 10\n",
    "\n",
    "topk_jaccard_coefficients = sorted(jaccard_coefficients, key=lambda item: item[2], reverse=True)[:k]\n",
    "\n",
    "headers = [\n",
    "\t\"Place\", \"Edge\", \"Jaccard coefficient\"\n",
    "]\n",
    "data = [[i + 1, (u, v), jaccard_coefficient] for i, (u, v, jaccard_coefficient) in enumerate(topk_jaccard_coefficients)]\n",
    "\n",
    "table(headers, data)"
   ]
  },
  {
   "cell_type": "markdown",
   "id": "5045630b",
   "metadata": {},
   "source": [
    "<li><b>2(iii). </b>Προσδιορίστε για την μέτρηση της απόδοσης της μετρικής $JC$ τα μεγέθη $Precision$, $Recall$ και $Accuracy$ και αναπαραστήστε τα γραφικά για τιμές κατωφλίου: $0.1$, $0.15$, $0.25$, $0.5$, $1.0$.  <br/><br/>\n",
    "    $Precision=\\frac{TP}{TP+FP}$, όπου $TP$: αληθώς θετικά αποτελέσματα, $FP$: ψευδώς θετικά αποτελέσματα <br/>\n",
    "    $Recall=\\frac{TP}{TP+FN}$, όπου $TP$: αληθώς θετικά αποτελέσματα, $FN$: ψευδώς αρνητικά αποτελέσματα</li> \n",
    "    $Accuracy=\\frac{TP+TN}{TP+FN+TN+FP}$, όπου $TP$: αληθώς θετικά αποτελέσματα, $TN$: αληθώς αρνητικά αποτελέσματα, $FN$: ψευδώς αρνητικά αποτελέσματα, $FP$: ψευδώς θετικά αποτελέσματα</li><br/><br/>\n",
    "        <b><u>Υπόδειξη:</u></b>\n",
    "        Θετικό θεωρήστε ένα αποτέλεσμα, αν η μετρική $JC$ υπερβαίνει μια τιμή κατωφλίου (>=). Αρνητικό θεωρήστε το στην αντίθετη περίπτωση.\n",
    "        <li>Αληθώς θετικά είναι τα αποτελέσματα που βγήκαν θετικά (η τιμή της $JC$ υπερβαίνει την τιμή κατωφλίου) και πράγματι θα υπάρξουν οι συνδέσεις που περιγράφουν (ερ. 1(iv)).</li>\n",
    "        <li>Αληθώς αρνητικά είναι τα αποτελέσματα που βγήκαν αρνητικά και πράγματι δεν θα υπάρξουν οι συνδέσεις που περιγράφουν (ερ. 1(iii)).</li>\n",
    "        <li>Ψευδώς θετικά είναι τα αποτελέσματα που βγήκαν θετικά, ενώ δεν θα υπάρξουν οι συνδέσεις που περιγράφουν.</li>\n",
    "        <li>Ψευδώς αρνητικά είναι τα αποτελέσματα που βγήκαν αρνητικά, ενώ θα υπάρξουν οι συνδέσεις που περιγράφουν.</li>\n",
    "        <li>Το άθροισμα $TN+FP$ πρέπει κάθε φορά να σας δίνει όλες τις ασύνδετες ακμές του γράφου $G$.</li>   \n",
    "<li>Από το ερώτημα 1(iii) οι ακμές που υπολογίσατε είναι αυτές για τις οποίες δεν θα υπάρξουν συνδέσεις.</li> <li>Από το ερώτημα 1(iv) οι ακμές που υπολογίσατε είναι αυτές για τις οποίες θα υπάρξουν συνδέσεις.</li>"
   ]
  },
  {
   "cell_type": "code",
   "execution_count": 40,
   "id": "ae5cd53a",
   "metadata": {},
   "outputs": [
    {
     "data": {
      "text/html": [
       "<div>\n",
       "<style scoped>\n",
       "    .dataframe tbody tr th:only-of-type {\n",
       "        vertical-align: middle;\n",
       "    }\n",
       "\n",
       "    .dataframe tbody tr th {\n",
       "        vertical-align: top;\n",
       "    }\n",
       "\n",
       "    .dataframe thead th {\n",
       "        text-align: right;\n",
       "    }\n",
       "</style>\n",
       "<table border=\"1\" class=\"dataframe\">\n",
       "  <thead>\n",
       "    <tr style=\"text-align: right;\">\n",
       "      <th></th>\n",
       "      <th>threshold</th>\n",
       "      <th>precision</th>\n",
       "      <th>recall</th>\n",
       "      <th>accuracy</th>\n",
       "    </tr>\n",
       "  </thead>\n",
       "  <tbody>\n",
       "    <tr>\n",
       "      <th>0</th>\n",
       "      <td>0.10</td>\n",
       "      <td>0.306238</td>\n",
       "      <td>0.707424</td>\n",
       "      <td>0.995277</td>\n",
       "    </tr>\n",
       "    <tr>\n",
       "      <th>1</th>\n",
       "      <td>0.15</td>\n",
       "      <td>0.321932</td>\n",
       "      <td>0.698690</td>\n",
       "      <td>0.995582</td>\n",
       "    </tr>\n",
       "    <tr>\n",
       "      <th>2</th>\n",
       "      <td>0.25</td>\n",
       "      <td>0.335484</td>\n",
       "      <td>0.681223</td>\n",
       "      <td>0.995843</td>\n",
       "    </tr>\n",
       "    <tr>\n",
       "      <th>3</th>\n",
       "      <td>0.50</td>\n",
       "      <td>0.413690</td>\n",
       "      <td>0.606987</td>\n",
       "      <td>0.996877</td>\n",
       "    </tr>\n",
       "    <tr>\n",
       "      <th>4</th>\n",
       "      <td>1.00</td>\n",
       "      <td>0.479245</td>\n",
       "      <td>0.554585</td>\n",
       "      <td>0.997388</td>\n",
       "    </tr>\n",
       "  </tbody>\n",
       "</table>\n",
       "</div>"
      ],
      "text/plain": [
       "   threshold  precision    recall  accuracy\n",
       "0       0.10   0.306238  0.707424  0.995277\n",
       "1       0.15   0.321932  0.698690  0.995582\n",
       "2       0.25   0.335484  0.681223  0.995843\n",
       "3       0.50   0.413690  0.606987  0.996877\n",
       "4       1.00   0.479245  0.554585  0.997388"
      ]
     },
     "execution_count": 40,
     "metadata": {},
     "output_type": "execute_result"
    }
   ],
   "source": [
    "def JCfunction(threshold_jc):   \n",
    "\tresults = []\n",
    "\t\n",
    "\tp, n, tp, tn, fp, fn = 0, 0, 0, 0, 0, 0\n",
    "\n",
    "\tfor u, v, jc in jaccard_coefficients:\n",
    "\t\tu, v = min(u, v), max(u, v)\n",
    "\n",
    "\t\tif jc >= threshold_jc:\n",
    "\t\t\tp += 1\n",
    "\n",
    "\t\t\t# We can also use the pandas DataFrames\n",
    "\t\t\t# we created previously,\n",
    "\t\t\t# the method is equivalent\n",
    "\t\t\tif (u, v) in removable_edges:\n",
    "\t\t\t\ttp += 1\n",
    "\t\t\telif (u, v) not in removable_edges:\n",
    "\t\t\t\tfp += 1\n",
    "\t\telse:\n",
    "\t\t\tn += 1\n",
    "\n",
    "\t\t\tif (u, v) in unconnected_pairs:\n",
    "\t\t\t\ttn += 1\n",
    "\t\t\telif (u, v) not in unconnected_pairs:\n",
    "\t\t\t\tfn += 1\n",
    "\n",
    "\tassert p == tp + fp\n",
    "\tassert n == tn + fn\n",
    "\tassert len(unconnected_pairs) == tn + fp, f\"len(unconnected_pairs) = {len(unconnected_pairs)} != {tn + fp} = {tn} + {fp} = tn + fp\"\n",
    "\n",
    "\tprecision_jc = tp / (tp + fp)\n",
    "\trecall_jc = tp / (tp + fn)\n",
    "\taccuracy_jc = (tp + tn) / (tp + fn + tn + fp)\n",
    "\n",
    "\treturn precision_jc, recall_jc, accuracy_jc\n",
    "\n",
    "metrics = []\n",
    "for threshold_jc in [0.1, 0.15, 0.25, 0.5, 1.0]:\n",
    "\tprecision_jc, recall_jc, accuracy_jc = JCfunction(threshold_jc)\n",
    "\tmetrics.append({\n",
    "\t\t\"threshold\": threshold_jc,\n",
    "\t\t\"precision\": precision_jc,\n",
    "\t\t\"recall\": recall_jc,\n",
    "\t\t\"accuracy\": accuracy_jc\n",
    "\t})\n",
    "\n",
    "metrics_df = pd.DataFrame(metrics)\n",
    "\n",
    "metrics_df"
   ]
  },
  {
   "cell_type": "code",
   "execution_count": 41,
   "id": "edb1363f",
   "metadata": {},
   "outputs": [
    {
     "data": {
      "image/png": "[encoded data removed]",
      "text/plain": [
       "<Figure size 1440x600 with 3 Axes>"
      ]
     },
     "metadata": {},
     "output_type": "display_data"
    }
   ],
   "source": [
    "fig, axes = plt.subplots(1, 3, figsize=(2.25 * figw, 1.25 * figh))\n",
    "\n",
    "fig.suptitle(\"Metrics per threshold for Jaccard Coefficient\")\n",
    "\n",
    "for ax, metric, color in zip(axes, [\"precision\", \"recall\", \"accuracy\"], [\"tab:red\", \"tab:green\", \"tab:blue\"]):\n",
    "\tax.grid(True)\n",
    "\tax.set_axisbelow(True)\n",
    "\tax.set_title(metric[0].upper() + metric[1:])\n",
    "\tsns.barplot(data=metrics_df, x=\"threshold\", y=metric, ax=ax, color=color)"
   ]
  },
  {
   "cell_type": "markdown",
   "id": "d432396f",
   "metadata": {},
   "source": [
    "<font size=4><b>3. Πρόβλεψη συνδέσμων βάσει similarity-based μετρικών</b></font>    \n",
    "<li><b>3(i).</b> Προτείνετε μια τουλάχιστον μέθοδο, για να εξερευνήσουμε και να εκφράσουμε μέσα από τα πακέτα NumPy ή SciPy ή Pandas την συσχέτιση (correlation) μεταξύ των τιμών των μετρικών <b>Jaccard Coefficient</b>, <b>Preferential Attachment</b>, <b>Resource Allocation</b> για τον μειωμένο γράφο $G'$. Σημ.: Δεν χρειάζεται κάποια υλοποίηση, μόνο αναφορά της μεθόδου συσχέτισης και επεξήγηση της επιλογής σας.\n"
   ]
  },
  {
   "cell_type": "markdown",
   "id": "c3e47282",
   "metadata": {},
   "source": [
    "Επειδή οι μετρικές Jaccard Coefficient και Resource Allocation παίρνουν συνεχείς τιμές, και επειδή γενικά θέλουμε να ξέρουμε την γραμμική σχέση μεταξύ των μετρικών, θα χρησιμοποιήσουμε Linear Correlation και όχι Rank Correlation. Συγκεκριμένα, θα χρησιμοποιήσουμε τον Pearson Correlation Coefficient:\n",
    "\n",
    "$$\n",
    "r = \\dfrac\n",
    "{\n",
    "    \\sum_{i=1}^{n} {(x_i - \\bar{x}) (y_i - \\bar{y})}\n",
    "}\n",
    "{\n",
    "    \\sqrt{\\sum_{i=1}^{n}(x_i - \\bar{x})^2} \\cdot \\sqrt{\\sum_{i=1}^{n} (y_i - \\bar{y})^2}\n",
    "}\n",
    "$$\n",
    "\n",
    "όπου:\n",
    "\n",
    "* $n$ ο αριθμός των δειγμάτων\n",
    "* $x_i, y_i$ τα δείγματα\n",
    "* $\\bar{x} = \\frac{1}{n} \\sum_{i=1}^{n} x_i$ και $\\bar{y} = \\frac{1}{n} \\sum_{i=1}^{n} y_i$ οι αντίστοιχες μέσες τιμές\n",
    "\n",
    "Ο συντελεστής συσχέτισης $r$ παίρνει τιμές στο $[-1, 1]$. \n",
    "\n",
    "* Όταν $r \\in (0, 1]$ τότε λέμε ότι έχουμε θετική συσχέτιση, δηλαδή ότι όταν αυξάνεται η μία μετρική, τότε αυξάνεται και η άλλη. Συγκεκριμένα για $r = 1$ λέμε ότι έχουμε _τέλεια_ θετική συσχέτιση.\n",
    "* Όταν $r \\in [-1, 0]$ τότε λέμε ότι έχουμε αρνητική συσχέτιση, δηλαδή ότι όταν αυξάνεται η μία μετρική, τότε η άλλη μειώνεται. Συγκεκριμένα για $r = -1$ λέμε ότι έχουμε _τέλεια_ αρνητική συσχέτιση.\n",
    "* Όταν $r = 0$ τότε λέμε ότι οι μετρικές είναι μεταξύ τους _ασυσχέτιστες_.\n",
    "\n",
    "Ανάλογα με το πακέτο που θα χρησιμοποιήσουμε, αλλάζει και η ονομασία της αντίστοιχης συνάρτησης που υλοποιεί τον Pearson Correlation Coefficient:\n",
    "\n",
    "| Πακέτο | Συνάρτηση               | \n",
    "| -      | -                       |\n",
    "| NumPy  | `numpy.corrcoef`        |\n",
    "| SciPy  | `scipy.stats.pearsonr`  |\n",
    "| Pandas | `pandas.DataFrame.corr` |\n",
    "\n",
    "Να σημειωθεί ότι όταν δύο μετρικές είναι ασυσχέτιστες, αυτό <u>δεν σημαίνει απαραίτητα πως είναι και ανεξάρτητες</u>. Αντίστοιχα αν οι μετρικές είναι συσχετισμένες μεταξύ τους, αυτό δεν σημαίνει ότι κάποια από τις δύο προκαλεί την άλλη. Γι' αυτό και δεν μπορούμε να χρησιμοποιήσουμε τον συντελεστή συσχέτισης για να βρούμε σχέση αιτίου-αποτελέσματος μεταξύ των μετρικών."
   ]
  },
  {
   "cell_type": "markdown",
   "id": "85cfd351",
   "metadata": {},
   "source": [
    "<li><b>3(ii).</b> Εργαστείτε πάνω σε <b><u>αντίγραφο</u></b> του dataframe που κατασκευάσατε στο ερώτημα 1(va) (unconnected+removables). Δημιουργήστε στήλη (column) με τις ακμές του γράφου και θέστε την ως index του dataframe. Στο dataframe θα προσθέσετε ως στήλες τις τιμές των μετρικών (<b>Jaccard Coefficient</b>, <b>Preferential Attachment</b>, <b>Resource Allocation</b>) για τον μειωμένο γράφο $G'$. Οι τιμές των μετρικών μπορούν να υπολογιστούν με τις συναρτήσεις του πακέτου NetworkX.</li></font><br/>\n",
    "    \n",
    "|       | link  |Jacc.Coeff.|Pr.Attachment| Resource Allocation|\n",
    "|-------|-------|-----------|-------------|--------------------|\n",
    "|(1, 6) |  0    |  0.333333 |     32      |    0.700000        |\n",
    "|(1, 46)|  0    |  0.200000 |      8      |    0.166667        |"
   ]
  },
  {
   "cell_type": "code",
   "execution_count": 42,
   "id": "7c40c8d6",
   "metadata": {},
   "outputs": [
    {
     "data": {
      "text/html": [
       "<div>\n",
       "<style scoped>\n",
       "    .dataframe tbody tr th:only-of-type {\n",
       "        vertical-align: middle;\n",
       "    }\n",
       "\n",
       "    .dataframe tbody tr th {\n",
       "        vertical-align: top;\n",
       "    }\n",
       "\n",
       "    .dataframe thead th {\n",
       "        text-align: right;\n",
       "    }\n",
       "</style>\n",
       "<table border=\"1\" class=\"dataframe\">\n",
       "  <thead>\n",
       "    <tr style=\"text-align: right;\">\n",
       "      <th></th>\n",
       "      <th>link</th>\n",
       "      <th>Jaccard Coefficient</th>\n",
       "      <th>Preferential Attachment</th>\n",
       "      <th>Resource Allocation</th>\n",
       "    </tr>\n",
       "    <tr>\n",
       "      <th></th>\n",
       "      <th></th>\n",
       "      <th></th>\n",
       "      <th></th>\n",
       "      <th></th>\n",
       "    </tr>\n",
       "  </thead>\n",
       "  <tbody>\n",
       "    <tr>\n",
       "      <th>(1, 6)</th>\n",
       "      <td>0</td>\n",
       "      <td>0.0</td>\n",
       "      <td>7</td>\n",
       "      <td>0.000000</td>\n",
       "    </tr>\n",
       "    <tr>\n",
       "      <th>(1, 7)</th>\n",
       "      <td>0</td>\n",
       "      <td>0.0</td>\n",
       "      <td>1</td>\n",
       "      <td>0.000000</td>\n",
       "    </tr>\n",
       "    <tr>\n",
       "      <th>(1, 8)</th>\n",
       "      <td>0</td>\n",
       "      <td>0.0</td>\n",
       "      <td>3</td>\n",
       "      <td>0.000000</td>\n",
       "    </tr>\n",
       "    <tr>\n",
       "      <th>(1, 9)</th>\n",
       "      <td>0</td>\n",
       "      <td>0.0</td>\n",
       "      <td>3</td>\n",
       "      <td>0.000000</td>\n",
       "    </tr>\n",
       "    <tr>\n",
       "      <th>(1, 10)</th>\n",
       "      <td>0</td>\n",
       "      <td>0.0</td>\n",
       "      <td>2</td>\n",
       "      <td>0.000000</td>\n",
       "    </tr>\n",
       "    <tr>\n",
       "      <th>...</th>\n",
       "      <td>...</td>\n",
       "      <td>...</td>\n",
       "      <td>...</td>\n",
       "      <td>...</td>\n",
       "    </tr>\n",
       "    <tr>\n",
       "      <th>(401, 403)</th>\n",
       "      <td>1</td>\n",
       "      <td>1.0</td>\n",
       "      <td>1</td>\n",
       "      <td>0.166667</td>\n",
       "    </tr>\n",
       "    <tr>\n",
       "      <th>(401, 404)</th>\n",
       "      <td>1</td>\n",
       "      <td>1.0</td>\n",
       "      <td>1</td>\n",
       "      <td>0.166667</td>\n",
       "    </tr>\n",
       "    <tr>\n",
       "      <th>(402, 403)</th>\n",
       "      <td>1</td>\n",
       "      <td>1.0</td>\n",
       "      <td>1</td>\n",
       "      <td>0.166667</td>\n",
       "    </tr>\n",
       "    <tr>\n",
       "      <th>(402, 404)</th>\n",
       "      <td>1</td>\n",
       "      <td>1.0</td>\n",
       "      <td>1</td>\n",
       "      <td>0.166667</td>\n",
       "    </tr>\n",
       "    <tr>\n",
       "      <th>(403, 404)</th>\n",
       "      <td>1</td>\n",
       "      <td>1.0</td>\n",
       "      <td>1</td>\n",
       "      <td>0.166667</td>\n",
       "    </tr>\n",
       "  </tbody>\n",
       "</table>\n",
       "<p>91900 rows × 4 columns</p>\n",
       "</div>"
      ],
      "text/plain": [
       "            link  Jaccard Coefficient  Preferential Attachment  \\\n",
       "                                                                 \n",
       "(1, 6)         0                  0.0                        7   \n",
       "(1, 7)         0                  0.0                        1   \n",
       "(1, 8)         0                  0.0                        3   \n",
       "(1, 9)         0                  0.0                        3   \n",
       "(1, 10)        0                  0.0                        2   \n",
       "...          ...                  ...                      ...   \n",
       "(401, 403)     1                  1.0                        1   \n",
       "(401, 404)     1                  1.0                        1   \n",
       "(402, 403)     1                  1.0                        1   \n",
       "(402, 404)     1                  1.0                        1   \n",
       "(403, 404)     1                  1.0                        1   \n",
       "\n",
       "            Resource Allocation  \n",
       "                                 \n",
       "(1, 6)                 0.000000  \n",
       "(1, 7)                 0.000000  \n",
       "(1, 8)                 0.000000  \n",
       "(1, 9)                 0.000000  \n",
       "(1, 10)                0.000000  \n",
       "...                         ...  \n",
       "(401, 403)             0.166667  \n",
       "(401, 404)             0.166667  \n",
       "(402, 403)             0.166667  \n",
       "(402, 404)             0.166667  \n",
       "(403, 404)             0.166667  \n",
       "\n",
       "[91900 rows x 4 columns]"
      ]
     },
     "execution_count": 42,
     "metadata": {},
     "output_type": "execute_result"
    }
   ],
   "source": [
    "# replicate of the dataframe \"unconnected+removables\"; dataframe will be used again in (4)\n",
    "copied_df = merged_df.copy()\n",
    "\n",
    "# dataframe for similarity-based measurement values\n",
    "\n",
    "# Jaccard Coefficient\n",
    "copied_df[\"Jaccard Coefficient\"] = copied_df.apply(lambda row: list(nx.jaccard_coefficient(G_reduced, [row.pair]))[0][2], axis=1)\n",
    "\n",
    "# Preferential Attachment\n",
    "copied_df[\"Preferential Attachment\"] = copied_df.apply(lambda row: list(nx.preferential_attachment(G_reduced, [row.pair]))[0][2], axis=1)\n",
    "\n",
    "# Resource Allocation\n",
    "copied_df[\"Resource Allocation\"] = copied_df.apply(lambda row: list(nx.resource_allocation_index(G_reduced, [row.pair]))[0][2], axis=1)\n",
    "\n",
    "copied_df = copied_df.set_index(\"pair\")\n",
    "copied_df.index.name = \"\"\n",
    "\n",
    "copied_df"
   ]
  },
  {
   "cell_type": "markdown",
   "id": "76f9318d",
   "metadata": {},
   "source": [
    "<li><b>3(iiia).</b> Χρησιμοποιήστε τον Random Forest Classifier και το αντίγραφο dataframe που κατασκευάσατε στο ερώτημα 3(ii), για να προβλέψετε συνδέσεις. Συμπληρώστε στον κώδικα: τα features ($X$), την target variable ($y$) και τα ορίσματα της συνάρτησης $fit$ για το training του μοντέλου.</li>"
   ]
  },
  {
   "cell_type": "code",
   "execution_count": 43,
   "id": "f700d165",
   "metadata": {},
   "outputs": [
    {
     "data": {
      "text/html": [
       "<style>#sk-container-id-2 {color: black;background-color: white;}#sk-container-id-2 pre{padding: 0;}#sk-container-id-2 div.sk-toggleable {background-color: white;}#sk-container-id-2 label.sk-toggleable__label {cursor: pointer;display: block;width: 100%;margin-bottom: 0;padding: 0.3em;box-sizing: border-box;text-align: center;}#sk-container-id-2 label.sk-toggleable__label-arrow:before {content: \"▸\";float: left;margin-right: 0.25em;color: #696969;}#sk-container-id-2 label.sk-toggleable__label-arrow:hover:before {color: black;}#sk-container-id-2 div.sk-estimator:hover label.sk-toggleable__label-arrow:before {color: black;}#sk-container-id-2 div.sk-toggleable__content {max-height: 0;max-width: 0;overflow: hidden;text-align: left;background-color: #f0f8ff;}#sk-container-id-2 div.sk-toggleable__content pre {margin: 0.2em;color: black;border-radius: 0.25em;background-color: #f0f8ff;}#sk-container-id-2 input.sk-toggleable__control:checked~div.sk-toggleable__content {max-height: 200px;max-width: 100%;overflow: auto;}#sk-container-id-2 input.sk-toggleable__control:checked~label.sk-toggleable__label-arrow:before {content: \"▾\";}#sk-container-id-2 div.sk-estimator input.sk-toggleable__control:checked~label.sk-toggleable__label {background-color: #d4ebff;}#sk-container-id-2 div.sk-label input.sk-toggleable__control:checked~label.sk-toggleable__label {background-color: #d4ebff;}#sk-container-id-2 input.sk-hidden--visually {border: 0;clip: rect(1px 1px 1px 1px);clip: rect(1px, 1px, 1px, 1px);height: 1px;margin: -1px;overflow: hidden;padding: 0;position: absolute;width: 1px;}#sk-container-id-2 div.sk-estimator {font-family: monospace;background-color: #f0f8ff;border: 1px dotted black;border-radius: 0.25em;box-sizing: border-box;margin-bottom: 0.5em;}#sk-container-id-2 div.sk-estimator:hover {background-color: #d4ebff;}#sk-container-id-2 div.sk-parallel-item::after {content: \"\";width: 100%;border-bottom: 1px solid gray;flex-grow: 1;}#sk-container-id-2 div.sk-label:hover label.sk-toggleable__label {background-color: #d4ebff;}#sk-container-id-2 div.sk-serial::before {content: \"\";position: absolute;border-left: 1px solid gray;box-sizing: border-box;top: 0;bottom: 0;left: 50%;z-index: 0;}#sk-container-id-2 div.sk-serial {display: flex;flex-direction: column;align-items: center;background-color: white;padding-right: 0.2em;padding-left: 0.2em;position: relative;}#sk-container-id-2 div.sk-item {position: relative;z-index: 1;}#sk-container-id-2 div.sk-parallel {display: flex;align-items: stretch;justify-content: center;background-color: white;position: relative;}#sk-container-id-2 div.sk-item::before, #sk-container-id-2 div.sk-parallel-item::before {content: \"\";position: absolute;border-left: 1px solid gray;box-sizing: border-box;top: 0;bottom: 0;left: 50%;z-index: -1;}#sk-container-id-2 div.sk-parallel-item {display: flex;flex-direction: column;z-index: 1;position: relative;background-color: white;}#sk-container-id-2 div.sk-parallel-item:first-child::after {align-self: flex-end;width: 50%;}#sk-container-id-2 div.sk-parallel-item:last-child::after {align-self: flex-start;width: 50%;}#sk-container-id-2 div.sk-parallel-item:only-child::after {width: 0;}#sk-container-id-2 div.sk-dashed-wrapped {border: 1px dashed gray;margin: 0 0.4em 0.5em 0.4em;box-sizing: border-box;padding-bottom: 0.4em;background-color: white;}#sk-container-id-2 div.sk-label label {font-family: monospace;font-weight: bold;display: inline-block;line-height: 1.2em;}#sk-container-id-2 div.sk-label-container {text-align: center;}#sk-container-id-2 div.sk-container {/* jupyter's `normalize.less` sets `[hidden] { display: none; }` but bootstrap.min.css set `[hidden] { display: none !important; }` so we also need the `!important` here to be able to override the default hidden behavior on the sphinx rendered scikit-learn.org. See: https://github.com/scikit-learn/scikit-learn/issues/21755 */display: inline-block !important;position: relative;}#sk-container-id-2 div.sk-text-repr-fallback {display: none;}</style><div id=\"sk-container-id-2\" class=\"sk-top-container\"><div class=\"sk-text-repr-fallback\"><pre>GridSearchCV(estimator=RandomForestClassifier(),\n",
       "             param_grid={&#x27;max_depth&#x27;: [5, 10, 15],\n",
       "                         &#x27;n_estimators&#x27;: [10, 50, 100]})</pre><b>In a Jupyter environment, please rerun this cell to show the HTML representation or trust the notebook. <br />On GitHub, the HTML representation is unable to render, please try loading this page with nbviewer.org.</b></div><div class=\"sk-container\" hidden><div class=\"sk-item sk-dashed-wrapped\"><div class=\"sk-label-container\"><div class=\"sk-label sk-toggleable\"><input class=\"sk-toggleable__control sk-hidden--visually\" id=\"sk-estimator-id-4\" type=\"checkbox\" ><label for=\"sk-estimator-id-4\" class=\"sk-toggleable__label sk-toggleable__label-arrow\">GridSearchCV</label><div class=\"sk-toggleable__content\"><pre>GridSearchCV(estimator=RandomForestClassifier(),\n",
       "             param_grid={&#x27;max_depth&#x27;: [5, 10, 15],\n",
       "                         &#x27;n_estimators&#x27;: [10, 50, 100]})</pre></div></div></div><div class=\"sk-parallel\"><div class=\"sk-parallel-item\"><div class=\"sk-item\"><div class=\"sk-label-container\"><div class=\"sk-label sk-toggleable\"><input class=\"sk-toggleable__control sk-hidden--visually\" id=\"sk-estimator-id-5\" type=\"checkbox\" ><label for=\"sk-estimator-id-5\" class=\"sk-toggleable__label sk-toggleable__label-arrow\">estimator: RandomForestClassifier</label><div class=\"sk-toggleable__content\"><pre>RandomForestClassifier()</pre></div></div></div><div class=\"sk-serial\"><div class=\"sk-item\"><div class=\"sk-estimator sk-toggleable\"><input class=\"sk-toggleable__control sk-hidden--visually\" id=\"sk-estimator-id-6\" type=\"checkbox\" ><label for=\"sk-estimator-id-6\" class=\"sk-toggleable__label sk-toggleable__label-arrow\">RandomForestClassifier</label><div class=\"sk-toggleable__content\"><pre>RandomForestClassifier()</pre></div></div></div></div></div></div></div></div></div></div>"
      ],
      "text/plain": [
       "GridSearchCV(estimator=RandomForestClassifier(),\n",
       "             param_grid={'max_depth': [5, 10, 15],\n",
       "                         'n_estimators': [10, 50, 100]})"
      ]
     },
     "execution_count": 43,
     "metadata": {},
     "output_type": "execute_result"
    }
   ],
   "source": [
    "X = copied_df[copied_df.columns.drop(\"link\")]\n",
    "y = copied_df[\"link\"]\n",
    "\n",
    "X_train, X_test, y_train, y_test = train_test_split(X, y, random_state=0) \n",
    "\n",
    "classifier = RandomForestClassifier()   \n",
    "\n",
    "mm_scaler = MinMaxScaler() \n",
    "X_train_scaled = mm_scaler.fit_transform(X_train)\n",
    "X_test_scaled = mm_scaler.transform(X_test)\n",
    "\n",
    "parameters = {\n",
    "\t\"n_estimators\": [10, 50, 100], \n",
    "\t\"max_depth\": [5, 10, 15]\n",
    "}\n",
    "\n",
    "model = GridSearchCV(classifier, param_grid=parameters) \n",
    "\n",
    "model.fit(X_train_scaled, y_train)"
   ]
  },
  {
   "cell_type": "markdown",
   "id": "6e3bb0ee",
   "metadata": {},
   "source": [
    "<li><b>3(iiib).</b> Δώστε τις ($A.M$ $mod$ $10$) πρώτες προβλέψεις και την ακρίβεια ($accuracy$) του μοντέλου. </li>"
   ]
  },
  {
   "cell_type": "code",
   "execution_count": 44,
   "id": "a75156d9",
   "metadata": {},
   "outputs": [
    {
     "name": "stdout",
     "output_type": "stream",
     "text": [
      "First 5 predictions: [0 0 0 0 0]\n",
      "Accuracy: 0.9989989118607182\n"
     ]
    }
   ],
   "source": [
    "predictions = model.predict(X_test_scaled)\n",
    "print(f\"First {k} predictions: {predictions[:k]}\")\n",
    "print(f\"Accuracy: {accuracy_score(y_test, predictions)}\")"
   ]
  },
  {
   "cell_type": "markdown",
   "id": "eacf18f0",
   "metadata": {},
   "source": [
    "<li><b>3(iiic).</b>Υπολογίστε την πιθανότητα να συνδεθούν οι κόμβοι ($1$,$47$) βάσει του μοντέλου σας. </li>  "
   ]
  },
  {
   "cell_type": "code",
   "execution_count": 45,
   "id": "df4a65f5",
   "metadata": {},
   "outputs": [
    {
     "name": "stdout",
     "output_type": "stream",
     "text": [
      "Probability of nodes 1, 47 being connected: 0.00031849401809136896\n"
     ]
    }
   ],
   "source": [
    "predict_proba = model.predict_proba(\n",
    "    mm_scaler.transform(\n",
    "        copied_df.loc[[(1, 47)]][copied_df.columns.drop(\"link\")]\n",
    "    )\n",
    ")[0][1]\n",
    "\n",
    "print(f\"Probability of nodes 1, 47 being connected: {predict_proba}\")"
   ]
  },
  {
   "cell_type": "markdown",
   "id": "f4c43988",
   "metadata": {},
   "source": [
    "<html><font size=4><b>4. Πρόβλεψη συνδέσμων με embedding βασισμένο σε τυχαίους περιπάτους (Random Walks) </b></font><br/><br/>\n",
    "    <li><b>4(i).</b> Εξάγετε τα χαρακτηριστικά (features) του γράφου $G'$, που προέκυψε από την αφαίρεση των ακμών. Για τον σκοπό αυτό χρησιμοποιήστε τον αλγόριθμο <b>Node2vec</b> <a href=\"https://cs.stanford.edu/~jure/pubs/node2vec-kdd16.pdf\">[3]</a>. Ο αλγόριθμος αντιστοιχίζει τους κόμβους του γράφου μέσω τυχαίων περιπάτων (biased 2nd order random walks) σε ένα χώρο μικρού αριθμού διαστάσεων (low dimensional space) διατηρώντας την μεταξύ τους γειτνίαση.\n",
    "        <br/>Για την επιλογή των παραμέτρων: \n",
    "            <li>p - παράμετρος τυχαίων περιπάτων p που καθορίζει την πιθανότητα “1/p” επιστροφής στον κόμβο προέλευσης (source node), </li>\n",
    "                <li>q - παράμετρος τυχαίων περιπάτων q που καθορίζει την πιθανότητα  “1/q” μετακίνησης σε κόμβο μακριά από τον κόμβο προέλευσης (source node), </li>\n",
    "                 <li>dimensions - πλήθος διαστάσεων των Node2Vec embeddings, </li>\n",
    "                     <li>num_walks - αριθμός περιπάτων από κάθε κόμβο, </li>\n",
    "                         <li>walk_length - μήκος τυχαίου περιπάτου, </li>\n",
    "                             <li>window_size - μέγεθος παραθύρου context για τον αλγόριθμο Word2Vec, </li><li>num_iter - αριθμός SGD επαναλήψεων (epochs), </li>\n",
    "            <li>workers - αριθμός workers για τον Word2Vec,</li>\n",
    "            χρησιμοποιήστε τις τιμές:   </html>\n",
    "   \n",
    "                   "
   ]
  },
  {
   "cell_type": "markdown",
   "id": "fdbc5274",
   "metadata": {},
   "source": [
    " |   p   |   q   | dimensions|  num_walks  |walk_length |window_size|        workers            |\n",
    " |-------|-------|-----------|-------------|------------|-----------|---------------------------|\n",
    " |  1.0  |  1.0  |  128      |     10      |    80      |     10    |multiprocessing.cpu_count()|"
   ]
  },
  {
   "cell_type": "code",
   "execution_count": 46,
   "id": "aa8e668d",
   "metadata": {},
   "outputs": [
    {
     "data": {
      "application/vnd.jupyter.widget-view+json": {
       "model_id": "afc520b75af246a8bff473c6aa58c8f3",
       "version_major": 2,
       "version_minor": 0
      },
      "text/plain": [
       "Computing transition probabilities:   0%|          | 0/430 [00:00<?, ?it/s]"
      ]
     },
     "metadata": {},
     "output_type": "display_data"
    },
    {
     "name": "stderr",
     "output_type": "stream",
     "text": [
      "Generating walks (CPU: 3): 100%|██████████| 1/1 [00:00<00:00,  5.02it/s]\n",
      "Generating walks (CPU: 4): 100%|██████████| 1/1 [00:00<00:00,  4.24it/s]\n",
      "Generating walks (CPU: 5): 100%|██████████| 1/1 [00:00<00:00,  3.98it/s]\n",
      "Generating walks (CPU: 1): 100%|██████████| 2/2 [00:00<00:00,  4.21it/s]\n",
      "Generating walks (CPU: 6): 100%|██████████| 1/1 [00:00<00:00,  3.73it/s]\n",
      "Generating walks (CPU: 2): 100%|██████████| 2/2 [00:00<00:00,  4.38it/s]\n",
      "Generating walks (CPU: 7): 100%|██████████| 1/1 [00:00<00:00,  4.07it/s]\n",
      "Generating walks (CPU: 8): 100%|██████████| 1/1 [00:00<00:00,  4.53it/s]\n"
     ]
    }
   ],
   "source": [
    "# generate walks\n",
    "node2vec_walker = Node2Vec(\n",
    "\tG_reduced,\n",
    "\tp=1.0, \n",
    "\tq=1.0, \n",
    "\tdimensions=128, \n",
    "\tnum_walks=10, \n",
    "\twalk_length=80, \n",
    "\tworkers=multiprocessing.cpu_count()\n",
    ") \n",
    "\n",
    "# train node2vec model\n",
    "n2v_model = node2vec_walker.fit(window=10, min_count=1)"
   ]
  },
  {
   "cell_type": "markdown",
   "id": "294f0aab",
   "metadata": {},
   "source": [
    "<font><li><b>4(ii).</b> Εφαρμόστε τον αλγόριθμο Random Forest Classifier, για να προβλέψετε τις συνδέσεις.</li>"
   ]
  },
  {
   "cell_type": "code",
   "execution_count": 47,
   "id": "f7d08fb7",
   "metadata": {},
   "outputs": [
    {
     "data": {
      "text/html": [
       "<style>#sk-container-id-3 {color: black;background-color: white;}#sk-container-id-3 pre{padding: 0;}#sk-container-id-3 div.sk-toggleable {background-color: white;}#sk-container-id-3 label.sk-toggleable__label {cursor: pointer;display: block;width: 100%;margin-bottom: 0;padding: 0.3em;box-sizing: border-box;text-align: center;}#sk-container-id-3 label.sk-toggleable__label-arrow:before {content: \"▸\";float: left;margin-right: 0.25em;color: #696969;}#sk-container-id-3 label.sk-toggleable__label-arrow:hover:before {color: black;}#sk-container-id-3 div.sk-estimator:hover label.sk-toggleable__label-arrow:before {color: black;}#sk-container-id-3 div.sk-toggleable__content {max-height: 0;max-width: 0;overflow: hidden;text-align: left;background-color: #f0f8ff;}#sk-container-id-3 div.sk-toggleable__content pre {margin: 0.2em;color: black;border-radius: 0.25em;background-color: #f0f8ff;}#sk-container-id-3 input.sk-toggleable__control:checked~div.sk-toggleable__content {max-height: 200px;max-width: 100%;overflow: auto;}#sk-container-id-3 input.sk-toggleable__control:checked~label.sk-toggleable__label-arrow:before {content: \"▾\";}#sk-container-id-3 div.sk-estimator input.sk-toggleable__control:checked~label.sk-toggleable__label {background-color: #d4ebff;}#sk-container-id-3 div.sk-label input.sk-toggleable__control:checked~label.sk-toggleable__label {background-color: #d4ebff;}#sk-container-id-3 input.sk-hidden--visually {border: 0;clip: rect(1px 1px 1px 1px);clip: rect(1px, 1px, 1px, 1px);height: 1px;margin: -1px;overflow: hidden;padding: 0;position: absolute;width: 1px;}#sk-container-id-3 div.sk-estimator {font-family: monospace;background-color: #f0f8ff;border: 1px dotted black;border-radius: 0.25em;box-sizing: border-box;margin-bottom: 0.5em;}#sk-container-id-3 div.sk-estimator:hover {background-color: #d4ebff;}#sk-container-id-3 div.sk-parallel-item::after {content: \"\";width: 100%;border-bottom: 1px solid gray;flex-grow: 1;}#sk-container-id-3 div.sk-label:hover label.sk-toggleable__label {background-color: #d4ebff;}#sk-container-id-3 div.sk-serial::before {content: \"\";position: absolute;border-left: 1px solid gray;box-sizing: border-box;top: 0;bottom: 0;left: 50%;z-index: 0;}#sk-container-id-3 div.sk-serial {display: flex;flex-direction: column;align-items: center;background-color: white;padding-right: 0.2em;padding-left: 0.2em;position: relative;}#sk-container-id-3 div.sk-item {position: relative;z-index: 1;}#sk-container-id-3 div.sk-parallel {display: flex;align-items: stretch;justify-content: center;background-color: white;position: relative;}#sk-container-id-3 div.sk-item::before, #sk-container-id-3 div.sk-parallel-item::before {content: \"\";position: absolute;border-left: 1px solid gray;box-sizing: border-box;top: 0;bottom: 0;left: 50%;z-index: -1;}#sk-container-id-3 div.sk-parallel-item {display: flex;flex-direction: column;z-index: 1;position: relative;background-color: white;}#sk-container-id-3 div.sk-parallel-item:first-child::after {align-self: flex-end;width: 50%;}#sk-container-id-3 div.sk-parallel-item:last-child::after {align-self: flex-start;width: 50%;}#sk-container-id-3 div.sk-parallel-item:only-child::after {width: 0;}#sk-container-id-3 div.sk-dashed-wrapped {border: 1px dashed gray;margin: 0 0.4em 0.5em 0.4em;box-sizing: border-box;padding-bottom: 0.4em;background-color: white;}#sk-container-id-3 div.sk-label label {font-family: monospace;font-weight: bold;display: inline-block;line-height: 1.2em;}#sk-container-id-3 div.sk-label-container {text-align: center;}#sk-container-id-3 div.sk-container {/* jupyter's `normalize.less` sets `[hidden] { display: none; }` but bootstrap.min.css set `[hidden] { display: none !important; }` so we also need the `!important` here to be able to override the default hidden behavior on the sphinx rendered scikit-learn.org. See: https://github.com/scikit-learn/scikit-learn/issues/21755 */display: inline-block !important;position: relative;}#sk-container-id-3 div.sk-text-repr-fallback {display: none;}</style><div id=\"sk-container-id-3\" class=\"sk-top-container\"><div class=\"sk-text-repr-fallback\"><pre>RandomForestClassifier(max_depth=2, random_state=0)</pre><b>In a Jupyter environment, please rerun this cell to show the HTML representation or trust the notebook. <br />On GitHub, the HTML representation is unable to render, please try loading this page with nbviewer.org.</b></div><div class=\"sk-container\" hidden><div class=\"sk-item\"><div class=\"sk-estimator sk-toggleable\"><input class=\"sk-toggleable__control sk-hidden--visually\" id=\"sk-estimator-id-7\" type=\"checkbox\" checked><label for=\"sk-estimator-id-7\" class=\"sk-toggleable__label sk-toggleable__label-arrow\">RandomForestClassifier</label><div class=\"sk-toggleable__content\"><pre>RandomForestClassifier(max_depth=2, random_state=0)</pre></div></div></div></div></div>"
      ],
      "text/plain": [
       "RandomForestClassifier(max_depth=2, random_state=0)"
      ]
     },
     "execution_count": 47,
     "metadata": {},
     "output_type": "execute_result"
    }
   ],
   "source": [
    "# apply trained Node2Vec model on each node pair of the dataframe \"unconnected+removables\"\n",
    "x = [n2v_model.wv[str(i)] + n2v_model.wv[str(j)] for i, j in merged_df[\"pair\"]]\n",
    "\n",
    "X_train, X_test, y_train, y_test = train_test_split(x, merged_df[\"link\"], random_state=0)\n",
    "\n",
    "classifier = RandomForestClassifier(max_depth=2, random_state=0) \n",
    "classifier.fit(X_train, y_train)"
   ]
  },
  {
   "cell_type": "markdown",
   "id": "a6ad75b8",
   "metadata": {},
   "source": [
    "<li><b>4(iii).</b> Υπολογίστε την ακρίβεια ($accuracy$) του μοντέλου. </li></font>"
   ]
  },
  {
   "cell_type": "code",
   "execution_count": 48,
   "id": "77e83c67",
   "metadata": {},
   "outputs": [
    {
     "name": "stdout",
     "output_type": "stream",
     "text": [
      "Accuracy: 0.9987377584330794\n"
     ]
    }
   ],
   "source": [
    "print(f\"Accuracy: {accuracy_score(y_test, classifier.predict(X_test))}\")"
   ]
  },
  {
   "cell_type": "markdown",
   "id": "a0c0b3bb",
   "metadata": {},
   "source": [
    "<html><font size=4> <b><u>Ερώτηση bonus (+10/100)</u><b>: </font>Για τους binary operators για learning των edge features με τον αλγόριθμο Node2Vec που αναφέρονται στο <a href=\"https://cs.stanford.edu/~jure/pubs/node2vec-kdd16.pdf\">[3]</a> ((a) Average, (b) Hadamard, (c) Weighted-L1 και (d) Weighted-L2) τροποποιήστε τoν κώδικά σας και σημειώστε τις παρατηρήσεις σας ως προς την απόδοση του αλγορίθμου.</font></html>"
   ]
  },
  {
   "cell_type": "code",
   "execution_count": 49,
   "id": "20b5d514",
   "metadata": {},
   "outputs": [
    {
     "name": "stdout",
     "output_type": "stream",
     "text": [
      "╒═════════════╤════════════╕\n",
      "│ Operator    │   Accuracy │\n",
      "╞═════════════╪════════════╡\n",
      "│ Average     │   0.998738 │\n",
      "├─────────────┼────────────┤\n",
      "│ Hadamard    │   0.998694 │\n",
      "├─────────────┼────────────┤\n",
      "│ Weighted-L1 │   0.997606 │\n",
      "├─────────────┼────────────┤\n",
      "│ Weighted-L2 │   0.997606 │\n",
      "╘═════════════╧════════════╛\n"
     ]
    }
   ],
   "source": [
    "embedders = {\n",
    "\t\"Average\": AverageEmbedder,\n",
    "\t\"Hadamard\": HadamardEmbedder,\n",
    "\t\"Weighted-L1\": WeightedL1Embedder,\n",
    "\t\"Weighted-L2\": WeightedL2Embedder\n",
    "}\n",
    "\n",
    "data = []\n",
    "headers = [\"Operator\", \"Accuracy\"]\n",
    "\n",
    "for name, Embedder in embedders.items():\t\n",
    "\tx = [Embedder(keyed_vectors=n2v_model.wv)[(str(i), str(j))] for i, j in merged_df[\"pair\"]]\n",
    "\n",
    "\tX_train, X_test, y_train, y_test = train_test_split(x, merged_df[\"link\"], random_state=0)\n",
    "\tclassifier = RandomForestClassifier(max_depth=2, random_state=0) \n",
    "\tclassifier.fit(X_train, y_train)\n",
    "\n",
    "\tdata.append(\n",
    "\t\t[\n",
    "\t\t\tname,\n",
    "\t\t\taccuracy_score(y_test, classifier.predict(X_test))\n",
    "\t\t]\n",
    "\t)\n",
    "\n",
    "table(headers, data)"
   ]
  },
  {
   "cell_type": "markdown",
   "id": "8eeba859",
   "metadata": {},
   "source": [
    "Η διαφορά των παραπάνω μεθόδων έγκειται στην υλοποίηση της μεθόδου `embed()`. \n",
    "\n",
    "$\\text{AverageEmbedder.embed(u, v)} = \\dfrac{\\text{kv[u]} + \\text{kv[v]}}{\\text{2}}$\n",
    "\n",
    "$\\text{HadamardEmbedder.embed(u, v)} = \\text{kv[u]} \\cdot \\text{kv[v]}$\n",
    "\n",
    "$\\text{WeightedL1Embedder.embed(u, v)} = |\\text{kv[u]} - \\text{kv[v]}|$\n",
    "\n",
    "$\\text{WeightedL2Embedder.embed(u, v)} = (\\text{kv[u]} - \\text{kv[v]})^{\\text{2}}$\n",
    "\n",
    "όπου `(u, v)` είναι η ακμή και `kv` είναι ένα αντικείμενο της κλάσης `KeyedVectors` της βιβλιοθήκης `gensim`. (Για περισσότερες λεπτομέρειες, μία υλοποίηση του node2vec υπάρχει σε [αυτό το github repo](https://github.com/eliorc/node2vec)). \n",
    "\n",
    "Παρατηρούμε ότι με όλες τις παραπάνω μεθόδους πετυχαίνουμε accuracy 99.7-99.8%, επομένως είναι όλες παραπλήσιες. Αν έπρεπε οπωσδήποτε να διαλέξουμε, θα επιλέγαμε την μέθοδο που χρησιμοποιήσαμε στα παραπάνω ερωτήματα, αφού δεν χρειάζεται την βιβλιοθήκη `node2vec.edges`."
   ]
  },
  {
   "cell_type": "markdown",
   "id": "8da3a402",
   "metadata": {},
   "source": [
    "<html><font size=4><b><u>Βιβλιογραφία:</u></b><br/></font>\n",
    "<a href=\"https://dl.acm.org/doi/10.1145/2487788.2488173\">[1]\tJérôme Kunegis. KONECT – The Koblenz Network Collection. In Proc. Int. Conf. on World Wide Web Companion, pages 1343–1350, 2013.</a><br/>\n",
    "<a href=\"https://link.springer.com/chapter/10.1007/978-3-540-76298-0_52\">[2]\tSören Auer, Christian Bizer, Georgi Kobilarov, Jens Lehmann, Richard Cyganiak, and Zachary Ives. DBpedia: A nucleus for a web of open data. In Proc. Int. Semant. Web Conf., pages 722–735, 2008.<br/>\n",
    "<a href=\"https://cs.stanford.edu/~jure/pubs/node2vec-kdd16.pdf\">[3] A. Grover, J. Leskovec, Node2vec: Scalable Feature Learning for Networks. ACM KDD, 2016.</a><br/>\n",
    "<a href=\"https://proceedings.neurips.cc/paper/2013/file/9aa42b31882ec039965f3c4923ce901b-Paper.pdf\">[4] T.Mikolov, I.Sutskever, K.Chen, G.S.Corrado and J.Dean, Distributed representations of words and phrases and their compositionality. In NIPS, 2013.</a><br/></font></html>"
   ]
  }
 ],
 "metadata": {
  "kernelspec": {
   "display_name": "Python 3 (ipykernel)",
   "language": "python",
   "name": "python3"
  },
  "language_info": {
   "codemirror_mode": {
    "name": "ipython",
    "version": 3
   },
   "file_extension": ".py",
   "mimetype": "text/x-python",
   "name": "python",
   "nbconvert_exporter": "python",
   "pygments_lexer": "ipython3",
   "version": "3.10.8"
  },
  "vscode": {
   "interpreter": {
    "hash": "76d610cf4d1c56b3d10e69dcbee4333598110defc333120a9d5d56475d4378ea"
   }
  }
 },
 "nbformat": 4,
 "nbformat_minor": 5
}
