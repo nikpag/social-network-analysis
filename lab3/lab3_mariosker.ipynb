{
  "cells": [
    {
      "cell_type": "markdown",
      "metadata": {
        "id": "qkWyHy_UafcP"
      },
      "source": [
        "**Μάριος Κερασιώτης | 03117890**\n",
        "\n",
        "**3η Εργαστηριακή Άσκηση**\n",
        "\n",
        "**Link Prediction- Πρόβλεψη Συνδέσμων**"
      ]
    },
    {
      "cell_type": "markdown",
      "metadata": {
        "id": "TP-QMslMafcS"
      },
      "source": [
        "Αρχικά είσαγουμε όλες τις βιβλιοθήκες που μας χρειάζονται, κάνουμε τις απαραίτητες ρυθμίσεις και τις παραμέτρους:"
      ]
    },
    {
      "cell_type": "code",
      "execution_count": 35,
      "metadata": {
        "id": "69-eDi9dafcU"
      },
      "outputs": [],
      "source": [
        "import multiprocessing\n",
        "\n",
        "import matplotlib\n",
        "import matplotlib.pyplot as plt\n",
        "import networkx as nx\n",
        "import numpy as np\n",
        "import pandas as pd\n",
        "import seaborn as sns\n",
        "from node2vec import Node2Vec\n",
        "from node2vec.edges import (\n",
        "    AverageEmbedder,\n",
        "    HadamardEmbedder,\n",
        "    WeightedL1Embedder,\n",
        "    WeightedL2Embedder,\n",
        ")\n",
        "from sklearn.ensemble import RandomForestClassifier\n",
        "from sklearn.metrics import accuracy_score\n",
        "from sklearn.model_selection import GridSearchCV, train_test_split\n",
        "from sklearn.preprocessing import MinMaxScaler\n",
        "from tabulate import tabulate\n",
        "from tqdm import tqdm\n",
        "\n",
        "DBPEDIA_SIMILAR_FILE = \"./dbpedia-similar/out.dbpedia-similar\"\n",
        "STUDENT_ID = 3117890"
      ]
    },
    {
      "cell_type": "code",
      "execution_count": 36,
      "metadata": {
        "id": "9IYfJ_iRafcV"
      },
      "outputs": [],
      "source": [
        "tbl = lambda table, headers: tabulate(table, headers, tablefmt=\"fancy_grid\")\n",
        "\n",
        "plt.rcParams[\"figure.figsize\"] = (10, 10)\n",
        "matplotlib.rcParams[\"figure.dpi\"] = 300\n",
        "sns.set_palette('cubehelix')\n",
        "sns.set()"
      ]
    },
    {
      "cell_type": "markdown",
      "metadata": {
        "id": "-Ih7bs3WafcV"
      },
      "source": [
        "# Κατασκευή γράφου και προεπεξεργασία για την πρόβλεψη συνδέσμων"
      ]
    },
    {
      "cell_type": "markdown",
      "metadata": {
        "id": "R07_x299afcW"
      },
      "source": [
        "## Κατασκευή μη κατευθυνόμενου γράφου"
      ]
    },
    {
      "cell_type": "markdown",
      "metadata": {
        "id": "CPX1Est7afcW"
      },
      "source": [
        "Αρχικά μέσω του dataset [Similarities (DBpedia)](http://konect.cc/networks/dbpedia-similar/)  κατασκευάζουμε τον μη κατευθυνόμενο γράφo G [[1]](https://dl.acm.org/doi/10.1145/2487788.2488173) [[2]](https://link.springer.com/chapter/10.1007/978-3-540-76298-0_52). Οι κόμβοι του γράφου αναπαριστούν σελίδες της Wikipedia και οι ακμές σχέση ομοιότητας μεταξύ τους. Περισσότερες πληροφορίες για τον γράφο βρίσκονται στην σελίδα [KONECT (DBpedia)](http://konect.cc/networks/dbpedia-similar/)"
      ]
    },
    {
      "cell_type": "code",
      "execution_count": 37,
      "metadata": {
        "id": "bZeFDHquafcX"
      },
      "outputs": [],
      "source": [
        "dbpedia_G = nx.read_adjlist(DBPEDIA_SIMILAR_FILE, comments=\"%\", nodetype=int)"
      ]
    },
    {
      "cell_type": "markdown",
      "metadata": {
        "id": "GuLRkWWaafcX"
      },
      "source": [
        "Στην συνέχεια ελέγχουμε αν ο γράφος μας περιέχει διπλότυπα ακμών:"
      ]
    },
    {
      "cell_type": "code",
      "execution_count": 38,
      "metadata": {
        "colab": {
          "base_uri": "https://localhost:8080/"
        },
        "id": "7mEmIBb0afcY",
        "outputId": "0b9406e7-da0e-4a4c-e333-aaa8e47803a8"
      },
      "outputs": [
        {
          "name": "stdout",
          "output_type": "stream",
          "text": [
            "File contains duplicate edges: False\n"
          ]
        }
      ],
      "source": [
        "def file_contains_duplicate_edges():\n",
        "    ''' Checks if DBPEDIA_SIMILAR_FILE has duplicate edges \n",
        "    '''\n",
        "    edges = set()\n",
        "    contains_duplicates = False\n",
        "    duplicates = set()\n",
        "    with open(DBPEDIA_SIMILAR_FILE, 'r') as f:\n",
        "        for line in f:\n",
        "            if line.startswith(\"%\"):\n",
        "                continue\n",
        "\n",
        "            a, b = [int(i) for i in line.split()]\n",
        "            if (a, b) in edges or (b, a) in edges:\n",
        "                contains_duplicates = True\n",
        "                duplicates.add((a, b))\n",
        "            else:\n",
        "                edges.add((a, b))\n",
        "    return contains_duplicates, duplicates\n",
        "\n",
        "\n",
        "contains_dup, dup_set = file_contains_duplicate_edges()\n",
        "print(\"File contains duplicate edges: {}\".format(contains_dup))"
      ]
    },
    {
      "cell_type": "markdown",
      "metadata": {
        "id": "R4_B0c9PafcZ"
      },
      "source": [
        "## Εμφάνιση αριθμών κόμβων, ακμών, μέσου βαθμού κόμβων και αριθμού συνεκτικών συνιστωσών"
      ]
    },
    {
      "cell_type": "code",
      "execution_count": 39,
      "metadata": {
        "id": "d0ngpJ-JafcZ"
      },
      "outputs": [],
      "source": [
        "initial_node_count = dbpedia_G.number_of_nodes()\n",
        "initial_edge_count = dbpedia_G.number_of_edges()\n",
        "initial_average_degree = np.mean(list(dict(dbpedia_G.degree).values()))\n",
        "initial_connected_components = nx.number_connected_components(dbpedia_G)"
      ]
    },
    {
      "cell_type": "code",
      "execution_count": 40,
      "metadata": {
        "colab": {
          "base_uri": "https://localhost:8080/"
        },
        "id": "3Hq1dY7cafca",
        "outputId": "5e6f5124-656d-4514-fccf-50bd66ad05e9"
      },
      "outputs": [
        {
          "name": "stdout",
          "output_type": "stream",
          "text": [
            "Metrics of the initial graph:\n",
            "╒═══════════════════════╤═══════════╕\n",
            "│ Metric                │     Value │\n",
            "╞═══════════════════════╪═══════════╡\n",
            "│ #Nodes                │ 430       │\n",
            "├───────────────────────┼───────────┤\n",
            "│ #Edges                │ 565       │\n",
            "├───────────────────────┼───────────┤\n",
            "│ Mean deegre           │   2.62791 │\n",
            "├───────────────────────┼───────────┤\n",
            "│ #Connected Components │  95       │\n",
            "╘═══════════════════════╧═══════════╛\n"
          ]
        }
      ],
      "source": [
        "headers = [\"Metric\", \"Value\"]\n",
        "table = [\n",
        "    [\"#Nodes\", initial_node_count],\n",
        "    [\"#Edges\", initial_edge_count],\n",
        "    [\"Mean deegre\", initial_average_degree],\n",
        "    [\"#Connected Components\", initial_connected_components],\n",
        "]\n",
        "\n",
        "print(\"Metrics of the initial graph:\")\n",
        "print(tbl(table, headers))"
      ]
    },
    {
      "cell_type": "markdown",
      "metadata": {
        "id": "0IiiBySbafca"
      },
      "source": [
        "## Υπολογισμός των ασύνδετων ζευγών κόμβων (unconnected pairs)"
      ]
    },
    {
      "cell_type": "markdown",
      "metadata": {
        "id": "vagftsiJafca"
      },
      "source": [
        "Παρακάτω θα υπολογίσουμε το σύνολο των ασύνδετων ζευγών κόμβων (unconnected pairs) στον γράφο χρησιμοποιώντας τον πίνακα γειτνίασης (adjacency matrix) και θα δώσουμε τον αριθμό τους."
      ]
    },
    {
      "cell_type": "code",
      "execution_count": 41,
      "metadata": {
        "id": "ztGkjc4Dafca"
      },
      "outputs": [
        {
          "name": "stderr",
          "output_type": "stream",
          "text": [
            "/tmp/ipykernel_559/3952046369.py:1: FutureWarning: adjacency_matrix will return a scipy.sparse array instead of a matrix in Networkx 3.0.\n",
            "  adj_matrix = nx.adjacency_matrix(dbpedia_G,\n"
          ]
        }
      ],
      "source": [
        "adj_matrix = nx.adjacency_matrix(dbpedia_G,\n",
        "                                 nodelist=range(1, initial_node_count + 1)).A"
      ]
    },
    {
      "cell_type": "code",
      "execution_count": 42,
      "metadata": {
        "id": "2ckHoSQYafcb"
      },
      "outputs": [],
      "source": [
        "unconnected_pairs = set()\n",
        "for r in range(initial_node_count - 1):\n",
        "    for c in range(r + 1, initial_node_count):\n",
        "        if adj_matrix[r][c] == 0:\n",
        "            unconnected_pairs.add((r + 1, c + 1))"
      ]
    },
    {
      "cell_type": "code",
      "execution_count": 43,
      "metadata": {
        "colab": {
          "base_uri": "https://localhost:8080/"
        },
        "id": "_bjgkezuafcb",
        "outputId": "bfbabc49-3dca-44a0-c534-f1e37fb4e5f5"
      },
      "outputs": [
        {
          "name": "stdout",
          "output_type": "stream",
          "text": [
            "#Unconnected Pairs: 91671\n",
            "\n",
            "Some unconnected pairs:\n",
            "(132, 268) (192, 319) (35, 335) (54, 385) (95, 386) (53, 160) (144, 278) (185, 279) (245, 330) (47, 345) (107, 396) (148, 397) (146, 324) (247, 376) (44, 47) ... (135, 216) (88, 370) (327, 386) (46, 144) (137, 262) (238, 314) (40, 329) (100, 380) (141, 381) (39, 104) (42, 375) (190, 273) (281, 391) (93, 340) (41, 150)\n"
          ]
        }
      ],
      "source": [
        "print(\"#Unconnected Pairs: {}\\n\".format(len(unconnected_pairs)))\n",
        "print(\"Some unconnected pairs:\")\n",
        "print(*list(unconnected_pairs)[0:15], '...', *list(unconnected_pairs)[-15:])"
      ]
    },
    {
      "cell_type": "markdown",
      "metadata": {
        "id": "3P92exUsafcb"
      },
      "source": [
        "## Υπολογισμός συνόλου των ακμών (removable edges) που μπορούν να αφαιρεθούν από τον γράφο χωρίς να υπάρχει κατάτμηση (splitting) του γράφου."
      ]
    },
    {
      "cell_type": "markdown",
      "metadata": {
        "id": "4OLLMX_iafcc"
      },
      "source": [
        "Παρακάτω θα υπολογίσουμε το σύνολο των ακμών (removable edges) που μπορούν να αφαιρεθούν απο τον γράφο χωρίς να υπάρχει κατάτμηση (splitting) του γράφου (δηλ. ο αριθμός των συνεκτικών συνιστωσών θα πρέπει να παραμένει αμετάβλητος).\n",
        "Για να γίνει αυτό ελέγχουμε οτι με αφαίρεση ακμής δεν μειώνεται ο αριθμός των κόμβων."
      ]
    },
    {
      "cell_type": "code",
      "execution_count": 44,
      "metadata": {
        "id": "e2Hb1E_5afcc"
      },
      "outputs": [],
      "source": [
        "def find_removable_edges(initial_G):\n",
        "    ''' Given a graph find which edges can be removed without splitting the graph.\n",
        "    '''\n",
        "\n",
        "    def is_split():\n",
        "        ''' checks if a graph is split.\n",
        "        '''\n",
        "        condition1 = (nx.number_of_isolates(G) > 0)\n",
        "        condition2 = (nx.number_connected_components(G) !=\n",
        "                      initial_connected_components)\n",
        "        return (condition1 or condition2)\n",
        "\n",
        "    removable_edges = set()\n",
        "    G = initial_G.copy()\n",
        "\n",
        "    with open(DBPEDIA_SIMILAR_FILE, 'r') as f:\n",
        "        for line in f:\n",
        "            if line.startswith(\"%\"):\n",
        "                continue\n",
        "            n1, n2 = [int(i) for i in line.split()]\n",
        "            G.remove_edge(n1, n2)\n",
        "            if is_split():\n",
        "                G.add_edge(n1, n2)\n",
        "            else:\n",
        "                removable_edges.add((n1, n2))\n",
        "    return removable_edges"
      ]
    },
    {
      "cell_type": "code",
      "execution_count": 45,
      "metadata": {
        "colab": {
          "base_uri": "https://localhost:8080/"
        },
        "id": "HjZTQMJ_afcc",
        "outputId": "449068cb-5db8-4b22-82e2-59ffacc7eedb"
      },
      "outputs": [
        {
          "name": "stdout",
          "output_type": "stream",
          "text": [
            "#Removable edges: 229\n",
            "\n",
            "Some removable edges:\n",
            "(105, 107) (341, 344) (332, 341) (333, 340) (401, 404) (338, 345) (186, 189) (75, 81) (132, 133) (339, 346) (342, 345) (343, 344) (334, 341) (29, 68) (336, 338) ... (341, 342) (332, 339) (401, 402) (338, 343) (172, 173) (11, 12) (131, 132) (75, 79) (339, 344) (342, 343) (335, 337) (334, 339) (399, 404) (400, 403) (336, 345)\n"
          ]
        }
      ],
      "source": [
        "removable_edges = find_removable_edges(dbpedia_G)\n",
        "\n",
        "print(\"#Removable edges: {}\\n\".format(len(removable_edges)))\n",
        "print(\"Some removable edges:\")\n",
        "print(*list(removable_edges)[0:15], '...', *list(removable_edges)[-15:])"
      ]
    },
    {
      "cell_type": "markdown",
      "metadata": {
        "id": "zc4XedBnafcc",
        "tags": []
      },
      "source": [
        "## Δημιουργία Dataframe και γράφου G'"
      ]
    },
    {
      "cell_type": "markdown",
      "metadata": {
        "id": "QnT0f8Vzafcc"
      },
      "source": [
        "Με τον παρακάτω ελέγχο σιγουρεύουμε οτι οι υποογισμοί παραπάνω είναι σωστοί και δεν έχουμε ακμές που να βρίσκουνται και στα δύο set."
      ]
    },
    {
      "cell_type": "code",
      "execution_count": 46,
      "metadata": {
        "id": "aTpcBHLzafcd"
      },
      "outputs": [],
      "source": [
        "assert removable_edges.isdisjoint(\n",
        "    unconnected_pairs\n",
        "), \"Removable edges and Unconnected pairs should be disjoint but are not.\""
      ]
    },
    {
      "cell_type": "markdown",
      "metadata": {
        "id": "Q0PiUYADafcd"
      },
      "source": [
        "### Κατασκευή Dataframe"
      ]
    },
    {
      "cell_type": "markdown",
      "metadata": {
        "id": "nvYSDi9Qafcd"
      },
      "source": [
        "Κατασκευάζουμε ένα DataFrame που συγκεντρώνει τα removable edges και unconnected edges και χρησιμοποιεί την ιδιότητα link."
      ]
    },
    {
      "cell_type": "code",
      "execution_count": 47,
      "metadata": {
        "id": "9lpHsekSafcd"
      },
      "outputs": [
        {
          "name": "stderr",
          "output_type": "stream",
          "text": [
            "/tmp/ipykernel_559/315769966.py:9: FutureWarning: The frame.append method is deprecated and will be removed from pandas in a future version. Use pandas.concat instead.\n",
            "  unconnected_removable_edges = unconnected_pairs_df.append(removable_edges_df,\n"
          ]
        }
      ],
      "source": [
        "unconnected_pairs_df = pd.DataFrame(data={\n",
        "    \"edges\": sorted(unconnected_pairs),\n",
        "    \"link\": [0] * len(unconnected_pairs)\n",
        "})\n",
        "removable_edges_df = pd.DataFrame(data={\n",
        "    \"edges\": sorted(removable_edges),\n",
        "    \"link\": [1] * len(removable_edges)\n",
        "})\n",
        "unconnected_removable_edges = unconnected_pairs_df.append(removable_edges_df,\n",
        "                                                          ignore_index=True)"
      ]
    },
    {
      "cell_type": "code",
      "execution_count": 48,
      "metadata": {
        "colab": {
          "base_uri": "https://localhost:8080/",
          "height": 424
        },
        "id": "XcUL5wg6afcd",
        "outputId": "7b25cc03-178c-4372-fb2c-acbc39ca91ec"
      },
      "outputs": [
        {
          "data": {
            "text/html": [
              "<div>\n",
              "<style scoped>\n",
              "    .dataframe tbody tr th:only-of-type {\n",
              "        vertical-align: middle;\n",
              "    }\n",
              "\n",
              "    .dataframe tbody tr th {\n",
              "        vertical-align: top;\n",
              "    }\n",
              "\n",
              "    .dataframe thead th {\n",
              "        text-align: right;\n",
              "    }\n",
              "</style>\n",
              "<table border=\"1\" class=\"dataframe\">\n",
              "  <thead>\n",
              "    <tr style=\"text-align: right;\">\n",
              "      <th></th>\n",
              "      <th>edges</th>\n",
              "      <th>link</th>\n",
              "    </tr>\n",
              "  </thead>\n",
              "  <tbody>\n",
              "    <tr>\n",
              "      <th>0</th>\n",
              "      <td>(1, 6)</td>\n",
              "      <td>0</td>\n",
              "    </tr>\n",
              "    <tr>\n",
              "      <th>1</th>\n",
              "      <td>(1, 7)</td>\n",
              "      <td>0</td>\n",
              "    </tr>\n",
              "    <tr>\n",
              "      <th>2</th>\n",
              "      <td>(1, 8)</td>\n",
              "      <td>0</td>\n",
              "    </tr>\n",
              "    <tr>\n",
              "      <th>3</th>\n",
              "      <td>(1, 9)</td>\n",
              "      <td>0</td>\n",
              "    </tr>\n",
              "    <tr>\n",
              "      <th>4</th>\n",
              "      <td>(1, 10)</td>\n",
              "      <td>0</td>\n",
              "    </tr>\n",
              "    <tr>\n",
              "      <th>...</th>\n",
              "      <td>...</td>\n",
              "      <td>...</td>\n",
              "    </tr>\n",
              "    <tr>\n",
              "      <th>91895</th>\n",
              "      <td>(401, 403)</td>\n",
              "      <td>1</td>\n",
              "    </tr>\n",
              "    <tr>\n",
              "      <th>91896</th>\n",
              "      <td>(401, 404)</td>\n",
              "      <td>1</td>\n",
              "    </tr>\n",
              "    <tr>\n",
              "      <th>91897</th>\n",
              "      <td>(402, 403)</td>\n",
              "      <td>1</td>\n",
              "    </tr>\n",
              "    <tr>\n",
              "      <th>91898</th>\n",
              "      <td>(402, 404)</td>\n",
              "      <td>1</td>\n",
              "    </tr>\n",
              "    <tr>\n",
              "      <th>91899</th>\n",
              "      <td>(403, 404)</td>\n",
              "      <td>1</td>\n",
              "    </tr>\n",
              "  </tbody>\n",
              "</table>\n",
              "<p>91900 rows × 2 columns</p>\n",
              "</div>"
            ],
            "text/plain": [
              "            edges  link\n",
              "0          (1, 6)     0\n",
              "1          (1, 7)     0\n",
              "2          (1, 8)     0\n",
              "3          (1, 9)     0\n",
              "4         (1, 10)     0\n",
              "...           ...   ...\n",
              "91895  (401, 403)     1\n",
              "91896  (401, 404)     1\n",
              "91897  (402, 403)     1\n",
              "91898  (402, 404)     1\n",
              "91899  (403, 404)     1\n",
              "\n",
              "[91900 rows x 2 columns]"
            ]
          },
          "execution_count": 48,
          "metadata": {},
          "output_type": "execute_result"
        }
      ],
      "source": [
        "unconnected_removable_edges"
      ]
    },
    {
      "cell_type": "markdown",
      "metadata": {
        "id": "AJuELBi1afcd"
      },
      "source": [
        "### Κατασκευή γράφου G'"
      ]
    },
    {
      "cell_type": "markdown",
      "metadata": {
        "id": "gTgHII9Xafce"
      },
      "source": [
        "Κατασκευάζουμε τον γράφο G' που προκύπτει απο αφαίρεση απο τον γράφο G των ακμών του ερωτήματος 1.4."
      ]
    },
    {
      "cell_type": "code",
      "execution_count": 49,
      "metadata": {
        "id": "gPWfO9Wgafce"
      },
      "outputs": [],
      "source": [
        "dbpedia_removed_G = dbpedia_G.copy()\n",
        "for n1, n2 in removable_edges:\n",
        "    dbpedia_removed_G.remove_edge(n1, n2)"
      ]
    },
    {
      "cell_type": "markdown",
      "metadata": {
        "id": "uijBjSMcafce"
      },
      "source": [
        "### Μετρικές για τον G'"
      ]
    },
    {
      "cell_type": "markdown",
      "metadata": {
        "id": "vp_ocGRPafce"
      },
      "source": [
        "Τυπώνουμε τις μετρικές για το G' όπως στο ερώτημα 1.2."
      ]
    },
    {
      "cell_type": "code",
      "execution_count": 50,
      "metadata": {
        "id": "60UH4w_hafce"
      },
      "outputs": [],
      "source": [
        "dbpedia_removed_node_count = dbpedia_removed_G.number_of_nodes()\n",
        "dbpedia_removed_edge_count = dbpedia_removed_G.number_of_edges()\n",
        "dbpedia_removed_average_degree = np.mean(\n",
        "    list(dict(dbpedia_removed_G.degree).values()))\n",
        "dbpedia_removed_connected_components = nx.number_connected_components(\n",
        "    dbpedia_removed_G)"
      ]
    },
    {
      "cell_type": "code",
      "execution_count": 51,
      "metadata": {
        "colab": {
          "base_uri": "https://localhost:8080/"
        },
        "id": "era12dijafce",
        "outputId": "a9217d4c-77a3-4a3a-a73a-79e4653acd87"
      },
      "outputs": [
        {
          "name": "stdout",
          "output_type": "stream",
          "text": [
            "Metrics of the graph after we removed the removable edges:\n",
            "╒═══════════════════════╤═══════════╕\n",
            "│ Metric                │     Value │\n",
            "╞═══════════════════════╪═══════════╡\n",
            "│ #Nodes                │ 430       │\n",
            "├───────────────────────┼───────────┤\n",
            "│ #Edges                │ 336       │\n",
            "├───────────────────────┼───────────┤\n",
            "│ Mean deegre           │   1.56279 │\n",
            "├───────────────────────┼───────────┤\n",
            "│ #Connected Components │  95       │\n",
            "╘═══════════════════════╧═══════════╛\n"
          ]
        }
      ],
      "source": [
        "headers = [\"Metric\", \"Value\"]\n",
        "table = [\n",
        "    [\"#Nodes\", dbpedia_removed_node_count],\n",
        "    [\"#Edges\", dbpedia_removed_edge_count],\n",
        "    [\"Mean deegre\", dbpedia_removed_average_degree],\n",
        "    [\"#Connected Components\", dbpedia_removed_connected_components],\n",
        "]\n",
        "print(\"Metrics of the graph after we removed the removable edges:\")\n",
        "print(tbl(table, headers))"
      ]
    },
    {
      "cell_type": "markdown",
      "metadata": {
        "id": "WnpSm77xafcg"
      },
      "source": [
        "# Εισαγωγή σε similarity based μετρικές για Link Prediction"
      ]
    },
    {
      "cell_type": "markdown",
      "metadata": {
        "id": "tbtkPEe4afch"
      },
      "source": [
        "## Υπολογισμός Jaccard Coefficient (JC)"
      ]
    },
    {
      "cell_type": "markdown",
      "metadata": {
        "id": "CgNtngZCafch"
      },
      "source": [
        "Υπολογίζουμε την Jaccard Coefficient (JC)."
      ]
    },
    {
      "cell_type": "code",
      "execution_count": 52,
      "metadata": {
        "id": "QUX0prMwafch"
      },
      "outputs": [
        {
          "name": "stdout",
          "output_type": "stream",
          "text": [
            "430\n",
            "91900\n"
          ]
        }
      ],
      "source": [
        "jaccard_coef = list(nx.jaccard_coefficient(dbpedia_removed_G))\n",
        "\n",
        "print(len(dbpedia_removed_G))\n",
        "print(len(jaccard_coef))"
      ]
    },
    {
      "cell_type": "markdown",
      "metadata": {
        "id": "c_KVMzh1afch"
      },
      "source": [
        "## Εμφάνιση k ακμών με την υψηλότερη Jaccard Coefficient (JC)"
      ]
    },
    {
      "cell_type": "markdown",
      "metadata": {
        "id": "kbszLS6Eafch"
      },
      "source": [
        "Και τυπώνουμε τις 10 ακμές με την υψηλότερη Jaccard Coefficient."
      ]
    },
    {
      "cell_type": "code",
      "execution_count": 53,
      "metadata": {
        "colab": {
          "base_uri": "https://localhost:8080/"
        },
        "id": "qW9KfSR2afch",
        "outputId": "83e330f8-20d8-44b7-a9a3-a4e6b7d869d4"
      },
      "outputs": [
        {
          "name": "stdout",
          "output_type": "stream",
          "text": [
            "╒═════╤══════════╤═══════════════════════╕\n",
            "│   # │ Edge     │   Jaccard Coefficient │\n",
            "╞═════╪══════════╪═══════════════════════╡\n",
            "│   1 │ 4 -  46  │                     1 │\n",
            "├─────┼──────────┼───────────────────────┤\n",
            "│   2 │ 4 -  47  │                     1 │\n",
            "├─────┼──────────┼───────────────────────┤\n",
            "│   3 │ 4 -  49  │                     1 │\n",
            "├─────┼──────────┼───────────────────────┤\n",
            "│   4 │ 23 -  34 │                     1 │\n",
            "├─────┼──────────┼───────────────────────┤\n",
            "│   5 │ 27 -  33 │                     1 │\n",
            "├─────┼──────────┼───────────────────────┤\n",
            "│   6 │ 46 -  47 │                     1 │\n",
            "├─────┼──────────┼───────────────────────┤\n",
            "│   7 │ 46 -  49 │                     1 │\n",
            "├─────┼──────────┼───────────────────────┤\n",
            "│   8 │ 47 -  49 │                     1 │\n",
            "├─────┼──────────┼───────────────────────┤\n",
            "│   9 │ 51 -  52 │                     1 │\n",
            "├─────┼──────────┼───────────────────────┤\n",
            "│  10 │ 51 -  53 │                     1 │\n",
            "╘═════╧══════════╧═══════════════════════╛\n"
          ]
        }
      ],
      "source": [
        "k = STUDENT_ID % 10 if STUDENT_ID % 10 != 0 else 10\n",
        "best_jc_edges = sorted(jaccard_coef, key=lambda x: x[2], reverse=True)[:k]\n",
        "\n",
        "headers = ['#', 'Edge', \"Jaccard Coefficient\"]\n",
        "table = [[indx + 1, \"{:3d} - {:3d}\".format(n1, n2), jc]\n",
        "         for indx, [n1, n2, jc] in enumerate(best_jc_edges)]\n",
        "print(tbl(table, headers))"
      ]
    },
    {
      "cell_type": "markdown",
      "metadata": {
        "id": "OMUTKeMbafch"
      },
      "source": [
        "## Μέτρηση απόδοσης της Jaccard Coefficient και γραφική αναπαράσταση της."
      ]
    },
    {
      "cell_type": "markdown",
      "metadata": {
        "id": "bBBEy-S0afci"
      },
      "source": [
        "Στην συνέχεια υπολογίζουμε τα precission, recall, accuracy για την Jaccard Coefficient. Θεωρούμε θετικές ακμές αυτές που έχουμε JC >= threshold. Απο αυτές αληθώς θετικές που θα υπάρξουν οι συνδέσεις που περιγράφουν ενώ οι άλλες ψευδώς αρνητικές. Όμοια και για τις αρνητικές."
      ]
    },
    {
      "cell_type": "code",
      "execution_count": 54,
      "metadata": {
        "id": "btuhY4Azafci"
      },
      "outputs": [],
      "source": [
        "def JCfunction(threshold_jc=0.1):\n",
        "    new_removable_edges = removable_edges.union(\n",
        "        set([(y, x) for x, y in removable_edges]))\n",
        "    new_unconnected_pairs = unconnected_pairs.union(\n",
        "        set([(y, x) for x, y in unconnected_pairs]))\n",
        "\n",
        "    is_p = lambda x: abs(x[2] - threshold_jc) < 0.00001 or x[2] > threshold_jc\n",
        "\n",
        "    is_tp = lambda x: (x[0], x[1]) in new_removable_edges\n",
        "    is_fp = lambda x: (x[0], x[1]) not in new_removable_edges\n",
        "\n",
        "    is_tn = lambda x: (x[0], x[1]) in new_unconnected_pairs\n",
        "    is_fn = lambda x: (x[0], x[1]) not in new_unconnected_pairs\n",
        "\n",
        "    positive_count = 0\n",
        "    true_positive_count = 0\n",
        "    false_positive_count = 0\n",
        "\n",
        "    negative_count = 0\n",
        "    true_negative_count = 0\n",
        "    false_negative_count = 0\n",
        "\n",
        "    for i in jaccard_coef:\n",
        "        if is_p(i):\n",
        "            positive_count += 1\n",
        "            if (is_tp(i)):\n",
        "                true_positive_count += 1\n",
        "            elif (is_fp(i)):\n",
        "                false_positive_count += 1\n",
        "        else:\n",
        "            negative_count += 1\n",
        "            if (is_tn(i)):\n",
        "                true_negative_count += 1\n",
        "            elif (is_fn(i)):\n",
        "                false_negative_count += 1\n",
        "\n",
        "    assert (positive_count == true_positive_count + false_positive_count)\n",
        "    assert (negative_count == true_negative_count + false_negative_count)\n",
        "\n",
        "    assert (\n",
        "        len(unconnected_pairs) == true_negative_count + false_positive_count\n",
        "    ), \"Unconnected Pairs should be equal to TN + FP. Got {} != {} = {} + {}\".format(\n",
        "        len(unconnected_pairs), true_negative_count + false_positive_count,\n",
        "        true_negative_count, false_positive_count)\n",
        "\n",
        "    precission = true_positive_count / (true_positive_count +\n",
        "                                        false_positive_count)\n",
        "    recall = true_positive_count / (true_positive_count + false_negative_count)\n",
        "    accuracy = (true_positive_count + true_negative_count) / (\n",
        "        true_positive_count + false_positive_count + true_negative_count +\n",
        "        false_negative_count)\n",
        "\n",
        "    # print(positive_count, negative_count, true_positive_count, true_negative_count, false_positive_count, false_negative_count)\n",
        "    # print(true_negative_count, false_positive_count)\n",
        "    print(false_negative_count, true_positive_count)\n",
        "\n",
        "    return recall, precission, accuracy"
      ]
    },
    {
      "cell_type": "code",
      "execution_count": 55,
      "metadata": {
        "id": "H9WpaxTHafci"
      },
      "outputs": [
        {
          "name": "stdout",
          "output_type": "stream",
          "text": [
            "67 162\n",
            "69 160\n",
            "73 156\n",
            "90 139\n",
            "102 127\n"
          ]
        }
      ],
      "source": [
        "metrics = []\n",
        "for th in [0.1, 0.15, 0.25, 0.5, 1]:\n",
        "    js_res = JCfunction(th)\n",
        "    metrics.append({\n",
        "        \"recall\": js_res[0],\n",
        "        \"precission\": js_res[1],\n",
        "        \"accuracy\": js_res[2],\n",
        "        'threshold': th\n",
        "    })\n",
        "\n",
        "metrics = pd.DataFrame(metrics)"
      ]
    },
    {
      "cell_type": "code",
      "execution_count": 56,
      "metadata": {},
      "outputs": [
        {
          "name": "stdout",
          "output_type": "stream",
          "text": [
            "Stored 'upm' (set)\n",
            "Stored 'rem' (set)\n",
            "Stored 'jcm' (list)\n"
          ]
        }
      ],
      "source": [
        "upm = unconnected_pairs\n",
        "rem = removable_edges\n",
        "jcm = jaccard_coef\n",
        "\n",
        "%store upm rem jcm"
      ]
    },
    {
      "cell_type": "code",
      "execution_count": 57,
      "metadata": {
        "colab": {
          "base_uri": "https://localhost:8080/",
          "height": 206
        },
        "id": "kZJ_ak8hGJJW",
        "outputId": "ec6fafba-74ff-40a5-9c3b-8727c57307b5"
      },
      "outputs": [
        {
          "data": {
            "text/html": [
              "<div>\n",
              "<style scoped>\n",
              "    .dataframe tbody tr th:only-of-type {\n",
              "        vertical-align: middle;\n",
              "    }\n",
              "\n",
              "    .dataframe tbody tr th {\n",
              "        vertical-align: top;\n",
              "    }\n",
              "\n",
              "    .dataframe thead th {\n",
              "        text-align: right;\n",
              "    }\n",
              "</style>\n",
              "<table border=\"1\" class=\"dataframe\">\n",
              "  <thead>\n",
              "    <tr style=\"text-align: right;\">\n",
              "      <th></th>\n",
              "      <th>recall</th>\n",
              "      <th>precission</th>\n",
              "      <th>accuracy</th>\n",
              "      <th>threshold</th>\n",
              "    </tr>\n",
              "  </thead>\n",
              "  <tbody>\n",
              "    <tr>\n",
              "      <th>0</th>\n",
              "      <td>0.707424</td>\n",
              "      <td>0.306238</td>\n",
              "      <td>0.995277</td>\n",
              "      <td>0.10</td>\n",
              "    </tr>\n",
              "    <tr>\n",
              "      <th>1</th>\n",
              "      <td>0.698690</td>\n",
              "      <td>0.321932</td>\n",
              "      <td>0.995582</td>\n",
              "      <td>0.15</td>\n",
              "    </tr>\n",
              "    <tr>\n",
              "      <th>2</th>\n",
              "      <td>0.681223</td>\n",
              "      <td>0.335484</td>\n",
              "      <td>0.995843</td>\n",
              "      <td>0.25</td>\n",
              "    </tr>\n",
              "    <tr>\n",
              "      <th>3</th>\n",
              "      <td>0.606987</td>\n",
              "      <td>0.413690</td>\n",
              "      <td>0.996877</td>\n",
              "      <td>0.50</td>\n",
              "    </tr>\n",
              "    <tr>\n",
              "      <th>4</th>\n",
              "      <td>0.554585</td>\n",
              "      <td>0.479245</td>\n",
              "      <td>0.997388</td>\n",
              "      <td>1.00</td>\n",
              "    </tr>\n",
              "  </tbody>\n",
              "</table>\n",
              "</div>"
            ],
            "text/plain": [
              "     recall  precission  accuracy  threshold\n",
              "0  0.707424    0.306238  0.995277       0.10\n",
              "1  0.698690    0.321932  0.995582       0.15\n",
              "2  0.681223    0.335484  0.995843       0.25\n",
              "3  0.606987    0.413690  0.996877       0.50\n",
              "4  0.554585    0.479245  0.997388       1.00"
            ]
          },
          "execution_count": 57,
          "metadata": {},
          "output_type": "execute_result"
        }
      ],
      "source": [
        "metrics"
      ]
    },
    {
      "cell_type": "code",
      "execution_count": 58,
      "metadata": {
        "colab": {
          "base_uri": "https://localhost:8080/",
          "height": 1000
        },
        "id": "WPswNoFFafci",
        "outputId": "d9339e0c-ce88-4bb6-afe4-7b3f6ba1d42d"
      },
      "outputs": [
        {
          "data": {
            "image/png": "[encoded data removed]",
            "text/plain": [
              "<Figure size 3000x3000 with 3 Axes>"
            ]
          },
          "metadata": {},
          "output_type": "display_data"
        }
      ],
      "source": [
        "fig, axs = plt.subplots(1, 3, sharey=True)\n",
        "fig.suptitle('Metrics of Jaccard Coefficient based on threshold')\n",
        "sns.barplot(data=metrics, x='threshold', y='recall', ax=axs[0])\n",
        "sns.barplot(data=metrics, x='threshold', y='precission', ax=axs[1])\n",
        "sns.barplot(data=metrics, x='threshold', y='accuracy', ax=axs[2])\n",
        "plt.tight_layout()"
      ]
    },
    {
      "cell_type": "markdown",
      "metadata": {
        "id": "OMX2Oh91afcj"
      },
      "source": [
        "# Πρόβλεψη συνδέσμων βάσει similarity based μετρικών"
      ]
    },
    {
      "cell_type": "markdown",
      "metadata": {
        "id": "XAzydMDnafcj"
      },
      "source": [
        "## "
      ]
    },
    {
      "cell_type": "markdown",
      "metadata": {
        "id": "_Nctj0bsafcj"
      },
      "source": [
        "## Εξερεύνηση μεθόδων για την συσχέτιση των τιμών το μετρικών."
      ]
    },
    {
      "cell_type": "markdown",
      "metadata": {
        "id": "V31dcCC4yrRm"
      },
      "source": [
        "Σε αυτό το ερώτημα καλούμαστε να εξερευνήσουμε μεθόδους (από τις βιβλιοθήκες NumPy, SciPy, Pandas) ώστε να βρούμε την συσχέτιση μεταξύ των τιμών των μετρικών Jaccard Coefficient, Preferential Attachment και Resource Allocation για τον μειωμένο γράφο G'. Επειδή οι 2 απο τις 3 μετρικές έχουν την ίδια κλίμακα και δεν μας ενδιαφέρει η σειρά των τιμών που υπολογίσαμε αποφασίζουμε να χρησιμοποιήσουμε Linear Correlation αντί για Rank. Ως αποτέλεσμα μια καλή μέθοδος είναι η Pearson Correlation (numpy: numpy.corrcoef, scipy: scipy.stats.pearsonr, pandas: pandas: DataFrame.corr) που χρησιμοποιεί τον τύπο r = Σᵢ((xᵢ − mean(x))(yᵢ − mean(y))) (√Σᵢ(xᵢ − mean(x))² √Σᵢ(yᵢ − mean(y))²)⁻¹. Το r παίρνει τιμές στο διάστημα [-1, 1] και αν είναι 1 ή -1 έχει τέλεια θετική και αντίστοιχα αρνητική συσχέτιση. Αν r = 0 δεν υπάρχει κάποια γραμμική συσχέτιση. Τέλος αν το r > 0 εχει θετική συσχέτιση ενώ αν είναι r < 0 έχει αρνητική. Εδώ πρέπει να αναφέρουμε πως θετική συσχέτιση σημαίνει πως όταν μια τιμή μεγαλώνει, μεγαλώνει και η άλλη τιμή. Ενώ αρνητική σημαίνει οτι όταν μικραίνει μια τιμή, μεγαλώνει η άλλη. Τέλος πρέπει να επιστήσουμε την προσοχή μας στο ότι η ύπαρξη συσχέτισης δεν συνεπάγεται απαραίτητα σχέσεις αιτιότητας μεταξύ των τιμών."
      ]
    },
    {
      "cell_type": "markdown",
      "metadata": {
        "id": "2pUgmouXafcj"
      },
      "source": [
        "## Δημιουργία αντίγραφου DataFrame"
      ]
    },
    {
      "cell_type": "code",
      "execution_count": 59,
      "metadata": {
        "id": "ncV0GlXoafcj"
      },
      "outputs": [],
      "source": [
        "dbpedia_df = unconnected_removable_edges.copy()\n",
        "\n",
        "dbpedia_df['Jaccard Coefficient'] = dbpedia_df.apply(\n",
        "    lambda row: list(nx.jaccard_coefficient(dbpedia_removed_G, [row.edges]))[0][2],\n",
        "    axis=1)\n",
        "dbpedia_df['Preferential Attachment'] = dbpedia_df.apply(\n",
        "    lambda row: list(nx.preferential_attachment(dbpedia_removed_G, [row.edges]))[0][2],\n",
        "    axis=1)\n",
        "dbpedia_df['Resource Allocation'] = dbpedia_df.apply(lambda row: list(\n",
        "    nx.resource_allocation_index(dbpedia_removed_G, [row.edges]))[0][2],\n",
        "                                                     axis=1)\n",
        "\n",
        "dbpedia_df = dbpedia_df.set_index('edges')"
      ]
    },
    {
      "cell_type": "code",
      "execution_count": 60,
      "metadata": {
        "colab": {
          "base_uri": "https://localhost:8080/",
          "height": 455
        },
        "id": "jxlWpT7Oafcj",
        "outputId": "812545bf-cbea-46c8-e199-8f7b53611e0d"
      },
      "outputs": [
        {
          "data": {
            "text/html": [
              "<div>\n",
              "<style scoped>\n",
              "    .dataframe tbody tr th:only-of-type {\n",
              "        vertical-align: middle;\n",
              "    }\n",
              "\n",
              "    .dataframe tbody tr th {\n",
              "        vertical-align: top;\n",
              "    }\n",
              "\n",
              "    .dataframe thead th {\n",
              "        text-align: right;\n",
              "    }\n",
              "</style>\n",
              "<table border=\"1\" class=\"dataframe\">\n",
              "  <thead>\n",
              "    <tr style=\"text-align: right;\">\n",
              "      <th></th>\n",
              "      <th>link</th>\n",
              "      <th>Jaccard Coefficient</th>\n",
              "      <th>Preferential Attachment</th>\n",
              "      <th>Resource Allocation</th>\n",
              "    </tr>\n",
              "    <tr>\n",
              "      <th>edges</th>\n",
              "      <th></th>\n",
              "      <th></th>\n",
              "      <th></th>\n",
              "      <th></th>\n",
              "    </tr>\n",
              "  </thead>\n",
              "  <tbody>\n",
              "    <tr>\n",
              "      <th>(1, 6)</th>\n",
              "      <td>0</td>\n",
              "      <td>0.0</td>\n",
              "      <td>7</td>\n",
              "      <td>0.000000</td>\n",
              "    </tr>\n",
              "    <tr>\n",
              "      <th>(1, 7)</th>\n",
              "      <td>0</td>\n",
              "      <td>0.0</td>\n",
              "      <td>1</td>\n",
              "      <td>0.000000</td>\n",
              "    </tr>\n",
              "    <tr>\n",
              "      <th>(1, 8)</th>\n",
              "      <td>0</td>\n",
              "      <td>0.0</td>\n",
              "      <td>3</td>\n",
              "      <td>0.000000</td>\n",
              "    </tr>\n",
              "    <tr>\n",
              "      <th>(1, 9)</th>\n",
              "      <td>0</td>\n",
              "      <td>0.0</td>\n",
              "      <td>3</td>\n",
              "      <td>0.000000</td>\n",
              "    </tr>\n",
              "    <tr>\n",
              "      <th>(1, 10)</th>\n",
              "      <td>0</td>\n",
              "      <td>0.0</td>\n",
              "      <td>2</td>\n",
              "      <td>0.000000</td>\n",
              "    </tr>\n",
              "    <tr>\n",
              "      <th>...</th>\n",
              "      <td>...</td>\n",
              "      <td>...</td>\n",
              "      <td>...</td>\n",
              "      <td>...</td>\n",
              "    </tr>\n",
              "    <tr>\n",
              "      <th>(401, 403)</th>\n",
              "      <td>1</td>\n",
              "      <td>1.0</td>\n",
              "      <td>1</td>\n",
              "      <td>0.166667</td>\n",
              "    </tr>\n",
              "    <tr>\n",
              "      <th>(401, 404)</th>\n",
              "      <td>1</td>\n",
              "      <td>1.0</td>\n",
              "      <td>1</td>\n",
              "      <td>0.166667</td>\n",
              "    </tr>\n",
              "    <tr>\n",
              "      <th>(402, 403)</th>\n",
              "      <td>1</td>\n",
              "      <td>1.0</td>\n",
              "      <td>1</td>\n",
              "      <td>0.166667</td>\n",
              "    </tr>\n",
              "    <tr>\n",
              "      <th>(402, 404)</th>\n",
              "      <td>1</td>\n",
              "      <td>1.0</td>\n",
              "      <td>1</td>\n",
              "      <td>0.166667</td>\n",
              "    </tr>\n",
              "    <tr>\n",
              "      <th>(403, 404)</th>\n",
              "      <td>1</td>\n",
              "      <td>1.0</td>\n",
              "      <td>1</td>\n",
              "      <td>0.166667</td>\n",
              "    </tr>\n",
              "  </tbody>\n",
              "</table>\n",
              "<p>91900 rows × 4 columns</p>\n",
              "</div>"
            ],
            "text/plain": [
              "            link  Jaccard Coefficient  Preferential Attachment  \\\n",
              "edges                                                            \n",
              "(1, 6)         0                  0.0                        7   \n",
              "(1, 7)         0                  0.0                        1   \n",
              "(1, 8)         0                  0.0                        3   \n",
              "(1, 9)         0                  0.0                        3   \n",
              "(1, 10)        0                  0.0                        2   \n",
              "...          ...                  ...                      ...   \n",
              "(401, 403)     1                  1.0                        1   \n",
              "(401, 404)     1                  1.0                        1   \n",
              "(402, 403)     1                  1.0                        1   \n",
              "(402, 404)     1                  1.0                        1   \n",
              "(403, 404)     1                  1.0                        1   \n",
              "\n",
              "            Resource Allocation  \n",
              "edges                            \n",
              "(1, 6)                 0.000000  \n",
              "(1, 7)                 0.000000  \n",
              "(1, 8)                 0.000000  \n",
              "(1, 9)                 0.000000  \n",
              "(1, 10)                0.000000  \n",
              "...                         ...  \n",
              "(401, 403)             0.166667  \n",
              "(401, 404)             0.166667  \n",
              "(402, 403)             0.166667  \n",
              "(402, 404)             0.166667  \n",
              "(403, 404)             0.166667  \n",
              "\n",
              "[91900 rows x 4 columns]"
            ]
          },
          "execution_count": 60,
          "metadata": {},
          "output_type": "execute_result"
        }
      ],
      "source": [
        "dbpedia_df"
      ]
    },
    {
      "cell_type": "markdown",
      "metadata": {
        "id": "PVzhApnBafck"
      },
      "source": [
        "## Random Forest Classifier"
      ]
    },
    {
      "cell_type": "markdown",
      "metadata": {
        "id": "W6pA6JL2afck"
      },
      "source": [
        "### Κατασκευή RFC"
      ]
    },
    {
      "cell_type": "markdown",
      "metadata": {
        "id": "bw8G25fBafck"
      },
      "source": [
        "Χρησιμοποιώντας τον random forest classifier και το παραπάνω dataframe για να προβλέψουμε συνδέσεις."
      ]
    },
    {
      "cell_type": "code",
      "execution_count": 61,
      "metadata": {
        "id": "ZIQRoerdafck"
      },
      "outputs": [],
      "source": [
        "X = dbpedia_df[dbpedia_df.columns.drop('link')]\n",
        "y = dbpedia_df['link']\n",
        "\n",
        "X_train, X_test, y_train, y_test = train_test_split(X, y, random_state=0)"
      ]
    },
    {
      "cell_type": "code",
      "execution_count": 62,
      "metadata": {
        "id": "VSUPS2ZWafck"
      },
      "outputs": [],
      "source": [
        "classifier = RandomForestClassifier()\n",
        "mm_scaler = MinMaxScaler()\n",
        "X_train_scaled = mm_scaler.fit_transform(X_train)\n",
        "X_test_scaled = mm_scaler.transform(X_test)\n",
        "\n",
        "parameters = {'n_estimators': [10, 50, 100], 'max_depth': [5, 10, 15]}\n",
        "model = GridSearchCV(classifier, param_grid=parameters)"
      ]
    },
    {
      "cell_type": "code",
      "execution_count": 63,
      "metadata": {
        "colab": {
          "base_uri": "https://localhost:8080/"
        },
        "id": "jNh6vktAafck",
        "outputId": "36a68b26-01e2-4856-e9a8-f61c29fa3c4d"
      },
      "outputs": [
        {
          "data": {
            "text/html": [
              "<style>#sk-container-id-2 {color: black;background-color: white;}#sk-container-id-2 pre{padding: 0;}#sk-container-id-2 div.sk-toggleable {background-color: white;}#sk-container-id-2 label.sk-toggleable__label {cursor: pointer;display: block;width: 100%;margin-bottom: 0;padding: 0.3em;box-sizing: border-box;text-align: center;}#sk-container-id-2 label.sk-toggleable__label-arrow:before {content: \"▸\";float: left;margin-right: 0.25em;color: #696969;}#sk-container-id-2 label.sk-toggleable__label-arrow:hover:before {color: black;}#sk-container-id-2 div.sk-estimator:hover label.sk-toggleable__label-arrow:before {color: black;}#sk-container-id-2 div.sk-toggleable__content {max-height: 0;max-width: 0;overflow: hidden;text-align: left;background-color: #f0f8ff;}#sk-container-id-2 div.sk-toggleable__content pre {margin: 0.2em;color: black;border-radius: 0.25em;background-color: #f0f8ff;}#sk-container-id-2 input.sk-toggleable__control:checked~div.sk-toggleable__content {max-height: 200px;max-width: 100%;overflow: auto;}#sk-container-id-2 input.sk-toggleable__control:checked~label.sk-toggleable__label-arrow:before {content: \"▾\";}#sk-container-id-2 div.sk-estimator input.sk-toggleable__control:checked~label.sk-toggleable__label {background-color: #d4ebff;}#sk-container-id-2 div.sk-label input.sk-toggleable__control:checked~label.sk-toggleable__label {background-color: #d4ebff;}#sk-container-id-2 input.sk-hidden--visually {border: 0;clip: rect(1px 1px 1px 1px);clip: rect(1px, 1px, 1px, 1px);height: 1px;margin: -1px;overflow: hidden;padding: 0;position: absolute;width: 1px;}#sk-container-id-2 div.sk-estimator {font-family: monospace;background-color: #f0f8ff;border: 1px dotted black;border-radius: 0.25em;box-sizing: border-box;margin-bottom: 0.5em;}#sk-container-id-2 div.sk-estimator:hover {background-color: #d4ebff;}#sk-container-id-2 div.sk-parallel-item::after {content: \"\";width: 100%;border-bottom: 1px solid gray;flex-grow: 1;}#sk-container-id-2 div.sk-label:hover label.sk-toggleable__label {background-color: #d4ebff;}#sk-container-id-2 div.sk-serial::before {content: \"\";position: absolute;border-left: 1px solid gray;box-sizing: border-box;top: 0;bottom: 0;left: 50%;z-index: 0;}#sk-container-id-2 div.sk-serial {display: flex;flex-direction: column;align-items: center;background-color: white;padding-right: 0.2em;padding-left: 0.2em;position: relative;}#sk-container-id-2 div.sk-item {position: relative;z-index: 1;}#sk-container-id-2 div.sk-parallel {display: flex;align-items: stretch;justify-content: center;background-color: white;position: relative;}#sk-container-id-2 div.sk-item::before, #sk-container-id-2 div.sk-parallel-item::before {content: \"\";position: absolute;border-left: 1px solid gray;box-sizing: border-box;top: 0;bottom: 0;left: 50%;z-index: -1;}#sk-container-id-2 div.sk-parallel-item {display: flex;flex-direction: column;z-index: 1;position: relative;background-color: white;}#sk-container-id-2 div.sk-parallel-item:first-child::after {align-self: flex-end;width: 50%;}#sk-container-id-2 div.sk-parallel-item:last-child::after {align-self: flex-start;width: 50%;}#sk-container-id-2 div.sk-parallel-item:only-child::after {width: 0;}#sk-container-id-2 div.sk-dashed-wrapped {border: 1px dashed gray;margin: 0 0.4em 0.5em 0.4em;box-sizing: border-box;padding-bottom: 0.4em;background-color: white;}#sk-container-id-2 div.sk-label label {font-family: monospace;font-weight: bold;display: inline-block;line-height: 1.2em;}#sk-container-id-2 div.sk-label-container {text-align: center;}#sk-container-id-2 div.sk-container {/* jupyter's `normalize.less` sets `[hidden] { display: none; }` but bootstrap.min.css set `[hidden] { display: none !important; }` so we also need the `!important` here to be able to override the default hidden behavior on the sphinx rendered scikit-learn.org. See: https://github.com/scikit-learn/scikit-learn/issues/21755 */display: inline-block !important;position: relative;}#sk-container-id-2 div.sk-text-repr-fallback {display: none;}</style><div id=\"sk-container-id-2\" class=\"sk-top-container\"><div class=\"sk-text-repr-fallback\"><pre>GridSearchCV(estimator=RandomForestClassifier(),\n",
              "             param_grid={&#x27;max_depth&#x27;: [5, 10, 15],\n",
              "                         &#x27;n_estimators&#x27;: [10, 50, 100]})</pre><b>In a Jupyter environment, please rerun this cell to show the HTML representation or trust the notebook. <br />On GitHub, the HTML representation is unable to render, please try loading this page with nbviewer.org.</b></div><div class=\"sk-container\" hidden><div class=\"sk-item sk-dashed-wrapped\"><div class=\"sk-label-container\"><div class=\"sk-label sk-toggleable\"><input class=\"sk-toggleable__control sk-hidden--visually\" id=\"sk-estimator-id-4\" type=\"checkbox\" ><label for=\"sk-estimator-id-4\" class=\"sk-toggleable__label sk-toggleable__label-arrow\">GridSearchCV</label><div class=\"sk-toggleable__content\"><pre>GridSearchCV(estimator=RandomForestClassifier(),\n",
              "             param_grid={&#x27;max_depth&#x27;: [5, 10, 15],\n",
              "                         &#x27;n_estimators&#x27;: [10, 50, 100]})</pre></div></div></div><div class=\"sk-parallel\"><div class=\"sk-parallel-item\"><div class=\"sk-item\"><div class=\"sk-label-container\"><div class=\"sk-label sk-toggleable\"><input class=\"sk-toggleable__control sk-hidden--visually\" id=\"sk-estimator-id-5\" type=\"checkbox\" ><label for=\"sk-estimator-id-5\" class=\"sk-toggleable__label sk-toggleable__label-arrow\">estimator: RandomForestClassifier</label><div class=\"sk-toggleable__content\"><pre>RandomForestClassifier()</pre></div></div></div><div class=\"sk-serial\"><div class=\"sk-item\"><div class=\"sk-estimator sk-toggleable\"><input class=\"sk-toggleable__control sk-hidden--visually\" id=\"sk-estimator-id-6\" type=\"checkbox\" ><label for=\"sk-estimator-id-6\" class=\"sk-toggleable__label sk-toggleable__label-arrow\">RandomForestClassifier</label><div class=\"sk-toggleable__content\"><pre>RandomForestClassifier()</pre></div></div></div></div></div></div></div></div></div></div>"
            ],
            "text/plain": [
              "GridSearchCV(estimator=RandomForestClassifier(),\n",
              "             param_grid={'max_depth': [5, 10, 15],\n",
              "                         'n_estimators': [10, 50, 100]})"
            ]
          },
          "execution_count": 63,
          "metadata": {},
          "output_type": "execute_result"
        }
      ],
      "source": [
        "model.fit(X_train_scaled, y_train)"
      ]
    },
    {
      "cell_type": "markdown",
      "metadata": {
        "id": "tAJ05cr9afcl"
      },
      "source": [
        "### Προβλέψεις και ακρίβεια του μοντέλου"
      ]
    },
    {
      "cell_type": "markdown",
      "metadata": {
        "id": "oqz0Sn31afcl"
      },
      "source": [
        "Δίνουμε τις πρώτες 10 προβλέψεις και την ακρίβεια του μοντέλου."
      ]
    },
    {
      "cell_type": "code",
      "execution_count": 64,
      "metadata": {
        "colab": {
          "base_uri": "https://localhost:8080/"
        },
        "id": "8IxMNgrHafcl",
        "outputId": "2937514a-c4a9-4c2a-db22-76bb066263a3"
      },
      "outputs": [
        {
          "data": {
            "text/plain": [
              "array([0, 0, 0, 0, 0, 0, 0, 0, 0, 0])"
            ]
          },
          "execution_count": 64,
          "metadata": {},
          "output_type": "execute_result"
        }
      ],
      "source": [
        "predictions = model.predict(X_test_scaled)\n",
        "predictions[:k]"
      ]
    },
    {
      "cell_type": "code",
      "execution_count": 65,
      "metadata": {
        "colab": {
          "base_uri": "https://localhost:8080/"
        },
        "id": "tZVcHl6kafcl",
        "outputId": "c00308a5-cd6b-41c1-ed89-9c659619a9c2"
      },
      "outputs": [
        {
          "name": "stdout",
          "output_type": "stream",
          "text": [
            "Accuracy of model: 0.9989989118607182\n"
          ]
        }
      ],
      "source": [
        "print('Accuracy of model:', accuracy_score(y_test, predictions))"
      ]
    },
    {
      "cell_type": "markdown",
      "metadata": {
        "id": "JSRcsLg1afcl"
      },
      "source": [
        "### Πιθανότητα σύνδεσης κόμβων (1, 47)"
      ]
    },
    {
      "cell_type": "markdown",
      "metadata": {
        "id": "YGLbgYK0afcl"
      },
      "source": [
        "Υπολογίζουμε την πιθανότητα να συνδεθούν οι κόμβοι (1, 47) βάσει του μοντέλου."
      ]
    },
    {
      "cell_type": "code",
      "execution_count": 66,
      "metadata": {
        "colab": {
          "base_uri": "https://localhost:8080/"
        },
        "id": "Qp0XWJGZafcm",
        "outputId": "1dfd72d8-155b-4e53-9ab6-d64871829f2f"
      },
      "outputs": [
        {
          "name": "stdout",
          "output_type": "stream",
          "text": [
            "Probability of nodes 1- 47 connecting (link 1): 0.0003\n"
          ]
        }
      ],
      "source": [
        "edge1_47 = mm_scaler.transform(dbpedia_df.loc[[\n",
        "    (1, 47)\n",
        "]][dbpedia_df.columns.drop('link')])\n",
        "\n",
        "edge1_47_proba = model.predict_proba(edge1_47)\n",
        "print(\"Probability of nodes 1- 47 connecting (link 1): {:.4f}\".format(\n",
        "    edge1_47_proba[0][1]))"
      ]
    },
    {
      "cell_type": "markdown",
      "metadata": {
        "id": "ffTJ4JNgafcm"
      },
      "source": [
        "# Πρόβλεψη συνδέσμων με embedding βασισμένο σε τυχαίους περιπάτους (Random Walks)"
      ]
    },
    {
      "cell_type": "markdown",
      "metadata": {
        "id": "n_w-1BVtafcm"
      },
      "source": [
        "## Εξαγωγή των χαρακτηριστικών του γράφου G'"
      ]
    },
    {
      "cell_type": "markdown",
      "metadata": {
        "id": "qW5MvQ0ZFegv"
      },
      "source": [
        "Με τις δοσμένες παραμέτρους:\n",
        "| p   | q   | dimensions | num_walks | walk_length | window_size | workers                     |\n",
        "|-----|-----|------------|-----------|-------------|-------------|-----------------------------|\n",
        "| 1.0 | 1.0 | 128        | 10        | 80          | 10          | multiprocessing.cpu_count() |\n",
        "\n",
        "εξάγουμε τα χαρακτηριστικά του G' μέσω του Node2Vec"
      ]
    },
    {
      "cell_type": "code",
      "execution_count": 67,
      "metadata": {
        "colab": {
          "base_uri": "https://localhost:8080/",
          "height": 49,
          "referenced_widgets": [
            "f6ac40f5f5024376abcc0412adac7e65",
            "0287e703ef244d96ac6770bd5de65965",
            "77bd28f7073c485096c91303c97dccb3",
            "adc8b8c9f11f421b8b1bf0486c0204fe",
            "a9dd353873b14ff18173354dbc3d4b27",
            "c2abb7dfb80b44b883666b982ba609a9",
            "8533a9e99bb449caac687fc59d084fc5",
            "544c43a0fdd340e28554470b377bccb8",
            "0b45e1bf93e44b1fb2bd81c3c1b43c67",
            "ed23da2f00e644baa83ccd6124a5da45",
            "9e22e5bc1b3042fc82ed40b006d01e58"
          ]
        },
        "id": "mVhpoST-afcm",
        "outputId": "34c9fcd0-766f-48ed-b387-03fda53cabd9"
      },
      "outputs": [
        {
          "data": {
            "application/vnd.jupyter.widget-view+json": {
              "model_id": "70509a20ce294fdbac21980049f9a74f",
              "version_major": 2,
              "version_minor": 0
            },
            "text/plain": [
              "Computing transition probabilities:   0%|          | 0/430 [00:00<?, ?it/s]"
            ]
          },
          "metadata": {},
          "output_type": "display_data"
        },
        {
          "name": "stderr",
          "output_type": "stream",
          "text": [
            "Generating walks (CPU: 3): 100%|██████████| 1/1 [00:00<00:00,  3.37it/s]\n",
            "Generating walks (CPU: 4): 100%|██████████| 1/1 [00:00<00:00,  3.14it/s]\n",
            "Generating walks (CPU: 5): 100%|██████████| 1/1 [00:00<00:00,  3.32it/s]\n",
            "Generating walks (CPU: 1): 100%|██████████| 2/2 [00:00<00:00,  3.45it/s]\n",
            "Generating walks (CPU: 6): 100%|██████████| 1/1 [00:00<00:00,  3.43it/s]\n",
            "Generating walks (CPU: 7): 100%|██████████| 1/1 [00:00<00:00,  3.55it/s]\n",
            "Generating walks (CPU: 2): 100%|██████████| 2/2 [00:00<00:00,  3.31it/s]\n",
            "Generating walks (CPU: 8): 100%|██████████| 1/1 [00:00<00:00,  4.14it/s]\n"
          ]
        }
      ],
      "source": [
        "node2vec_walker = Node2Vec(dbpedia_removed_G,\n",
        "                           p=1.0,\n",
        "                           q=1.0,\n",
        "                           dimensions=128,\n",
        "                           num_walks=10,\n",
        "                           walk_length=80,\n",
        "                           workers=multiprocessing.cpu_count())\n",
        "\n",
        "n2v_model = node2vec_walker.fit(window=10, min_count=1)"
      ]
    },
    {
      "cell_type": "markdown",
      "metadata": {
        "id": "gGEFkVaiafcm"
      },
      "source": [
        "## Εφαρμογή RFC"
      ]
    },
    {
      "cell_type": "markdown",
      "metadata": {
        "id": "gEbf1SiQFegw"
      },
      "source": [
        "Εφαρμόζουμε τώρα τον Random Forest Classifier ωστε να προβλέψουμε τις συνδέσεις"
      ]
    },
    {
      "cell_type": "code",
      "execution_count": 68,
      "metadata": {
        "id": "JuvEfH2rd5cf"
      },
      "outputs": [],
      "source": [
        "x = [(n2v_model.wv[str(i)] + n2v_model.wv[str(j)])\n",
        "     for i, j in unconnected_removable_edges['edges']]"
      ]
    },
    {
      "cell_type": "code",
      "execution_count": 69,
      "metadata": {
        "id": "P-lfmAh9fNOH"
      },
      "outputs": [],
      "source": [
        "target = unconnected_removable_edges['link']\n",
        "X_train, X_test, y_train, y_test = train_test_split(x, target, random_state=0)"
      ]
    },
    {
      "cell_type": "code",
      "execution_count": 70,
      "metadata": {
        "colab": {
          "base_uri": "https://localhost:8080/"
        },
        "id": "iv9iLmLWgFJP",
        "outputId": "392261c7-e67f-4188-99b5-043fb0aabc03"
      },
      "outputs": [
        {
          "data": {
            "text/html": [
              "<style>#sk-container-id-3 {color: black;background-color: white;}#sk-container-id-3 pre{padding: 0;}#sk-container-id-3 div.sk-toggleable {background-color: white;}#sk-container-id-3 label.sk-toggleable__label {cursor: pointer;display: block;width: 100%;margin-bottom: 0;padding: 0.3em;box-sizing: border-box;text-align: center;}#sk-container-id-3 label.sk-toggleable__label-arrow:before {content: \"▸\";float: left;margin-right: 0.25em;color: #696969;}#sk-container-id-3 label.sk-toggleable__label-arrow:hover:before {color: black;}#sk-container-id-3 div.sk-estimator:hover label.sk-toggleable__label-arrow:before {color: black;}#sk-container-id-3 div.sk-toggleable__content {max-height: 0;max-width: 0;overflow: hidden;text-align: left;background-color: #f0f8ff;}#sk-container-id-3 div.sk-toggleable__content pre {margin: 0.2em;color: black;border-radius: 0.25em;background-color: #f0f8ff;}#sk-container-id-3 input.sk-toggleable__control:checked~div.sk-toggleable__content {max-height: 200px;max-width: 100%;overflow: auto;}#sk-container-id-3 input.sk-toggleable__control:checked~label.sk-toggleable__label-arrow:before {content: \"▾\";}#sk-container-id-3 div.sk-estimator input.sk-toggleable__control:checked~label.sk-toggleable__label {background-color: #d4ebff;}#sk-container-id-3 div.sk-label input.sk-toggleable__control:checked~label.sk-toggleable__label {background-color: #d4ebff;}#sk-container-id-3 input.sk-hidden--visually {border: 0;clip: rect(1px 1px 1px 1px);clip: rect(1px, 1px, 1px, 1px);height: 1px;margin: -1px;overflow: hidden;padding: 0;position: absolute;width: 1px;}#sk-container-id-3 div.sk-estimator {font-family: monospace;background-color: #f0f8ff;border: 1px dotted black;border-radius: 0.25em;box-sizing: border-box;margin-bottom: 0.5em;}#sk-container-id-3 div.sk-estimator:hover {background-color: #d4ebff;}#sk-container-id-3 div.sk-parallel-item::after {content: \"\";width: 100%;border-bottom: 1px solid gray;flex-grow: 1;}#sk-container-id-3 div.sk-label:hover label.sk-toggleable__label {background-color: #d4ebff;}#sk-container-id-3 div.sk-serial::before {content: \"\";position: absolute;border-left: 1px solid gray;box-sizing: border-box;top: 0;bottom: 0;left: 50%;z-index: 0;}#sk-container-id-3 div.sk-serial {display: flex;flex-direction: column;align-items: center;background-color: white;padding-right: 0.2em;padding-left: 0.2em;position: relative;}#sk-container-id-3 div.sk-item {position: relative;z-index: 1;}#sk-container-id-3 div.sk-parallel {display: flex;align-items: stretch;justify-content: center;background-color: white;position: relative;}#sk-container-id-3 div.sk-item::before, #sk-container-id-3 div.sk-parallel-item::before {content: \"\";position: absolute;border-left: 1px solid gray;box-sizing: border-box;top: 0;bottom: 0;left: 50%;z-index: -1;}#sk-container-id-3 div.sk-parallel-item {display: flex;flex-direction: column;z-index: 1;position: relative;background-color: white;}#sk-container-id-3 div.sk-parallel-item:first-child::after {align-self: flex-end;width: 50%;}#sk-container-id-3 div.sk-parallel-item:last-child::after {align-self: flex-start;width: 50%;}#sk-container-id-3 div.sk-parallel-item:only-child::after {width: 0;}#sk-container-id-3 div.sk-dashed-wrapped {border: 1px dashed gray;margin: 0 0.4em 0.5em 0.4em;box-sizing: border-box;padding-bottom: 0.4em;background-color: white;}#sk-container-id-3 div.sk-label label {font-family: monospace;font-weight: bold;display: inline-block;line-height: 1.2em;}#sk-container-id-3 div.sk-label-container {text-align: center;}#sk-container-id-3 div.sk-container {/* jupyter's `normalize.less` sets `[hidden] { display: none; }` but bootstrap.min.css set `[hidden] { display: none !important; }` so we also need the `!important` here to be able to override the default hidden behavior on the sphinx rendered scikit-learn.org. See: https://github.com/scikit-learn/scikit-learn/issues/21755 */display: inline-block !important;position: relative;}#sk-container-id-3 div.sk-text-repr-fallback {display: none;}</style><div id=\"sk-container-id-3\" class=\"sk-top-container\"><div class=\"sk-text-repr-fallback\"><pre>RandomForestClassifier(max_depth=2, random_state=0)</pre><b>In a Jupyter environment, please rerun this cell to show the HTML representation or trust the notebook. <br />On GitHub, the HTML representation is unable to render, please try loading this page with nbviewer.org.</b></div><div class=\"sk-container\" hidden><div class=\"sk-item\"><div class=\"sk-estimator sk-toggleable\"><input class=\"sk-toggleable__control sk-hidden--visually\" id=\"sk-estimator-id-7\" type=\"checkbox\" checked><label for=\"sk-estimator-id-7\" class=\"sk-toggleable__label sk-toggleable__label-arrow\">RandomForestClassifier</label><div class=\"sk-toggleable__content\"><pre>RandomForestClassifier(max_depth=2, random_state=0)</pre></div></div></div></div></div>"
            ],
            "text/plain": [
              "RandomForestClassifier(max_depth=2, random_state=0)"
            ]
          },
          "execution_count": 70,
          "metadata": {},
          "output_type": "execute_result"
        }
      ],
      "source": [
        "classifier = RandomForestClassifier(max_depth=2, random_state=0)\n",
        "classifier.fit(X_train, y_train)"
      ]
    },
    {
      "cell_type": "markdown",
      "metadata": {
        "id": "U7pNA-YKafcm"
      },
      "source": [
        "## Υπολογισμός ακρίβειας μοντέλου"
      ]
    },
    {
      "cell_type": "markdown",
      "metadata": {
        "id": "7STl3gkdFegy"
      },
      "source": [
        "Στη συνέχεια υπολογίζουμε την ακρίβεια του μοντέλου"
      ]
    },
    {
      "cell_type": "code",
      "execution_count": 71,
      "metadata": {
        "colab": {
          "base_uri": "https://localhost:8080/"
        },
        "id": "oSkbvK7dgFon",
        "outputId": "b683d5ba-56b8-483f-da80-509ecda0c1f6"
      },
      "outputs": [
        {
          "name": "stdout",
          "output_type": "stream",
          "text": [
            "Accuracy of model: 0.9987377584330794\n"
          ]
        }
      ],
      "source": [
        "predictions = classifier.predict(X_test)\n",
        "print('Accuracy of model:', accuracy_score(y_test, predictions))"
      ]
    },
    {
      "cell_type": "markdown",
      "metadata": {
        "id": "Z8D8Td7oafcm"
      },
      "source": [
        "## Ερώτηση Bonus"
      ]
    },
    {
      "cell_type": "markdown",
      "metadata": {
        "id": "FjTFHv-Jafcm"
      },
      "source": [
        "Για τους binary operators για learning των edge features με τον αλγόριθμο Node2Vec που αναφέρονται στο [[3]](\"https://cs.stanford.edu/~jure/pubs/node2vec-kdd16.pdf\") ((α) Average, (β) Hadamard, (γ) Weighted-L1 και (δ) Weighted-L2) μελετάμε την απόδοση τους"
      ]
    },
    {
      "cell_type": "code",
      "execution_count": 72,
      "metadata": {
        "colab": {
          "base_uri": "https://localhost:8080/"
        },
        "id": "FgLUVjfXiLU7",
        "outputId": "6d92a401-8cd6-4125-d724-73159c93bc10"
      },
      "outputs": [
        {
          "name": "stdout",
          "output_type": "stream",
          "text": [
            "╒═══════════════════╤════════════╕\n",
            "│ Binary Operator   │   Accuracy │\n",
            "╞═══════════════════╪════════════╡\n",
            "│ Average           │   0.998738 │\n",
            "├───────────────────┼────────────┤\n",
            "│ Hadamard          │   0.998738 │\n",
            "├───────────────────┼────────────┤\n",
            "│ Weighted- L1      │   0.997606 │\n",
            "├───────────────────┼────────────┤\n",
            "│ Weighted- L2      │   0.997606 │\n",
            "╘═══════════════════╧════════════╛\n"
          ]
        }
      ],
      "source": [
        "def binary_ops(Embedder):\n",
        "    edges_embs = Embedder(keyed_vectors=n2v_model.wv)\n",
        "\n",
        "    x = [\n",
        "        edges_embs[(str(i), str(j))]\n",
        "        for i, j in unconnected_removable_edges['edges']\n",
        "    ]\n",
        "\n",
        "    target = unconnected_removable_edges['link']\n",
        "    X_train, X_test, y_train, y_test = train_test_split(x,\n",
        "                                                        target,\n",
        "                                                        random_state=0)\n",
        "    classifier = RandomForestClassifier(max_depth=2, random_state=0)\n",
        "    classifier.fit(X_train, y_train)\n",
        "    predictions = classifier.predict(X_test)\n",
        "    return accuracy_score(y_test, predictions)\n",
        "\n",
        "table = [[n, binary_ops(e)] for n, e in [(\"Average\", AverageEmbedder), (\"Hadamard\", HadamardEmbedder),\n",
        "             (\"Weighted- L1\", WeightedL1Embedder),\n",
        "             (\"Weighted- L2\", WeightedL2Embedder)]]\n",
        "headers = [\"Binary Operator\", \"Accuracy\"]\n",
        "print(tbl(table, headers))"
      ]
    },
    {
      "cell_type": "markdown",
      "metadata": {},
      "source": [
        "Παρατηρούμε πως όλα τα μοντέλα που εκπαιδεύσαμε έχουν accuracy 99%. H μόνη διαφορά βρίσκεται στο 3ο δεκαδικό και μετά. Συγκεκριμένα το αρχικό μοντέλο W2V και τα μοντέλα με τους embedders Average και Hadamard εχουν accuracy 99.8% ενώ τα υπόλοιπα, Weighted L1, L2 έχουν accuracy 99.7%. Από τα παραπάνω θα επιλέγαμε το απλό μοντέλο W2V αφού είναι το πιο εύκολο και γρήγορα να υλοποιηθεί προγραμματιστικά και πιο γρήγορο στο runtime αφού δεν καλεί περιττές βιβλιοθήκες και εντολές."
      ]
    },
    {
      "cell_type": "markdown",
      "metadata": {
        "id": "B6KM9I5wafcn"
      },
      "source": [
        "## Βιβλιογραφία"
      ]
    },
    {
      "cell_type": "markdown",
      "metadata": {
        "id": "5KmiBxzxafcn"
      },
      "source": [
        "[[1]\tJérôme Kunegis. KONECT - The Koblenz Network Collection. In Proc. Int. Conf. on World Wide Web Companion, pages 1343-1350, 2013.](https://dl.acm.org/doi/10.1145/2487788.2488173\")\n",
        "\n",
        "[[2]\tSören Auer, Christian Bizer, Georgi Kobilarov, Jens Lehmann, Richard Cyganiak, and Zachary Ives. DBpedia: A nucleus for a web of open data. In Proc. Int. Semant. Web Conf., pages 722-735, 2008.](https://link.springer.com/chapter/10.1007/978-3-540-76298-0_52)\n",
        "\n",
        "[[3] A. Grover, J. Leskovec, Node2vec: Scalable Feature Learning for Networks. ACM KDD, 2016.](https://cs.stanford.edu/~jure/pubs/node2vec-kdd16.pdf)\n",
        "\n",
        "[[4] T.Mikolov, I.Sutskever, K.Chen, G.S.Corrado and J.Dean, Distributed representations of words and phrases and their compositionality. In NIPS, 2013.](https://proceedings.neurips.cc/paper/2013/file/9aa42b31882ec039965f3c4923ce901b-Paper.pdf)"
      ]
    }
  ],
  "metadata": {
    "colab": {
      "collapsed_sections": [],
      "name": "SNA_lab3_Marios_Kerasiotis.ipynb",
      "provenance": []
    },
    "kernelspec": {
      "display_name": "sna",
      "language": "python",
      "name": "python3"
    },
    "language_info": {
      "codemirror_mode": {
        "name": "ipython",
        "version": 3
      },
      "file_extension": ".py",
      "mimetype": "text/x-python",
      "name": "python",
      "nbconvert_exporter": "python",
      "pygments_lexer": "ipython3",
      "version": "3.10.8 (main, Nov 24 2022, 14:13:03) [GCC 11.2.0]"
    },
    "toc-autonumbering": true,
    "vscode": {
      "interpreter": {
        "hash": "76d610cf4d1c56b3d10e69dcbee4333598110defc333120a9d5d56475d4378ea"
      }
    },
    "widgets": {
      "application/vnd.jupyter.widget-state+json": {
        "0287e703ef244d96ac6770bd5de65965": {
          "model_module": "@jupyter-widgets/base",
          "model_module_version": "1.2.0",
          "model_name": "LayoutModel",
          "state": {
            "_model_module": "@jupyter-widgets/base",
            "_model_module_version": "1.2.0",
            "_model_name": "LayoutModel",
            "_view_count": null,
            "_view_module": "@jupyter-widgets/base",
            "_view_module_version": "1.2.0",
            "_view_name": "LayoutView",
            "align_content": null,
            "align_items": null,
            "align_self": null,
            "border": null,
            "bottom": null,
            "display": null,
            "flex": null,
            "flex_flow": null,
            "grid_area": null,
            "grid_auto_columns": null,
            "grid_auto_flow": null,
            "grid_auto_rows": null,
            "grid_column": null,
            "grid_gap": null,
            "grid_row": null,
            "grid_template_areas": null,
            "grid_template_columns": null,
            "grid_template_rows": null,
            "height": null,
            "justify_content": null,
            "justify_items": null,
            "left": null,
            "margin": null,
            "max_height": null,
            "max_width": null,
            "min_height": null,
            "min_width": null,
            "object_fit": null,
            "object_position": null,
            "order": null,
            "overflow": null,
            "overflow_x": null,
            "overflow_y": null,
            "padding": null,
            "right": null,
            "top": null,
            "visibility": null,
            "width": null
          }
        },
        "0b45e1bf93e44b1fb2bd81c3c1b43c67": {
          "model_module": "@jupyter-widgets/base",
          "model_module_version": "1.2.0",
          "model_name": "LayoutModel",
          "state": {
            "_model_module": "@jupyter-widgets/base",
            "_model_module_version": "1.2.0",
            "_model_name": "LayoutModel",
            "_view_count": null,
            "_view_module": "@jupyter-widgets/base",
            "_view_module_version": "1.2.0",
            "_view_name": "LayoutView",
            "align_content": null,
            "align_items": null,
            "align_self": null,
            "border": null,
            "bottom": null,
            "display": null,
            "flex": null,
            "flex_flow": null,
            "grid_area": null,
            "grid_auto_columns": null,
            "grid_auto_flow": null,
            "grid_auto_rows": null,
            "grid_column": null,
            "grid_gap": null,
            "grid_row": null,
            "grid_template_areas": null,
            "grid_template_columns": null,
            "grid_template_rows": null,
            "height": null,
            "justify_content": null,
            "justify_items": null,
            "left": null,
            "margin": null,
            "max_height": null,
            "max_width": null,
            "min_height": null,
            "min_width": null,
            "object_fit": null,
            "object_position": null,
            "order": null,
            "overflow": null,
            "overflow_x": null,
            "overflow_y": null,
            "padding": null,
            "right": null,
            "top": null,
            "visibility": null,
            "width": null
          }
        },
        "544c43a0fdd340e28554470b377bccb8": {
          "model_module": "@jupyter-widgets/controls",
          "model_module_version": "1.5.0",
          "model_name": "ProgressStyleModel",
          "state": {
            "_model_module": "@jupyter-widgets/controls",
            "_model_module_version": "1.5.0",
            "_model_name": "ProgressStyleModel",
            "_view_count": null,
            "_view_module": "@jupyter-widgets/base",
            "_view_module_version": "1.2.0",
            "_view_name": "StyleView",
            "bar_color": null,
            "description_width": ""
          }
        },
        "77bd28f7073c485096c91303c97dccb3": {
          "model_module": "@jupyter-widgets/controls",
          "model_module_version": "1.5.0",
          "model_name": "HTMLModel",
          "state": {
            "_dom_classes": [],
            "_model_module": "@jupyter-widgets/controls",
            "_model_module_version": "1.5.0",
            "_model_name": "HTMLModel",
            "_view_count": null,
            "_view_module": "@jupyter-widgets/controls",
            "_view_module_version": "1.5.0",
            "_view_name": "HTMLView",
            "description": "",
            "description_tooltip": null,
            "layout": "IPY_MODEL_8533a9e99bb449caac687fc59d084fc5",
            "placeholder": "​",
            "style": "IPY_MODEL_c2abb7dfb80b44b883666b982ba609a9",
            "value": "Computing transition probabilities: 100%"
          }
        },
        "8533a9e99bb449caac687fc59d084fc5": {
          "model_module": "@jupyter-widgets/base",
          "model_module_version": "1.2.0",
          "model_name": "LayoutModel",
          "state": {
            "_model_module": "@jupyter-widgets/base",
            "_model_module_version": "1.2.0",
            "_model_name": "LayoutModel",
            "_view_count": null,
            "_view_module": "@jupyter-widgets/base",
            "_view_module_version": "1.2.0",
            "_view_name": "LayoutView",
            "align_content": null,
            "align_items": null,
            "align_self": null,
            "border": null,
            "bottom": null,
            "display": null,
            "flex": null,
            "flex_flow": null,
            "grid_area": null,
            "grid_auto_columns": null,
            "grid_auto_flow": null,
            "grid_auto_rows": null,
            "grid_column": null,
            "grid_gap": null,
            "grid_row": null,
            "grid_template_areas": null,
            "grid_template_columns": null,
            "grid_template_rows": null,
            "height": null,
            "justify_content": null,
            "justify_items": null,
            "left": null,
            "margin": null,
            "max_height": null,
            "max_width": null,
            "min_height": null,
            "min_width": null,
            "object_fit": null,
            "object_position": null,
            "order": null,
            "overflow": null,
            "overflow_x": null,
            "overflow_y": null,
            "padding": null,
            "right": null,
            "top": null,
            "visibility": null,
            "width": null
          }
        },
        "9e22e5bc1b3042fc82ed40b006d01e58": {
          "model_module": "@jupyter-widgets/base",
          "model_module_version": "1.2.0",
          "model_name": "LayoutModel",
          "state": {
            "_model_module": "@jupyter-widgets/base",
            "_model_module_version": "1.2.0",
            "_model_name": "LayoutModel",
            "_view_count": null,
            "_view_module": "@jupyter-widgets/base",
            "_view_module_version": "1.2.0",
            "_view_name": "LayoutView",
            "align_content": null,
            "align_items": null,
            "align_self": null,
            "border": null,
            "bottom": null,
            "display": null,
            "flex": null,
            "flex_flow": null,
            "grid_area": null,
            "grid_auto_columns": null,
            "grid_auto_flow": null,
            "grid_auto_rows": null,
            "grid_column": null,
            "grid_gap": null,
            "grid_row": null,
            "grid_template_areas": null,
            "grid_template_columns": null,
            "grid_template_rows": null,
            "height": null,
            "justify_content": null,
            "justify_items": null,
            "left": null,
            "margin": null,
            "max_height": null,
            "max_width": null,
            "min_height": null,
            "min_width": null,
            "object_fit": null,
            "object_position": null,
            "order": null,
            "overflow": null,
            "overflow_x": null,
            "overflow_y": null,
            "padding": null,
            "right": null,
            "top": null,
            "visibility": null,
            "width": null
          }
        },
        "a9dd353873b14ff18173354dbc3d4b27": {
          "model_module": "@jupyter-widgets/controls",
          "model_module_version": "1.5.0",
          "model_name": "HTMLModel",
          "state": {
            "_dom_classes": [],
            "_model_module": "@jupyter-widgets/controls",
            "_model_module_version": "1.5.0",
            "_model_name": "HTMLModel",
            "_view_count": null,
            "_view_module": "@jupyter-widgets/controls",
            "_view_module_version": "1.5.0",
            "_view_name": "HTMLView",
            "description": "",
            "description_tooltip": null,
            "layout": "IPY_MODEL_9e22e5bc1b3042fc82ed40b006d01e58",
            "placeholder": "​",
            "style": "IPY_MODEL_ed23da2f00e644baa83ccd6124a5da45",
            "value": " 430/430 [00:00&lt;00:00, 5462.74it/s]"
          }
        },
        "adc8b8c9f11f421b8b1bf0486c0204fe": {
          "model_module": "@jupyter-widgets/controls",
          "model_module_version": "1.5.0",
          "model_name": "FloatProgressModel",
          "state": {
            "_dom_classes": [],
            "_model_module": "@jupyter-widgets/controls",
            "_model_module_version": "1.5.0",
            "_model_name": "FloatProgressModel",
            "_view_count": null,
            "_view_module": "@jupyter-widgets/controls",
            "_view_module_version": "1.5.0",
            "_view_name": "ProgressView",
            "bar_style": "success",
            "description": "",
            "description_tooltip": null,
            "layout": "IPY_MODEL_0b45e1bf93e44b1fb2bd81c3c1b43c67",
            "max": 430,
            "min": 0,
            "orientation": "horizontal",
            "style": "IPY_MODEL_544c43a0fdd340e28554470b377bccb8",
            "value": 430
          }
        },
        "c2abb7dfb80b44b883666b982ba609a9": {
          "model_module": "@jupyter-widgets/controls",
          "model_module_version": "1.5.0",
          "model_name": "DescriptionStyleModel",
          "state": {
            "_model_module": "@jupyter-widgets/controls",
            "_model_module_version": "1.5.0",
            "_model_name": "DescriptionStyleModel",
            "_view_count": null,
            "_view_module": "@jupyter-widgets/base",
            "_view_module_version": "1.2.0",
            "_view_name": "StyleView",
            "description_width": ""
          }
        },
        "ed23da2f00e644baa83ccd6124a5da45": {
          "model_module": "@jupyter-widgets/controls",
          "model_module_version": "1.5.0",
          "model_name": "DescriptionStyleModel",
          "state": {
            "_model_module": "@jupyter-widgets/controls",
            "_model_module_version": "1.5.0",
            "_model_name": "DescriptionStyleModel",
            "_view_count": null,
            "_view_module": "@jupyter-widgets/base",
            "_view_module_version": "1.2.0",
            "_view_name": "StyleView",
            "description_width": ""
          }
        },
        "f6ac40f5f5024376abcc0412adac7e65": {
          "model_module": "@jupyter-widgets/controls",
          "model_module_version": "1.5.0",
          "model_name": "HBoxModel",
          "state": {
            "_dom_classes": [],
            "_model_module": "@jupyter-widgets/controls",
            "_model_module_version": "1.5.0",
            "_model_name": "HBoxModel",
            "_view_count": null,
            "_view_module": "@jupyter-widgets/controls",
            "_view_module_version": "1.5.0",
            "_view_name": "HBoxView",
            "box_style": "",
            "children": [
              "IPY_MODEL_77bd28f7073c485096c91303c97dccb3",
              "IPY_MODEL_adc8b8c9f11f421b8b1bf0486c0204fe",
              "IPY_MODEL_a9dd353873b14ff18173354dbc3d4b27"
            ],
            "layout": "IPY_MODEL_0287e703ef244d96ac6770bd5de65965"
          }
        }
      }
    }
  },
  "nbformat": 4,
  "nbformat_minor": 0
}
